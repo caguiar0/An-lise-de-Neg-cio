{
 "cells": [
  {
   "cell_type": "markdown",
   "metadata": {},
   "source": [
    "Olá, \n",
    "\n",
    "Meu nome é Ramon. Fico feliz em revisar seu projeto. Ao ao longo do texto farei algumas observações sobre melhorias no código e também farei comentários sobre suas percepções sobre o assunto. Estarei aberto a feedbacks e discussões sobre o tema.\n",
    "\n",
    "**Peço que mantenha e não altere os comentários que eu fizer por aqui para que possamos nos localizar posteriormente, ok?**\n",
    "\n",
    "Mais uma coisa, vamos utilizar um código de cores para você entender os meus feedbacks no seu notebook. Funciona assim:\n",
    "\n",
    "<div class=\"alert alert-block alert-success\">\n",
    "<b> Comentário do revisor: </b> <a class=\"tocSkip\"></a>\n",
    "\n",
    "Sucesso. Tudo foi feito corretamente.\n",
    "</div>\n",
    "\n",
    "<div class=\"alert alert-block alert-warning\">\n",
    "<b>Comentário do revisor: </b> <a class=\"tocSkip\"></a>\n",
    "\n",
    "Alerta não crítco, mas que pode ser corrigido para melhoria geral no seu código/análise\n",
    "</div>\n",
    "\n",
    "<div class=\"alert alert-block alert-danger\">\n",
    "\n",
    "<b>Comentário do revisor: </b> <a class=\"tocSkip\"></a>\n",
    "    \n",
    "Erro que precisa ser consertado, caso contrário seu projeto **não** será aceito.\n",
    "</div>\n",
    "\n",
    "Você pode me responder usando isso:\n",
    "<div class=\"alert alert-block alert-info\">\n",
    "<b>Resposta do Aluno.</b> <a class=\"tocSkip\"></a>\n",
    "</div>\n",
    "\n",
    "###\n",
    "\n",
    "<div class=\"alert alert-block alert-success\">\n",
    "<b>Comentário Geral do Revisor</b> <a class=\"tocSkip\"></a>\n",
    "\n",
    "Obrigado por enviar seu projeto. \n",
    "    \n",
    "   \n",
    "<span class=\"text-danger\"> O projeto apresenta vários pontos de correção. Vamos fazer mais uma iteraçãõ. Caso não seja possível sanar, vou pedir uma mentoria para você.</span>\n",
    "     \n",
    "Conte conosco. Lembre-se de que você pode tirar dúvidas com revisores usando os comentários ou buscar ajuda de um tutor.\n",
    "Bom trabalho.\n",
    "</div>\n",
    "\n"
   ]
  },
  {
   "cell_type": "markdown",
   "metadata": {},
   "source": [
    "<div class=\"alert alert-block alert-danger\">\n",
    "\n",
    "<b>Comentário do revisor: </b> <a class=\"tocSkip\"></a>\n",
    "    \n",
    "Houve avanços mas o projeto voltou com erro de execução </div>"
   ]
  },
  {
   "cell_type": "code",
   "execution_count": 2,
   "metadata": {},
   "outputs": [],
   "source": [
    "#importando biblotecas\n",
    "import pandas as pd\n",
    "import numpy as np\n",
    "from matplotlib import pyplot as plt\n",
    "import seaborn as sns\n",
    "import scipy.stats as st"
   ]
  },
  {
   "cell_type": "code",
   "execution_count": 3,
   "metadata": {},
   "outputs": [],
   "source": [
    "visits_log_us = pd.read_csv('/datasets/visits_log_us.csv') \n",
    "orders_log_us = pd.read_csv('/datasets/orders_log_us.csv')\n",
    "costs_us = pd.read_csv('/datasets/costs_us.csv')"
   ]
  },
  {
   "cell_type": "code",
   "execution_count": 4,
   "metadata": {
    "scrolled": true
   },
   "outputs": [
    {
     "data": {
      "text/html": [
       "<div>\n",
       "<style scoped>\n",
       "    .dataframe tbody tr th:only-of-type {\n",
       "        vertical-align: middle;\n",
       "    }\n",
       "\n",
       "    .dataframe tbody tr th {\n",
       "        vertical-align: top;\n",
       "    }\n",
       "\n",
       "    .dataframe thead th {\n",
       "        text-align: right;\n",
       "    }\n",
       "</style>\n",
       "<table border=\"1\" class=\"dataframe\">\n",
       "  <thead>\n",
       "    <tr style=\"text-align: right;\">\n",
       "      <th></th>\n",
       "      <th>Device</th>\n",
       "      <th>End Ts</th>\n",
       "      <th>Source Id</th>\n",
       "      <th>Start Ts</th>\n",
       "      <th>Uid</th>\n",
       "    </tr>\n",
       "  </thead>\n",
       "  <tbody>\n",
       "    <tr>\n",
       "      <th>0</th>\n",
       "      <td>touch</td>\n",
       "      <td>2017-12-20 17:38:00</td>\n",
       "      <td>4</td>\n",
       "      <td>2017-12-20 17:20:00</td>\n",
       "      <td>16879256277535980062</td>\n",
       "    </tr>\n",
       "    <tr>\n",
       "      <th>1</th>\n",
       "      <td>desktop</td>\n",
       "      <td>2018-02-19 17:21:00</td>\n",
       "      <td>2</td>\n",
       "      <td>2018-02-19 16:53:00</td>\n",
       "      <td>104060357244891740</td>\n",
       "    </tr>\n",
       "    <tr>\n",
       "      <th>2</th>\n",
       "      <td>touch</td>\n",
       "      <td>2017-07-01 01:54:00</td>\n",
       "      <td>5</td>\n",
       "      <td>2017-07-01 01:54:00</td>\n",
       "      <td>7459035603376831527</td>\n",
       "    </tr>\n",
       "    <tr>\n",
       "      <th>3</th>\n",
       "      <td>desktop</td>\n",
       "      <td>2018-05-20 11:23:00</td>\n",
       "      <td>9</td>\n",
       "      <td>2018-05-20 10:59:00</td>\n",
       "      <td>16174680259334210214</td>\n",
       "    </tr>\n",
       "    <tr>\n",
       "      <th>4</th>\n",
       "      <td>desktop</td>\n",
       "      <td>2017-12-27 14:06:00</td>\n",
       "      <td>3</td>\n",
       "      <td>2017-12-27 14:06:00</td>\n",
       "      <td>9969694820036681168</td>\n",
       "    </tr>\n",
       "  </tbody>\n",
       "</table>\n",
       "</div>"
      ],
      "text/plain": [
       "    Device               End Ts  Source Id             Start Ts  \\\n",
       "0    touch  2017-12-20 17:38:00          4  2017-12-20 17:20:00   \n",
       "1  desktop  2018-02-19 17:21:00          2  2018-02-19 16:53:00   \n",
       "2    touch  2017-07-01 01:54:00          5  2017-07-01 01:54:00   \n",
       "3  desktop  2018-05-20 11:23:00          9  2018-05-20 10:59:00   \n",
       "4  desktop  2017-12-27 14:06:00          3  2017-12-27 14:06:00   \n",
       "\n",
       "                    Uid  \n",
       "0  16879256277535980062  \n",
       "1    104060357244891740  \n",
       "2   7459035603376831527  \n",
       "3  16174680259334210214  \n",
       "4   9969694820036681168  "
      ]
     },
     "execution_count": 4,
     "metadata": {},
     "output_type": "execute_result"
    }
   ],
   "source": [
    "visits_log_us.head()"
   ]
  },
  {
   "cell_type": "code",
   "execution_count": 5,
   "metadata": {
    "scrolled": false
   },
   "outputs": [
    {
     "name": "stdout",
     "output_type": "stream",
     "text": [
      "<class 'pandas.core.frame.DataFrame'>\n",
      "RangeIndex: 359400 entries, 0 to 359399\n",
      "Data columns (total 5 columns):\n",
      " #   Column     Non-Null Count   Dtype \n",
      "---  ------     --------------   ----- \n",
      " 0   Device     359400 non-null  object\n",
      " 1   End Ts     359400 non-null  object\n",
      " 2   Source Id  359400 non-null  int64 \n",
      " 3   Start Ts   359400 non-null  object\n",
      " 4   Uid        359400 non-null  uint64\n",
      "dtypes: int64(1), object(3), uint64(1)\n",
      "memory usage: 13.7+ MB\n"
     ]
    }
   ],
   "source": [
    "visits_log_us.info()"
   ]
  },
  {
   "cell_type": "code",
   "execution_count": 6,
   "metadata": {
    "scrolled": true
   },
   "outputs": [
    {
     "data": {
      "text/html": [
       "<div>\n",
       "<style scoped>\n",
       "    .dataframe tbody tr th:only-of-type {\n",
       "        vertical-align: middle;\n",
       "    }\n",
       "\n",
       "    .dataframe tbody tr th {\n",
       "        vertical-align: top;\n",
       "    }\n",
       "\n",
       "    .dataframe thead th {\n",
       "        text-align: right;\n",
       "    }\n",
       "</style>\n",
       "<table border=\"1\" class=\"dataframe\">\n",
       "  <thead>\n",
       "    <tr style=\"text-align: right;\">\n",
       "      <th></th>\n",
       "      <th>Buy Ts</th>\n",
       "      <th>Revenue</th>\n",
       "      <th>Uid</th>\n",
       "    </tr>\n",
       "  </thead>\n",
       "  <tbody>\n",
       "    <tr>\n",
       "      <th>0</th>\n",
       "      <td>2017-06-01 00:10:00</td>\n",
       "      <td>17.00</td>\n",
       "      <td>10329302124590727494</td>\n",
       "    </tr>\n",
       "    <tr>\n",
       "      <th>1</th>\n",
       "      <td>2017-06-01 00:25:00</td>\n",
       "      <td>0.55</td>\n",
       "      <td>11627257723692907447</td>\n",
       "    </tr>\n",
       "    <tr>\n",
       "      <th>2</th>\n",
       "      <td>2017-06-01 00:27:00</td>\n",
       "      <td>0.37</td>\n",
       "      <td>17903680561304213844</td>\n",
       "    </tr>\n",
       "    <tr>\n",
       "      <th>3</th>\n",
       "      <td>2017-06-01 00:29:00</td>\n",
       "      <td>0.55</td>\n",
       "      <td>16109239769442553005</td>\n",
       "    </tr>\n",
       "    <tr>\n",
       "      <th>4</th>\n",
       "      <td>2017-06-01 07:58:00</td>\n",
       "      <td>0.37</td>\n",
       "      <td>14200605875248379450</td>\n",
       "    </tr>\n",
       "  </tbody>\n",
       "</table>\n",
       "</div>"
      ],
      "text/plain": [
       "                Buy Ts  Revenue                   Uid\n",
       "0  2017-06-01 00:10:00    17.00  10329302124590727494\n",
       "1  2017-06-01 00:25:00     0.55  11627257723692907447\n",
       "2  2017-06-01 00:27:00     0.37  17903680561304213844\n",
       "3  2017-06-01 00:29:00     0.55  16109239769442553005\n",
       "4  2017-06-01 07:58:00     0.37  14200605875248379450"
      ]
     },
     "execution_count": 6,
     "metadata": {},
     "output_type": "execute_result"
    }
   ],
   "source": [
    "orders_log_us.head()"
   ]
  },
  {
   "cell_type": "code",
   "execution_count": 7,
   "metadata": {},
   "outputs": [
    {
     "name": "stdout",
     "output_type": "stream",
     "text": [
      "<class 'pandas.core.frame.DataFrame'>\n",
      "RangeIndex: 50415 entries, 0 to 50414\n",
      "Data columns (total 3 columns):\n",
      " #   Column   Non-Null Count  Dtype  \n",
      "---  ------   --------------  -----  \n",
      " 0   Buy Ts   50415 non-null  object \n",
      " 1   Revenue  50415 non-null  float64\n",
      " 2   Uid      50415 non-null  uint64 \n",
      "dtypes: float64(1), object(1), uint64(1)\n",
      "memory usage: 1.2+ MB\n"
     ]
    }
   ],
   "source": [
    "orders_log_us.info()"
   ]
  },
  {
   "cell_type": "code",
   "execution_count": 8,
   "metadata": {},
   "outputs": [
    {
     "data": {
      "text/html": [
       "<div>\n",
       "<style scoped>\n",
       "    .dataframe tbody tr th:only-of-type {\n",
       "        vertical-align: middle;\n",
       "    }\n",
       "\n",
       "    .dataframe tbody tr th {\n",
       "        vertical-align: top;\n",
       "    }\n",
       "\n",
       "    .dataframe thead th {\n",
       "        text-align: right;\n",
       "    }\n",
       "</style>\n",
       "<table border=\"1\" class=\"dataframe\">\n",
       "  <thead>\n",
       "    <tr style=\"text-align: right;\">\n",
       "      <th></th>\n",
       "      <th>source_id</th>\n",
       "      <th>dt</th>\n",
       "      <th>costs</th>\n",
       "    </tr>\n",
       "  </thead>\n",
       "  <tbody>\n",
       "    <tr>\n",
       "      <th>0</th>\n",
       "      <td>1</td>\n",
       "      <td>2017-06-01</td>\n",
       "      <td>75.20</td>\n",
       "    </tr>\n",
       "    <tr>\n",
       "      <th>1</th>\n",
       "      <td>1</td>\n",
       "      <td>2017-06-02</td>\n",
       "      <td>62.25</td>\n",
       "    </tr>\n",
       "    <tr>\n",
       "      <th>2</th>\n",
       "      <td>1</td>\n",
       "      <td>2017-06-03</td>\n",
       "      <td>36.53</td>\n",
       "    </tr>\n",
       "    <tr>\n",
       "      <th>3</th>\n",
       "      <td>1</td>\n",
       "      <td>2017-06-04</td>\n",
       "      <td>55.00</td>\n",
       "    </tr>\n",
       "    <tr>\n",
       "      <th>4</th>\n",
       "      <td>1</td>\n",
       "      <td>2017-06-05</td>\n",
       "      <td>57.08</td>\n",
       "    </tr>\n",
       "  </tbody>\n",
       "</table>\n",
       "</div>"
      ],
      "text/plain": [
       "   source_id          dt  costs\n",
       "0          1  2017-06-01  75.20\n",
       "1          1  2017-06-02  62.25\n",
       "2          1  2017-06-03  36.53\n",
       "3          1  2017-06-04  55.00\n",
       "4          1  2017-06-05  57.08"
      ]
     },
     "execution_count": 8,
     "metadata": {},
     "output_type": "execute_result"
    }
   ],
   "source": [
    "costs_us.head()"
   ]
  },
  {
   "cell_type": "code",
   "execution_count": 9,
   "metadata": {
    "scrolled": true
   },
   "outputs": [
    {
     "name": "stdout",
     "output_type": "stream",
     "text": [
      "<class 'pandas.core.frame.DataFrame'>\n",
      "RangeIndex: 2542 entries, 0 to 2541\n",
      "Data columns (total 3 columns):\n",
      " #   Column     Non-Null Count  Dtype  \n",
      "---  ------     --------------  -----  \n",
      " 0   source_id  2542 non-null   int64  \n",
      " 1   dt         2542 non-null   object \n",
      " 2   costs      2542 non-null   float64\n",
      "dtypes: float64(1), int64(1), object(1)\n",
      "memory usage: 59.7+ KB\n"
     ]
    }
   ],
   "source": [
    "costs_us.info()"
   ]
  },
  {
   "cell_type": "markdown",
   "metadata": {},
   "source": [
    "# *Primeira parte (VENDAS)*"
   ]
  },
  {
   "cell_type": "code",
   "execution_count": 10,
   "metadata": {},
   "outputs": [
    {
     "data": {
      "text/html": [
       "<div>\n",
       "<style scoped>\n",
       "    .dataframe tbody tr th:only-of-type {\n",
       "        vertical-align: middle;\n",
       "    }\n",
       "\n",
       "    .dataframe tbody tr th {\n",
       "        vertical-align: top;\n",
       "    }\n",
       "\n",
       "    .dataframe thead th {\n",
       "        text-align: right;\n",
       "    }\n",
       "</style>\n",
       "<table border=\"1\" class=\"dataframe\">\n",
       "  <thead>\n",
       "    <tr style=\"text-align: right;\">\n",
       "      <th></th>\n",
       "      <th>device</th>\n",
       "      <th>end_ts</th>\n",
       "      <th>source_id</th>\n",
       "      <th>start_ts</th>\n",
       "      <th>uid</th>\n",
       "    </tr>\n",
       "  </thead>\n",
       "  <tbody>\n",
       "    <tr>\n",
       "      <th>0</th>\n",
       "      <td>touch</td>\n",
       "      <td>2017-12-20 17:38:00</td>\n",
       "      <td>4</td>\n",
       "      <td>2017-12-20 17:20:00</td>\n",
       "      <td>16879256277535980062</td>\n",
       "    </tr>\n",
       "    <tr>\n",
       "      <th>1</th>\n",
       "      <td>desktop</td>\n",
       "      <td>2018-02-19 17:21:00</td>\n",
       "      <td>2</td>\n",
       "      <td>2018-02-19 16:53:00</td>\n",
       "      <td>104060357244891740</td>\n",
       "    </tr>\n",
       "    <tr>\n",
       "      <th>2</th>\n",
       "      <td>touch</td>\n",
       "      <td>2017-07-01 01:54:00</td>\n",
       "      <td>5</td>\n",
       "      <td>2017-07-01 01:54:00</td>\n",
       "      <td>7459035603376831527</td>\n",
       "    </tr>\n",
       "    <tr>\n",
       "      <th>3</th>\n",
       "      <td>desktop</td>\n",
       "      <td>2018-05-20 11:23:00</td>\n",
       "      <td>9</td>\n",
       "      <td>2018-05-20 10:59:00</td>\n",
       "      <td>16174680259334210214</td>\n",
       "    </tr>\n",
       "    <tr>\n",
       "      <th>4</th>\n",
       "      <td>desktop</td>\n",
       "      <td>2017-12-27 14:06:00</td>\n",
       "      <td>3</td>\n",
       "      <td>2017-12-27 14:06:00</td>\n",
       "      <td>9969694820036681168</td>\n",
       "    </tr>\n",
       "    <tr>\n",
       "      <th>...</th>\n",
       "      <td>...</td>\n",
       "      <td>...</td>\n",
       "      <td>...</td>\n",
       "      <td>...</td>\n",
       "      <td>...</td>\n",
       "    </tr>\n",
       "    <tr>\n",
       "      <th>359395</th>\n",
       "      <td>desktop</td>\n",
       "      <td>2017-07-29 19:07:19</td>\n",
       "      <td>2</td>\n",
       "      <td>2017-07-29 19:07:00</td>\n",
       "      <td>18363291481961487539</td>\n",
       "    </tr>\n",
       "    <tr>\n",
       "      <th>359396</th>\n",
       "      <td>touch</td>\n",
       "      <td>2018-01-25 17:38:19</td>\n",
       "      <td>1</td>\n",
       "      <td>2018-01-25 17:38:00</td>\n",
       "      <td>18370831553019119586</td>\n",
       "    </tr>\n",
       "    <tr>\n",
       "      <th>359397</th>\n",
       "      <td>desktop</td>\n",
       "      <td>2018-03-03 10:12:19</td>\n",
       "      <td>4</td>\n",
       "      <td>2018-03-03 10:12:00</td>\n",
       "      <td>18387297585500748294</td>\n",
       "    </tr>\n",
       "    <tr>\n",
       "      <th>359398</th>\n",
       "      <td>desktop</td>\n",
       "      <td>2017-11-02 10:12:19</td>\n",
       "      <td>5</td>\n",
       "      <td>2017-11-02 10:12:00</td>\n",
       "      <td>18388616944624776485</td>\n",
       "    </tr>\n",
       "    <tr>\n",
       "      <th>359399</th>\n",
       "      <td>touch</td>\n",
       "      <td>2017-09-10 13:13:19</td>\n",
       "      <td>2</td>\n",
       "      <td>2017-09-10 13:13:00</td>\n",
       "      <td>18396128934054549559</td>\n",
       "    </tr>\n",
       "  </tbody>\n",
       "</table>\n",
       "<p>359400 rows × 5 columns</p>\n",
       "</div>"
      ],
      "text/plain": [
       "         device               end_ts  source_id             start_ts  \\\n",
       "0         touch  2017-12-20 17:38:00          4  2017-12-20 17:20:00   \n",
       "1       desktop  2018-02-19 17:21:00          2  2018-02-19 16:53:00   \n",
       "2         touch  2017-07-01 01:54:00          5  2017-07-01 01:54:00   \n",
       "3       desktop  2018-05-20 11:23:00          9  2018-05-20 10:59:00   \n",
       "4       desktop  2017-12-27 14:06:00          3  2017-12-27 14:06:00   \n",
       "...         ...                  ...        ...                  ...   \n",
       "359395  desktop  2017-07-29 19:07:19          2  2017-07-29 19:07:00   \n",
       "359396    touch  2018-01-25 17:38:19          1  2018-01-25 17:38:00   \n",
       "359397  desktop  2018-03-03 10:12:19          4  2018-03-03 10:12:00   \n",
       "359398  desktop  2017-11-02 10:12:19          5  2017-11-02 10:12:00   \n",
       "359399    touch  2017-09-10 13:13:19          2  2017-09-10 13:13:00   \n",
       "\n",
       "                         uid  \n",
       "0       16879256277535980062  \n",
       "1         104060357244891740  \n",
       "2        7459035603376831527  \n",
       "3       16174680259334210214  \n",
       "4        9969694820036681168  \n",
       "...                      ...  \n",
       "359395  18363291481961487539  \n",
       "359396  18370831553019119586  \n",
       "359397  18387297585500748294  \n",
       "359398  18388616944624776485  \n",
       "359399  18396128934054549559  \n",
       "\n",
       "[359400 rows x 5 columns]"
      ]
     },
     "execution_count": 10,
     "metadata": {},
     "output_type": "execute_result"
    }
   ],
   "source": [
    "#Convertendo e analisando os dados do visits_log_us\n",
    "column_names = visits_log_us.columns\n",
    "lowercase_names = [name.lower() for name in column_names]\n",
    "visits_log_us.columns = lowercase_names\n",
    "\n",
    "stripped_names = [name.strip() for name in column_names]\n",
    "lowercase_names = [name.lower() for name in stripped_names]\n",
    "visits_log_us.columns = lowercase_names\n",
    "\n",
    "rename_dict = {'start ts': 'start_ts', 'source id':'source_id', 'end ts':'end_ts'}\n",
    "visits_log_us.rename(columns=rename_dict, inplace=True) \n",
    "\n",
    "visits_log_us"
   ]
  },
  {
   "cell_type": "code",
   "execution_count": 11,
   "metadata": {},
   "outputs": [
    {
     "name": "stdout",
     "output_type": "stream",
     "text": [
      "<class 'pandas.core.frame.DataFrame'>\n",
      "RangeIndex: 359400 entries, 0 to 359399\n",
      "Data columns (total 8 columns):\n",
      " #   Column     Non-Null Count   Dtype         \n",
      "---  ------     --------------   -----         \n",
      " 0   device     359400 non-null  object        \n",
      " 1   end_ts     359400 non-null  datetime64[ns]\n",
      " 2   source_id  359400 non-null  int64         \n",
      " 3   start_ts   359400 non-null  datetime64[ns]\n",
      " 4   uid        359400 non-null  uint64        \n",
      " 5   day        359400 non-null  object        \n",
      " 6   week       359400 non-null  period[W-SUN] \n",
      " 7   month      359400 non-null  period[M]     \n",
      "dtypes: datetime64[ns](2), int64(1), object(2), period[M](1), period[W-SUN](1), uint64(1)\n",
      "memory usage: 21.9+ MB\n"
     ]
    }
   ],
   "source": [
    "visits_log_us['end_ts'] = pd.to_datetime(visits_log_us['end_ts'], format=\"%Y-%m-%d %H:%M:%S\")\n",
    "\n",
    "visits_log_us['start_ts'] = pd.to_datetime(visits_log_us['start_ts'], format=\"%Y-%m-%d %H:%M:%S\")\n",
    "visits_log_us['day'] = visits_log_us['start_ts'].dt.date\n",
    "visits_log_us['week'] = visits_log_us['start_ts'].dt.to_period('W')\n",
    "visits_log_us['month'] = visits_log_us['start_ts'].dt.to_period('M')\n",
    "\n",
    "visits_log_us.info()"
   ]
  },
  {
   "cell_type": "markdown",
   "metadata": {},
   "source": [
    "\n",
    "<div class=\"alert alert-block alert-warning\">\n",
    "<b> Comentário do revisor: </b> <a class=\"tocSkip\"></a>\n",
    "\n",
    "convém converter colunas para snake_case\n",
    "</div>"
   ]
  },
  {
   "cell_type": "code",
   "execution_count": 17,
   "metadata": {},
   "outputs": [
    {
     "data": {
      "text/html": [
       "<div>\n",
       "<style scoped>\n",
       "    .dataframe tbody tr th:only-of-type {\n",
       "        vertical-align: middle;\n",
       "    }\n",
       "\n",
       "    .dataframe tbody tr th {\n",
       "        vertical-align: top;\n",
       "    }\n",
       "\n",
       "    .dataframe thead th {\n",
       "        text-align: right;\n",
       "    }\n",
       "</style>\n",
       "<table border=\"1\" class=\"dataframe\">\n",
       "  <thead>\n",
       "    <tr style=\"text-align: right;\">\n",
       "      <th></th>\n",
       "      <th>end_ts</th>\n",
       "      <th>source_id</th>\n",
       "      <th>start_ts</th>\n",
       "      <th>uid</th>\n",
       "      <th>day</th>\n",
       "      <th>week</th>\n",
       "      <th>month</th>\n",
       "      <th>session_duration</th>\n",
       "    </tr>\n",
       "    <tr>\n",
       "      <th>device</th>\n",
       "      <th></th>\n",
       "      <th></th>\n",
       "      <th></th>\n",
       "      <th></th>\n",
       "      <th></th>\n",
       "      <th></th>\n",
       "      <th></th>\n",
       "      <th></th>\n",
       "    </tr>\n",
       "  </thead>\n",
       "  <tbody>\n",
       "    <tr>\n",
       "      <th>desktop</th>\n",
       "      <td>180758</td>\n",
       "      <td>9</td>\n",
       "      <td>180454</td>\n",
       "      <td>164523</td>\n",
       "      <td>364</td>\n",
       "      <td>53</td>\n",
       "      <td>12</td>\n",
       "      <td>302</td>\n",
       "    </tr>\n",
       "    <tr>\n",
       "      <th>touch</th>\n",
       "      <td>84649</td>\n",
       "      <td>9</td>\n",
       "      <td>84499</td>\n",
       "      <td>71345</td>\n",
       "      <td>363</td>\n",
       "      <td>53</td>\n",
       "      <td>12</td>\n",
       "      <td>183</td>\n",
       "    </tr>\n",
       "  </tbody>\n",
       "</table>\n",
       "</div>"
      ],
      "text/plain": [
       "         end_ts  source_id  start_ts     uid  day  week  month  \\\n",
       "device                                                           \n",
       "desktop  180758          9    180454  164523  364    53     12   \n",
       "touch     84649          9     84499   71345  363    53     12   \n",
       "\n",
       "         session_duration  \n",
       "device                     \n",
       "desktop               302  \n",
       "touch                 183  "
      ]
     },
     "execution_count": 17,
     "metadata": {},
     "output_type": "execute_result"
    }
   ],
   "source": [
    "user_device = visits_log_us.groupby('device').nunique()\n",
    "user_device"
   ]
  },
  {
   "cell_type": "code",
   "execution_count": 18,
   "metadata": {},
   "outputs": [
    {
     "name": "stdout",
     "output_type": "stream",
     "text": [
      "Usuários por dia: day\n",
      "2017-06-01     605\n",
      "2017-06-02     608\n",
      "2017-06-03     445\n",
      "2017-06-04     476\n",
      "2017-06-05     820\n",
      "              ... \n",
      "2018-05-27     620\n",
      "2018-05-28    1039\n",
      "2018-05-29     948\n",
      "2018-05-30    1289\n",
      "2018-05-31    1997\n",
      "Name: uid, Length: 364, dtype: int64\n",
      "Usuários por semana: week\n",
      "2017-05-29/2017-06-04     2021\n",
      "2017-06-05/2017-06-11     4129\n",
      "2017-06-12/2017-06-18     2812\n",
      "2017-06-19/2017-06-25     2878\n",
      "2017-06-26/2017-07-02     3064\n",
      "2017-07-03/2017-07-09     3294\n",
      "2017-07-10/2017-07-16     4355\n",
      "2017-07-17/2017-07-23     3841\n",
      "2017-07-24/2017-07-30     2655\n",
      "2017-07-31/2017-08-06     2364\n",
      "2017-08-07/2017-08-13     2444\n",
      "2017-08-14/2017-08-20     2746\n",
      "2017-08-21/2017-08-27     3116\n",
      "2017-08-28/2017-09-03     3694\n",
      "2017-09-04/2017-09-10     4412\n",
      "2017-09-11/2017-09-17     4319\n",
      "2017-09-18/2017-09-24     4874\n",
      "2017-09-25/2017-10-01     6241\n",
      "2017-10-02/2017-10-08     7612\n",
      "2017-10-09/2017-10-15     7074\n",
      "2017-10-16/2017-10-22     7148\n",
      "2017-10-23/2017-10-29     7401\n",
      "2017-10-30/2017-11-05     7480\n",
      "2017-11-06/2017-11-12     7179\n",
      "2017-11-13/2017-11-19     8117\n",
      "2017-11-20/2017-11-26    10586\n",
      "2017-11-27/2017-12-03     8166\n",
      "2017-12-04/2017-12-10     8407\n",
      "2017-12-11/2017-12-17     8214\n",
      "2017-12-18/2017-12-24     7172\n",
      "2017-12-25/2017-12-31     7774\n",
      "2018-01-01/2018-01-07     6918\n",
      "2018-01-08/2018-01-14     6703\n",
      "2018-01-15/2018-01-21     6972\n",
      "2018-01-22/2018-01-28     7060\n",
      "2018-01-29/2018-02-04     8111\n",
      "2018-02-05/2018-02-11     7908\n",
      "2018-02-12/2018-02-18     7759\n",
      "2018-02-19/2018-02-25     7518\n",
      "2018-02-26/2018-03-04     7395\n",
      "2018-03-05/2018-03-11     6844\n",
      "2018-03-12/2018-03-18     6225\n",
      "2018-03-19/2018-03-25     7898\n",
      "2018-03-26/2018-04-01     4940\n",
      "2018-04-02/2018-04-08     5383\n",
      "2018-04-09/2018-04-15     5494\n",
      "2018-04-16/2018-04-22     5740\n",
      "2018-04-23/2018-04-29     5503\n",
      "2018-04-30/2018-05-06     3916\n",
      "2018-05-07/2018-05-13     4128\n",
      "2018-05-14/2018-05-20     5070\n",
      "2018-05-21/2018-05-27     4995\n",
      "2018-05-28/2018-06-03     4892\n",
      "Freq: W-SUN, Name: uid, dtype: int64\n",
      "Usuários por mês: month\n",
      "2017-06    13259\n",
      "2017-07    14183\n",
      "2017-08    11631\n",
      "2017-09    18975\n",
      "2017-10    29692\n",
      "2017-11    32797\n",
      "2017-12    31557\n",
      "2018-01    28716\n",
      "2018-02    28749\n",
      "2018-03    27473\n",
      "2018-04    21008\n",
      "2018-05    20701\n",
      "Freq: M, Name: uid, dtype: int64\n"
     ]
    }
   ],
   "source": [
    "#Quantas pessoas usam-no cada dia, semana e mês?\n",
    "daily_users = visits_log_us.groupby('day')['uid'].nunique()\n",
    "weekly_users = visits_log_us.groupby('week')['uid'].nunique()\n",
    "monthly_users = visits_log_us.groupby('month')['uid'].nunique()\n",
    "\n",
    "print(\"Usuários por dia:\", daily_users)\n",
    "\n",
    "print(\"Usuários por semana:\", weekly_users)\n",
    "\n",
    "print(\"Usuários por mês:\", monthly_users)"
   ]
  },
  {
   "cell_type": "code",
   "execution_count": 19,
   "metadata": {
    "scrolled": true
   },
   "outputs": [
    {
     "name": "stdout",
     "output_type": "stream",
     "text": [
      "Sessões por dia: day\n",
      "2017-06-01     664\n",
      "2017-06-02     658\n",
      "2017-06-03     477\n",
      "2017-06-04     510\n",
      "2017-06-05     893\n",
      "              ... \n",
      "2018-05-27     672\n",
      "2018-05-28    1156\n",
      "2018-05-29    1035\n",
      "2018-05-30    1410\n",
      "2018-05-31    2256\n",
      "Length: 364, dtype: int64\n"
     ]
    }
   ],
   "source": [
    "#Quantas sessões ocorrem por dia? \n",
    "daily_sessions = visits_log_us.groupby('day').size()\n",
    "print(\"Sessões por dia:\", daily_sessions)"
   ]
  },
  {
   "cell_type": "code",
   "execution_count": 20,
   "metadata": {},
   "outputs": [
    {
     "name": "stdout",
     "output_type": "stream",
     "text": [
      "Duração média de cada sessão: 643.0256872565387 segundos\n"
     ]
    }
   ],
   "source": [
    "#Que comprimento tem cada sessão?\n",
    "visits_log_us['start_ts'] = pd.to_datetime(visits_log_us['start_ts'])\n",
    "visits_log_us['end_ts'] = pd.to_datetime(visits_log_us['end_ts'])\n",
    "visits_log_us['session_duration'] = (visits_log_us['end_ts'] - visits_log_us['start_ts']).dt.total_seconds()\n",
    "\n",
    "avg_session_duration = visits_log_us['session_duration'].mean()\n",
    "print(\"Duração média de cada sessão:\", avg_session_duration, \"segundos\")"
   ]
  },
  {
   "cell_type": "code",
   "execution_count": 21,
   "metadata": {
    "scrolled": true
   },
   "outputs": [
    {
     "name": "stdout",
     "output_type": "stream",
     "text": [
      "Frequência de retorno dos usuários: 1.5751482453795214\n"
     ]
    }
   ],
   "source": [
    "#Com que frequência os usuários voltam?\n",
    "user_sessions = visits_log_us.groupby('uid')['source_id'].count()\n",
    "avg_return_frequency = user_sessions.mean()\n",
    "print(\"Frequência de retorno dos usuários:\", avg_return_frequency)"
   ]
  },
  {
   "cell_type": "code",
   "execution_count": 22,
   "metadata": {},
   "outputs": [
    {
     "data": {
      "text/plain": [
       "<AxesSubplot:xlabel='day'>"
      ]
     },
     "execution_count": 22,
     "metadata": {},
     "output_type": "execute_result"
    },
    {
     "data": {
      "image/png": "[encoded data removed]",
      "text/plain": [
       "<Figure size 640x480 with 1 Axes>"
      ]
     },
     "metadata": {},
     "output_type": "display_data"
    }
   ],
   "source": [
    "user_day = visits_log_us.groupby('day').agg({'uid': 'nunique'})\n",
    "user_day.plot()"
   ]
  },
  {
   "cell_type": "code",
   "execution_count": 23,
   "metadata": {
    "scrolled": false
   },
   "outputs": [
    {
     "data": {
      "text/plain": [
       "<AxesSubplot:xlabel='week'>"
      ]
     },
     "execution_count": 23,
     "metadata": {},
     "output_type": "execute_result"
    },
    {
     "data": {
      "image/png": "[encoded data removed]",
      "text/plain": [
       "<Figure size 640x480 with 1 Axes>"
      ]
     },
     "metadata": {},
     "output_type": "display_data"
    }
   ],
   "source": [
    "user_week = visits_log_us.groupby('week').agg({'uid': 'nunique'})\n",
    "user_week.plot()"
   ]
  },
  {
   "cell_type": "code",
   "execution_count": 24,
   "metadata": {
    "scrolled": false
   },
   "outputs": [
    {
     "data": {
      "text/plain": [
       "<AxesSubplot:xlabel='month'>"
      ]
     },
     "execution_count": 24,
     "metadata": {},
     "output_type": "execute_result"
    },
    {
     "data": {
      "image/png": "[encoded data removed]",
      "text/plain": [
       "<Figure size 640x480 with 1 Axes>"
      ]
     },
     "metadata": {},
     "output_type": "display_data"
    }
   ],
   "source": [
    "user_month = visits_log_us.groupby('month').agg({'uid': 'nunique'})\n",
    "user_month.plot()"
   ]
  },
  {
   "cell_type": "code",
   "execution_count": 25,
   "metadata": {},
   "outputs": [
    {
     "data": {
      "text/html": [
       "<div>\n",
       "<style scoped>\n",
       "    .dataframe tbody tr th:only-of-type {\n",
       "        vertical-align: middle;\n",
       "    }\n",
       "\n",
       "    .dataframe tbody tr th {\n",
       "        vertical-align: top;\n",
       "    }\n",
       "\n",
       "    .dataframe thead th {\n",
       "        text-align: right;\n",
       "    }\n",
       "</style>\n",
       "<table border=\"1\" class=\"dataframe\">\n",
       "  <thead>\n",
       "    <tr style=\"text-align: right;\">\n",
       "      <th></th>\n",
       "      <th>device</th>\n",
       "      <th>end_ts</th>\n",
       "      <th>source_id</th>\n",
       "      <th>start_ts</th>\n",
       "      <th>uid</th>\n",
       "      <th>day</th>\n",
       "      <th>week</th>\n",
       "      <th>month</th>\n",
       "      <th>session_duration</th>\n",
       "    </tr>\n",
       "  </thead>\n",
       "  <tbody>\n",
       "    <tr>\n",
       "      <th>0</th>\n",
       "      <td>touch</td>\n",
       "      <td>2017-12-20 17:38:00</td>\n",
       "      <td>4</td>\n",
       "      <td>2017-12-20 17:20:00</td>\n",
       "      <td>16879256277535980062</td>\n",
       "      <td>2017-12-20</td>\n",
       "      <td>2017-12-18/2017-12-24</td>\n",
       "      <td>2017-12</td>\n",
       "      <td>1080.0</td>\n",
       "    </tr>\n",
       "    <tr>\n",
       "      <th>1</th>\n",
       "      <td>desktop</td>\n",
       "      <td>2018-02-19 17:21:00</td>\n",
       "      <td>2</td>\n",
       "      <td>2018-02-19 16:53:00</td>\n",
       "      <td>104060357244891740</td>\n",
       "      <td>2018-02-19</td>\n",
       "      <td>2018-02-19/2018-02-25</td>\n",
       "      <td>2018-02</td>\n",
       "      <td>1680.0</td>\n",
       "    </tr>\n",
       "    <tr>\n",
       "      <th>2</th>\n",
       "      <td>touch</td>\n",
       "      <td>2017-07-01 01:54:00</td>\n",
       "      <td>5</td>\n",
       "      <td>2017-07-01 01:54:00</td>\n",
       "      <td>7459035603376831527</td>\n",
       "      <td>2017-07-01</td>\n",
       "      <td>2017-06-26/2017-07-02</td>\n",
       "      <td>2017-07</td>\n",
       "      <td>0.0</td>\n",
       "    </tr>\n",
       "    <tr>\n",
       "      <th>3</th>\n",
       "      <td>desktop</td>\n",
       "      <td>2018-05-20 11:23:00</td>\n",
       "      <td>9</td>\n",
       "      <td>2018-05-20 10:59:00</td>\n",
       "      <td>16174680259334210214</td>\n",
       "      <td>2018-05-20</td>\n",
       "      <td>2018-05-14/2018-05-20</td>\n",
       "      <td>2018-05</td>\n",
       "      <td>1440.0</td>\n",
       "    </tr>\n",
       "    <tr>\n",
       "      <th>4</th>\n",
       "      <td>desktop</td>\n",
       "      <td>2017-12-27 14:06:00</td>\n",
       "      <td>3</td>\n",
       "      <td>2017-12-27 14:06:00</td>\n",
       "      <td>9969694820036681168</td>\n",
       "      <td>2017-12-27</td>\n",
       "      <td>2017-12-25/2017-12-31</td>\n",
       "      <td>2017-12</td>\n",
       "      <td>0.0</td>\n",
       "    </tr>\n",
       "    <tr>\n",
       "      <th>...</th>\n",
       "      <td>...</td>\n",
       "      <td>...</td>\n",
       "      <td>...</td>\n",
       "      <td>...</td>\n",
       "      <td>...</td>\n",
       "      <td>...</td>\n",
       "      <td>...</td>\n",
       "      <td>...</td>\n",
       "      <td>...</td>\n",
       "    </tr>\n",
       "    <tr>\n",
       "      <th>359395</th>\n",
       "      <td>desktop</td>\n",
       "      <td>2017-07-29 19:07:19</td>\n",
       "      <td>2</td>\n",
       "      <td>2017-07-29 19:07:00</td>\n",
       "      <td>18363291481961487539</td>\n",
       "      <td>2017-07-29</td>\n",
       "      <td>2017-07-24/2017-07-30</td>\n",
       "      <td>2017-07</td>\n",
       "      <td>19.0</td>\n",
       "    </tr>\n",
       "    <tr>\n",
       "      <th>359396</th>\n",
       "      <td>touch</td>\n",
       "      <td>2018-01-25 17:38:19</td>\n",
       "      <td>1</td>\n",
       "      <td>2018-01-25 17:38:00</td>\n",
       "      <td>18370831553019119586</td>\n",
       "      <td>2018-01-25</td>\n",
       "      <td>2018-01-22/2018-01-28</td>\n",
       "      <td>2018-01</td>\n",
       "      <td>19.0</td>\n",
       "    </tr>\n",
       "    <tr>\n",
       "      <th>359397</th>\n",
       "      <td>desktop</td>\n",
       "      <td>2018-03-03 10:12:19</td>\n",
       "      <td>4</td>\n",
       "      <td>2018-03-03 10:12:00</td>\n",
       "      <td>18387297585500748294</td>\n",
       "      <td>2018-03-03</td>\n",
       "      <td>2018-02-26/2018-03-04</td>\n",
       "      <td>2018-03</td>\n",
       "      <td>19.0</td>\n",
       "    </tr>\n",
       "    <tr>\n",
       "      <th>359398</th>\n",
       "      <td>desktop</td>\n",
       "      <td>2017-11-02 10:12:19</td>\n",
       "      <td>5</td>\n",
       "      <td>2017-11-02 10:12:00</td>\n",
       "      <td>18388616944624776485</td>\n",
       "      <td>2017-11-02</td>\n",
       "      <td>2017-10-30/2017-11-05</td>\n",
       "      <td>2017-11</td>\n",
       "      <td>19.0</td>\n",
       "    </tr>\n",
       "    <tr>\n",
       "      <th>359399</th>\n",
       "      <td>touch</td>\n",
       "      <td>2017-09-10 13:13:19</td>\n",
       "      <td>2</td>\n",
       "      <td>2017-09-10 13:13:00</td>\n",
       "      <td>18396128934054549559</td>\n",
       "      <td>2017-09-10</td>\n",
       "      <td>2017-09-04/2017-09-10</td>\n",
       "      <td>2017-09</td>\n",
       "      <td>19.0</td>\n",
       "    </tr>\n",
       "  </tbody>\n",
       "</table>\n",
       "<p>359400 rows × 9 columns</p>\n",
       "</div>"
      ],
      "text/plain": [
       "         device              end_ts  source_id            start_ts  \\\n",
       "0         touch 2017-12-20 17:38:00          4 2017-12-20 17:20:00   \n",
       "1       desktop 2018-02-19 17:21:00          2 2018-02-19 16:53:00   \n",
       "2         touch 2017-07-01 01:54:00          5 2017-07-01 01:54:00   \n",
       "3       desktop 2018-05-20 11:23:00          9 2018-05-20 10:59:00   \n",
       "4       desktop 2017-12-27 14:06:00          3 2017-12-27 14:06:00   \n",
       "...         ...                 ...        ...                 ...   \n",
       "359395  desktop 2017-07-29 19:07:19          2 2017-07-29 19:07:00   \n",
       "359396    touch 2018-01-25 17:38:19          1 2018-01-25 17:38:00   \n",
       "359397  desktop 2018-03-03 10:12:19          4 2018-03-03 10:12:00   \n",
       "359398  desktop 2017-11-02 10:12:19          5 2017-11-02 10:12:00   \n",
       "359399    touch 2017-09-10 13:13:19          2 2017-09-10 13:13:00   \n",
       "\n",
       "                         uid         day                   week    month  \\\n",
       "0       16879256277535980062  2017-12-20  2017-12-18/2017-12-24  2017-12   \n",
       "1         104060357244891740  2018-02-19  2018-02-19/2018-02-25  2018-02   \n",
       "2        7459035603376831527  2017-07-01  2017-06-26/2017-07-02  2017-07   \n",
       "3       16174680259334210214  2018-05-20  2018-05-14/2018-05-20  2018-05   \n",
       "4        9969694820036681168  2017-12-27  2017-12-25/2017-12-31  2017-12   \n",
       "...                      ...         ...                    ...      ...   \n",
       "359395  18363291481961487539  2017-07-29  2017-07-24/2017-07-30  2017-07   \n",
       "359396  18370831553019119586  2018-01-25  2018-01-22/2018-01-28  2018-01   \n",
       "359397  18387297585500748294  2018-03-03  2018-02-26/2018-03-04  2018-03   \n",
       "359398  18388616944624776485  2017-11-02  2017-10-30/2017-11-05  2017-11   \n",
       "359399  18396128934054549559  2017-09-10  2017-09-04/2017-09-10  2017-09   \n",
       "\n",
       "        session_duration  \n",
       "0                 1080.0  \n",
       "1                 1680.0  \n",
       "2                    0.0  \n",
       "3                 1440.0  \n",
       "4                    0.0  \n",
       "...                  ...  \n",
       "359395              19.0  \n",
       "359396              19.0  \n",
       "359397              19.0  \n",
       "359398              19.0  \n",
       "359399              19.0  \n",
       "\n",
       "[359400 rows x 9 columns]"
      ]
     },
     "execution_count": 25,
     "metadata": {},
     "output_type": "execute_result"
    }
   ],
   "source": [
    "visits_log_us"
   ]
  },
  {
   "cell_type": "code",
   "execution_count": 26,
   "metadata": {
    "scrolled": false
   },
   "outputs": [
    {
     "data": {
      "text/plain": [
       "<AxesSubplot:>"
      ]
     },
     "execution_count": 26,
     "metadata": {},
     "output_type": "execute_result"
    },
    {
     "data": {
      "image/png": "[encoded data removed]",
      "text/plain": [
       "<Figure size 640x480 with 1 Axes>"
      ]
     },
     "metadata": {},
     "output_type": "display_data"
    }
   ],
   "source": [
    "visits_log_us['session_duration'].clip(0,8000).hist(bins=200)"
   ]
  },
  {
   "cell_type": "code",
   "execution_count": 27,
   "metadata": {},
   "outputs": [],
   "source": [
    "first_visit = visits_log_us.groupby('uid').agg({'start_ts': 'min'}).reset_index()\n",
    "first_visit['first_visit_dt'] = first_visit['start_ts']\n",
    "first_visit['first_visit_month'] = first_visit['start_ts'].dt.to_period('M')\n",
    "first_visit.drop(columns = ['start_ts'], inplace = True)\n",
    "visits_full = pd.merge(first_visit, visits_log_us, on = 'uid')\n",
    "\n",
    "visits_full['order_month'] = visits_full['start_ts'].dt.to_period('M')\n",
    "visits_full['age'] = (visits_full['month'].astype('int64') - visits_full['first_visit_month'].astype('int64'))"
   ]
  },
  {
   "cell_type": "code",
   "execution_count": 28,
   "metadata": {
    "scrolled": false
   },
   "outputs": [],
   "source": [
    "pivot_visit = visits_full.pivot_table(index = 'first_visit_month', columns = 'age', values = 'uid', aggfunc = 'nunique') "
   ]
  },
  {
   "cell_type": "code",
   "execution_count": 29,
   "metadata": {
    "scrolled": false
   },
   "outputs": [
    {
     "data": {
      "text/html": [
       "<div>\n",
       "<style scoped>\n",
       "    .dataframe tbody tr th:only-of-type {\n",
       "        vertical-align: middle;\n",
       "    }\n",
       "\n",
       "    .dataframe tbody tr th {\n",
       "        vertical-align: top;\n",
       "    }\n",
       "\n",
       "    .dataframe thead th {\n",
       "        text-align: right;\n",
       "    }\n",
       "</style>\n",
       "<table border=\"1\" class=\"dataframe\">\n",
       "  <thead>\n",
       "    <tr style=\"text-align: right;\">\n",
       "      <th>age</th>\n",
       "      <th>0</th>\n",
       "      <th>1</th>\n",
       "      <th>2</th>\n",
       "      <th>3</th>\n",
       "      <th>4</th>\n",
       "      <th>5</th>\n",
       "      <th>6</th>\n",
       "      <th>7</th>\n",
       "      <th>8</th>\n",
       "      <th>9</th>\n",
       "      <th>10</th>\n",
       "      <th>11</th>\n",
       "    </tr>\n",
       "    <tr>\n",
       "      <th>first_visit_month</th>\n",
       "      <th></th>\n",
       "      <th></th>\n",
       "      <th></th>\n",
       "      <th></th>\n",
       "      <th></th>\n",
       "      <th></th>\n",
       "      <th></th>\n",
       "      <th></th>\n",
       "      <th></th>\n",
       "      <th></th>\n",
       "      <th></th>\n",
       "      <th></th>\n",
       "    </tr>\n",
       "  </thead>\n",
       "  <tbody>\n",
       "    <tr>\n",
       "      <th>2017-06</th>\n",
       "      <td>1.0</td>\n",
       "      <td>0.078664</td>\n",
       "      <td>0.053775</td>\n",
       "      <td>0.061392</td>\n",
       "      <td>0.068557</td>\n",
       "      <td>0.071423</td>\n",
       "      <td>0.061015</td>\n",
       "      <td>0.057772</td>\n",
       "      <td>0.052342</td>\n",
       "      <td>0.050833</td>\n",
       "      <td>0.040652</td>\n",
       "      <td>0.044951</td>\n",
       "    </tr>\n",
       "    <tr>\n",
       "      <th>2017-07</th>\n",
       "      <td>1.0</td>\n",
       "      <td>0.056088</td>\n",
       "      <td>0.051294</td>\n",
       "      <td>0.056164</td>\n",
       "      <td>0.058219</td>\n",
       "      <td>0.048174</td>\n",
       "      <td>0.045358</td>\n",
       "      <td>0.045738</td>\n",
       "      <td>0.038813</td>\n",
       "      <td>0.028615</td>\n",
       "      <td>0.027473</td>\n",
       "      <td></td>\n",
       "    </tr>\n",
       "    <tr>\n",
       "      <th>2017-08</th>\n",
       "      <td>1.0</td>\n",
       "      <td>0.076908</td>\n",
       "      <td>0.062862</td>\n",
       "      <td>0.062764</td>\n",
       "      <td>0.050093</td>\n",
       "      <td>0.044004</td>\n",
       "      <td>0.036342</td>\n",
       "      <td>0.039485</td>\n",
       "      <td>0.027895</td>\n",
       "      <td>0.026029</td>\n",
       "      <td></td>\n",
       "      <td></td>\n",
       "    </tr>\n",
       "    <tr>\n",
       "      <th>2017-09</th>\n",
       "      <td>1.0</td>\n",
       "      <td>0.085489</td>\n",
       "      <td>0.069205</td>\n",
       "      <td>0.050706</td>\n",
       "      <td>0.039392</td>\n",
       "      <td>0.037835</td>\n",
       "      <td>0.03586</td>\n",
       "      <td>0.024186</td>\n",
       "      <td>0.022809</td>\n",
       "      <td></td>\n",
       "      <td></td>\n",
       "      <td></td>\n",
       "    </tr>\n",
       "    <tr>\n",
       "      <th>2017-10</th>\n",
       "      <td>1.0</td>\n",
       "      <td>0.078608</td>\n",
       "      <td>0.052239</td>\n",
       "      <td>0.038958</td>\n",
       "      <td>0.034261</td>\n",
       "      <td>0.032221</td>\n",
       "      <td>0.021365</td>\n",
       "      <td>0.020364</td>\n",
       "      <td></td>\n",
       "      <td></td>\n",
       "      <td></td>\n",
       "      <td></td>\n",
       "    </tr>\n",
       "    <tr>\n",
       "      <th>2017-11</th>\n",
       "      <td>1.0</td>\n",
       "      <td>0.078281</td>\n",
       "      <td>0.044113</td>\n",
       "      <td>0.038682</td>\n",
       "      <td>0.033727</td>\n",
       "      <td>0.023415</td>\n",
       "      <td>0.0218</td>\n",
       "      <td></td>\n",
       "      <td></td>\n",
       "      <td></td>\n",
       "      <td></td>\n",
       "      <td></td>\n",
       "    </tr>\n",
       "    <tr>\n",
       "      <th>2017-12</th>\n",
       "      <td>1.0</td>\n",
       "      <td>0.055802</td>\n",
       "      <td>0.037993</td>\n",
       "      <td>0.031107</td>\n",
       "      <td>0.020263</td>\n",
       "      <td>0.019036</td>\n",
       "      <td></td>\n",
       "      <td></td>\n",
       "      <td></td>\n",
       "      <td></td>\n",
       "      <td></td>\n",
       "      <td></td>\n",
       "    </tr>\n",
       "    <tr>\n",
       "      <th>2018-01</th>\n",
       "      <td>1.0</td>\n",
       "      <td>0.059715</td>\n",
       "      <td>0.039339</td>\n",
       "      <td>0.024973</td>\n",
       "      <td>0.020244</td>\n",
       "      <td></td>\n",
       "      <td></td>\n",
       "      <td></td>\n",
       "      <td></td>\n",
       "      <td></td>\n",
       "      <td></td>\n",
       "      <td></td>\n",
       "    </tr>\n",
       "    <tr>\n",
       "      <th>2018-02</th>\n",
       "      <td>1.0</td>\n",
       "      <td>0.05708</td>\n",
       "      <td>0.025454</td>\n",
       "      <td>0.020093</td>\n",
       "      <td></td>\n",
       "      <td></td>\n",
       "      <td></td>\n",
       "      <td></td>\n",
       "      <td></td>\n",
       "      <td></td>\n",
       "      <td></td>\n",
       "      <td></td>\n",
       "    </tr>\n",
       "    <tr>\n",
       "      <th>2018-03</th>\n",
       "      <td>1.0</td>\n",
       "      <td>0.041818</td>\n",
       "      <td>0.027053</td>\n",
       "      <td></td>\n",
       "      <td></td>\n",
       "      <td></td>\n",
       "      <td></td>\n",
       "      <td></td>\n",
       "      <td></td>\n",
       "      <td></td>\n",
       "      <td></td>\n",
       "      <td></td>\n",
       "    </tr>\n",
       "    <tr>\n",
       "      <th>2018-04</th>\n",
       "      <td>1.0</td>\n",
       "      <td>0.04838</td>\n",
       "      <td></td>\n",
       "      <td></td>\n",
       "      <td></td>\n",
       "      <td></td>\n",
       "      <td></td>\n",
       "      <td></td>\n",
       "      <td></td>\n",
       "      <td></td>\n",
       "      <td></td>\n",
       "      <td></td>\n",
       "    </tr>\n",
       "    <tr>\n",
       "      <th>2018-05</th>\n",
       "      <td>1.0</td>\n",
       "      <td></td>\n",
       "      <td></td>\n",
       "      <td></td>\n",
       "      <td></td>\n",
       "      <td></td>\n",
       "      <td></td>\n",
       "      <td></td>\n",
       "      <td></td>\n",
       "      <td></td>\n",
       "      <td></td>\n",
       "      <td></td>\n",
       "    </tr>\n",
       "  </tbody>\n",
       "</table>\n",
       "</div>"
      ],
      "text/plain": [
       "age                 0         1         2         3         4         5   \\\n",
       "first_visit_month                                                          \n",
       "2017-06            1.0  0.078664  0.053775  0.061392  0.068557  0.071423   \n",
       "2017-07            1.0  0.056088  0.051294  0.056164  0.058219  0.048174   \n",
       "2017-08            1.0  0.076908  0.062862  0.062764  0.050093  0.044004   \n",
       "2017-09            1.0  0.085489  0.069205  0.050706  0.039392  0.037835   \n",
       "2017-10            1.0  0.078608  0.052239  0.038958  0.034261  0.032221   \n",
       "2017-11            1.0  0.078281  0.044113  0.038682  0.033727  0.023415   \n",
       "2017-12            1.0  0.055802  0.037993  0.031107  0.020263  0.019036   \n",
       "2018-01            1.0  0.059715  0.039339  0.024973  0.020244             \n",
       "2018-02            1.0   0.05708  0.025454  0.020093                       \n",
       "2018-03            1.0  0.041818  0.027053                                 \n",
       "2018-04            1.0   0.04838                                           \n",
       "2018-05            1.0                                                     \n",
       "\n",
       "age                      6         7         8         9         10        11  \n",
       "first_visit_month                                                              \n",
       "2017-06            0.061015  0.057772  0.052342  0.050833  0.040652  0.044951  \n",
       "2017-07            0.045358  0.045738  0.038813  0.028615  0.027473            \n",
       "2017-08            0.036342  0.039485  0.027895  0.026029                      \n",
       "2017-09             0.03586  0.024186  0.022809                                \n",
       "2017-10            0.021365  0.020364                                          \n",
       "2017-11              0.0218                                                    \n",
       "2017-12                                                                        \n",
       "2018-01                                                                        \n",
       "2018-02                                                                        \n",
       "2018-03                                                                        \n",
       "2018-04                                                                        \n",
       "2018-05                                                                        "
      ]
     },
     "execution_count": 29,
     "metadata": {},
     "output_type": "execute_result"
    }
   ],
   "source": [
    "#Calculando a taxa de retenção\n",
    "retention_rates = pivot_visit.copy()\n",
    "for col in retention_rates.columns[1:]:\n",
    "  retention_rates[col] = retention_rates[col] / retention_rates[0]\n",
    "\n",
    "retention_rates[0] = retention_rates[0]/retention_rates[0]\n",
    "\n",
    "retention_rates.fillna(\"\")"
   ]
  },
  {
   "cell_type": "code",
   "execution_count": 30,
   "metadata": {
    "scrolled": false
   },
   "outputs": [
    {
     "data": {
      "text/plain": [
       "<AxesSubplot:xlabel='age', ylabel='first_visit_month'>"
      ]
     },
     "execution_count": 30,
     "metadata": {},
     "output_type": "execute_result"
    },
    {
     "data": {
      "image/png": "[encoded data removed]",
      "text/plain": [
       "<Figure size 1300x900 with 2 Axes>"
      ]
     },
     "metadata": {},
     "output_type": "display_data"
    }
   ],
   "source": [
    "#Heatmap da taxa de retenção\n",
    "plt.figure(figsize=(13, 9))\n",
    "sns.heatmap(retention_rates, annot=True, fmt='.2f', linewidths=1, linecolor='grey', vmax=0.1)"
   ]
  },
  {
   "cell_type": "markdown",
   "metadata": {},
   "source": [
    "\n",
    "<div class=\"alert alert-block alert-danger\">\n",
    "<b> Comentário do revisor: </b> <a class=\"tocSkip\"></a>\n",
    "\n",
    "- Precisa calcular e plotar gráficos para visitas diárias, semanais e mensais. Dica: visits.groupby('session_week').agg({'uid': 'nunique'})\n",
    "- Qual é a distribuição do comprimento da sessã?\n",
    "- Com que frequência os usuarios voltam? VoCê precisa calcular a taxa de retenção. Vou deixar um código de exemplo, Daí, você precisa plotar heatmap   \n",
    "</div>"
   ]
  },
  {
   "cell_type": "code",
   "execution_count": 31,
   "metadata": {},
   "outputs": [],
   "source": [
    "first_visits = visits_log_us.groupby('uid').agg({'start_ts': 'min'}).reset_index()\n",
    "first_visits['first_session_dt'] = first_visits['start_ts']\n",
    "first_visits['first_session_month'] = first_visits['start_ts'].dt.to_period('M')\n",
    "first_visits.drop(columns = ['start_ts'], inplace = True)\n",
    "visits_full = pd.merge(first_visits, visits_log_us, on = 'uid')\n",
    "#proximo passo é calcular a diferença entre o mẽs da sessão e o 1o mês e então dividir por np.timedelta64(1,'M')).round().astype('int')"
   ]
  },
  {
   "cell_type": "code",
   "execution_count": 32,
   "metadata": {
    "scrolled": true
   },
   "outputs": [
    {
     "data": {
      "text/html": [
       "<div>\n",
       "<style scoped>\n",
       "    .dataframe tbody tr th:only-of-type {\n",
       "        vertical-align: middle;\n",
       "    }\n",
       "\n",
       "    .dataframe tbody tr th {\n",
       "        vertical-align: top;\n",
       "    }\n",
       "\n",
       "    .dataframe thead th {\n",
       "        text-align: right;\n",
       "    }\n",
       "</style>\n",
       "<table border=\"1\" class=\"dataframe\">\n",
       "  <thead>\n",
       "    <tr style=\"text-align: right;\">\n",
       "      <th></th>\n",
       "      <th>uid</th>\n",
       "      <th>first_session_dt</th>\n",
       "      <th>first_session_month</th>\n",
       "      <th>device</th>\n",
       "      <th>end_ts</th>\n",
       "      <th>source_id</th>\n",
       "      <th>start_ts</th>\n",
       "      <th>day</th>\n",
       "      <th>week</th>\n",
       "      <th>month</th>\n",
       "      <th>session_duration</th>\n",
       "    </tr>\n",
       "  </thead>\n",
       "  <tbody>\n",
       "    <tr>\n",
       "      <th>0</th>\n",
       "      <td>11863502262781</td>\n",
       "      <td>2018-03-01 17:27:00</td>\n",
       "      <td>2018-03</td>\n",
       "      <td>touch</td>\n",
       "      <td>2018-03-01 17:33:00</td>\n",
       "      <td>3</td>\n",
       "      <td>2018-03-01 17:27:00</td>\n",
       "      <td>2018-03-01</td>\n",
       "      <td>2018-02-26/2018-03-04</td>\n",
       "      <td>2018-03</td>\n",
       "      <td>360.0</td>\n",
       "    </tr>\n",
       "    <tr>\n",
       "      <th>1</th>\n",
       "      <td>49537067089222</td>\n",
       "      <td>2018-02-06 15:55:00</td>\n",
       "      <td>2018-02</td>\n",
       "      <td>touch</td>\n",
       "      <td>2018-02-06 15:57:00</td>\n",
       "      <td>2</td>\n",
       "      <td>2018-02-06 15:55:00</td>\n",
       "      <td>2018-02-06</td>\n",
       "      <td>2018-02-05/2018-02-11</td>\n",
       "      <td>2018-02</td>\n",
       "      <td>120.0</td>\n",
       "    </tr>\n",
       "    <tr>\n",
       "      <th>2</th>\n",
       "      <td>297729379853735</td>\n",
       "      <td>2017-06-07 18:47:00</td>\n",
       "      <td>2017-06</td>\n",
       "      <td>desktop</td>\n",
       "      <td>2017-06-07 18:48:00</td>\n",
       "      <td>3</td>\n",
       "      <td>2017-06-07 18:47:00</td>\n",
       "      <td>2017-06-07</td>\n",
       "      <td>2017-06-05/2017-06-11</td>\n",
       "      <td>2017-06</td>\n",
       "      <td>60.0</td>\n",
       "    </tr>\n",
       "    <tr>\n",
       "      <th>3</th>\n",
       "      <td>313578113262317</td>\n",
       "      <td>2017-09-18 22:49:00</td>\n",
       "      <td>2017-09</td>\n",
       "      <td>desktop</td>\n",
       "      <td>2018-03-11 17:29:00</td>\n",
       "      <td>2</td>\n",
       "      <td>2018-03-11 17:23:00</td>\n",
       "      <td>2018-03-11</td>\n",
       "      <td>2018-03-05/2018-03-11</td>\n",
       "      <td>2018-03</td>\n",
       "      <td>360.0</td>\n",
       "    </tr>\n",
       "    <tr>\n",
       "      <th>4</th>\n",
       "      <td>313578113262317</td>\n",
       "      <td>2017-09-18 22:49:00</td>\n",
       "      <td>2017-09</td>\n",
       "      <td>desktop</td>\n",
       "      <td>2017-09-18 23:07:00</td>\n",
       "      <td>2</td>\n",
       "      <td>2017-09-18 22:49:00</td>\n",
       "      <td>2017-09-18</td>\n",
       "      <td>2017-09-18/2017-09-24</td>\n",
       "      <td>2017-09</td>\n",
       "      <td>1080.0</td>\n",
       "    </tr>\n",
       "  </tbody>\n",
       "</table>\n",
       "</div>"
      ],
      "text/plain": [
       "               uid    first_session_dt first_session_month   device  \\\n",
       "0   11863502262781 2018-03-01 17:27:00             2018-03    touch   \n",
       "1   49537067089222 2018-02-06 15:55:00             2018-02    touch   \n",
       "2  297729379853735 2017-06-07 18:47:00             2017-06  desktop   \n",
       "3  313578113262317 2017-09-18 22:49:00             2017-09  desktop   \n",
       "4  313578113262317 2017-09-18 22:49:00             2017-09  desktop   \n",
       "\n",
       "               end_ts  source_id            start_ts         day  \\\n",
       "0 2018-03-01 17:33:00          3 2018-03-01 17:27:00  2018-03-01   \n",
       "1 2018-02-06 15:57:00          2 2018-02-06 15:55:00  2018-02-06   \n",
       "2 2017-06-07 18:48:00          3 2017-06-07 18:47:00  2017-06-07   \n",
       "3 2018-03-11 17:29:00          2 2018-03-11 17:23:00  2018-03-11   \n",
       "4 2017-09-18 23:07:00          2 2017-09-18 22:49:00  2017-09-18   \n",
       "\n",
       "                    week    month  session_duration  \n",
       "0  2018-02-26/2018-03-04  2018-03             360.0  \n",
       "1  2018-02-05/2018-02-11  2018-02             120.0  \n",
       "2  2017-06-05/2017-06-11  2017-06              60.0  \n",
       "3  2018-03-05/2018-03-11  2018-03             360.0  \n",
       "4  2017-09-18/2017-09-24  2017-09            1080.0  "
      ]
     },
     "execution_count": 32,
     "metadata": {},
     "output_type": "execute_result"
    }
   ],
   "source": [
    "visits_full.head()"
   ]
  },
  {
   "cell_type": "code",
   "execution_count": 33,
   "metadata": {},
   "outputs": [
    {
     "data": {
      "text/html": [
       "<div>\n",
       "<style scoped>\n",
       "    .dataframe tbody tr th:only-of-type {\n",
       "        vertical-align: middle;\n",
       "    }\n",
       "\n",
       "    .dataframe tbody tr th {\n",
       "        vertical-align: top;\n",
       "    }\n",
       "\n",
       "    .dataframe thead th {\n",
       "        text-align: right;\n",
       "    }\n",
       "</style>\n",
       "<table border=\"1\" class=\"dataframe\">\n",
       "  <thead>\n",
       "    <tr style=\"text-align: right;\">\n",
       "      <th></th>\n",
       "      <th>uid</th>\n",
       "      <th>first_session_dt</th>\n",
       "      <th>first_session_month</th>\n",
       "      <th>device</th>\n",
       "      <th>end_ts</th>\n",
       "      <th>source_id</th>\n",
       "      <th>start_ts</th>\n",
       "      <th>day</th>\n",
       "      <th>week</th>\n",
       "      <th>month</th>\n",
       "      <th>session_duration</th>\n",
       "      <th>age</th>\n",
       "    </tr>\n",
       "  </thead>\n",
       "  <tbody>\n",
       "    <tr>\n",
       "      <th>0</th>\n",
       "      <td>11863502262781</td>\n",
       "      <td>2018-03-01 17:27:00</td>\n",
       "      <td>2018-03</td>\n",
       "      <td>touch</td>\n",
       "      <td>2018-03-01 17:33:00</td>\n",
       "      <td>3</td>\n",
       "      <td>2018-03-01 17:27:00</td>\n",
       "      <td>2018-03-01</td>\n",
       "      <td>2018-02-26/2018-03-04</td>\n",
       "      <td>2018-03</td>\n",
       "      <td>360.0</td>\n",
       "      <td>0</td>\n",
       "    </tr>\n",
       "    <tr>\n",
       "      <th>1</th>\n",
       "      <td>49537067089222</td>\n",
       "      <td>2018-02-06 15:55:00</td>\n",
       "      <td>2018-02</td>\n",
       "      <td>touch</td>\n",
       "      <td>2018-02-06 15:57:00</td>\n",
       "      <td>2</td>\n",
       "      <td>2018-02-06 15:55:00</td>\n",
       "      <td>2018-02-06</td>\n",
       "      <td>2018-02-05/2018-02-11</td>\n",
       "      <td>2018-02</td>\n",
       "      <td>120.0</td>\n",
       "      <td>0</td>\n",
       "    </tr>\n",
       "    <tr>\n",
       "      <th>2</th>\n",
       "      <td>297729379853735</td>\n",
       "      <td>2017-06-07 18:47:00</td>\n",
       "      <td>2017-06</td>\n",
       "      <td>desktop</td>\n",
       "      <td>2017-06-07 18:48:00</td>\n",
       "      <td>3</td>\n",
       "      <td>2017-06-07 18:47:00</td>\n",
       "      <td>2017-06-07</td>\n",
       "      <td>2017-06-05/2017-06-11</td>\n",
       "      <td>2017-06</td>\n",
       "      <td>60.0</td>\n",
       "      <td>0</td>\n",
       "    </tr>\n",
       "    <tr>\n",
       "      <th>3</th>\n",
       "      <td>313578113262317</td>\n",
       "      <td>2017-09-18 22:49:00</td>\n",
       "      <td>2017-09</td>\n",
       "      <td>desktop</td>\n",
       "      <td>2018-03-11 17:29:00</td>\n",
       "      <td>2</td>\n",
       "      <td>2018-03-11 17:23:00</td>\n",
       "      <td>2018-03-11</td>\n",
       "      <td>2018-03-05/2018-03-11</td>\n",
       "      <td>2018-03</td>\n",
       "      <td>360.0</td>\n",
       "      <td>6</td>\n",
       "    </tr>\n",
       "    <tr>\n",
       "      <th>4</th>\n",
       "      <td>313578113262317</td>\n",
       "      <td>2017-09-18 22:49:00</td>\n",
       "      <td>2017-09</td>\n",
       "      <td>desktop</td>\n",
       "      <td>2017-09-18 23:07:00</td>\n",
       "      <td>2</td>\n",
       "      <td>2017-09-18 22:49:00</td>\n",
       "      <td>2017-09-18</td>\n",
       "      <td>2017-09-18/2017-09-24</td>\n",
       "      <td>2017-09</td>\n",
       "      <td>1080.0</td>\n",
       "      <td>0</td>\n",
       "    </tr>\n",
       "  </tbody>\n",
       "</table>\n",
       "</div>"
      ],
      "text/plain": [
       "               uid    first_session_dt first_session_month   device  \\\n",
       "0   11863502262781 2018-03-01 17:27:00             2018-03    touch   \n",
       "1   49537067089222 2018-02-06 15:55:00             2018-02    touch   \n",
       "2  297729379853735 2017-06-07 18:47:00             2017-06  desktop   \n",
       "3  313578113262317 2017-09-18 22:49:00             2017-09  desktop   \n",
       "4  313578113262317 2017-09-18 22:49:00             2017-09  desktop   \n",
       "\n",
       "               end_ts  source_id            start_ts         day  \\\n",
       "0 2018-03-01 17:33:00          3 2018-03-01 17:27:00  2018-03-01   \n",
       "1 2018-02-06 15:57:00          2 2018-02-06 15:55:00  2018-02-06   \n",
       "2 2017-06-07 18:48:00          3 2017-06-07 18:47:00  2017-06-07   \n",
       "3 2018-03-11 17:29:00          2 2018-03-11 17:23:00  2018-03-11   \n",
       "4 2017-09-18 23:07:00          2 2017-09-18 22:49:00  2017-09-18   \n",
       "\n",
       "                    week    month  session_duration  age  \n",
       "0  2018-02-26/2018-03-04  2018-03             360.0    0  \n",
       "1  2018-02-05/2018-02-11  2018-02             120.0    0  \n",
       "2  2017-06-05/2017-06-11  2017-06              60.0    0  \n",
       "3  2018-03-05/2018-03-11  2018-03             360.0    6  \n",
       "4  2017-09-18/2017-09-24  2017-09            1080.0    0  "
      ]
     },
     "execution_count": 33,
     "metadata": {},
     "output_type": "execute_result"
    }
   ],
   "source": [
    "visits_full['age'] = (visits_full['month'].astype('int64') - visits_full['first_session_month'].astype('int64'))\n",
    "visits_full.head()"
   ]
  },
  {
   "cell_type": "markdown",
   "metadata": {},
   "source": [
    "# Segunda parte (PRODUTOS) "
   ]
  },
  {
   "cell_type": "code",
   "execution_count": 34,
   "metadata": {
    "scrolled": false
   },
   "outputs": [
    {
     "data": {
      "text/html": [
       "<div>\n",
       "<style scoped>\n",
       "    .dataframe tbody tr th:only-of-type {\n",
       "        vertical-align: middle;\n",
       "    }\n",
       "\n",
       "    .dataframe tbody tr th {\n",
       "        vertical-align: top;\n",
       "    }\n",
       "\n",
       "    .dataframe thead th {\n",
       "        text-align: right;\n",
       "    }\n",
       "</style>\n",
       "<table border=\"1\" class=\"dataframe\">\n",
       "  <thead>\n",
       "    <tr style=\"text-align: right;\">\n",
       "      <th></th>\n",
       "      <th>buy_ts</th>\n",
       "      <th>revenue</th>\n",
       "      <th>uid</th>\n",
       "    </tr>\n",
       "  </thead>\n",
       "  <tbody>\n",
       "    <tr>\n",
       "      <th>0</th>\n",
       "      <td>2017-06-01 00:10:00</td>\n",
       "      <td>17.00</td>\n",
       "      <td>10329302124590727494</td>\n",
       "    </tr>\n",
       "    <tr>\n",
       "      <th>1</th>\n",
       "      <td>2017-06-01 00:25:00</td>\n",
       "      <td>0.55</td>\n",
       "      <td>11627257723692907447</td>\n",
       "    </tr>\n",
       "    <tr>\n",
       "      <th>2</th>\n",
       "      <td>2017-06-01 00:27:00</td>\n",
       "      <td>0.37</td>\n",
       "      <td>17903680561304213844</td>\n",
       "    </tr>\n",
       "    <tr>\n",
       "      <th>3</th>\n",
       "      <td>2017-06-01 00:29:00</td>\n",
       "      <td>0.55</td>\n",
       "      <td>16109239769442553005</td>\n",
       "    </tr>\n",
       "    <tr>\n",
       "      <th>4</th>\n",
       "      <td>2017-06-01 07:58:00</td>\n",
       "      <td>0.37</td>\n",
       "      <td>14200605875248379450</td>\n",
       "    </tr>\n",
       "    <tr>\n",
       "      <th>...</th>\n",
       "      <td>...</td>\n",
       "      <td>...</td>\n",
       "      <td>...</td>\n",
       "    </tr>\n",
       "    <tr>\n",
       "      <th>50410</th>\n",
       "      <td>2018-05-31 23:50:00</td>\n",
       "      <td>4.64</td>\n",
       "      <td>12296626599487328624</td>\n",
       "    </tr>\n",
       "    <tr>\n",
       "      <th>50411</th>\n",
       "      <td>2018-05-31 23:50:00</td>\n",
       "      <td>5.80</td>\n",
       "      <td>11369640365507475976</td>\n",
       "    </tr>\n",
       "    <tr>\n",
       "      <th>50412</th>\n",
       "      <td>2018-05-31 23:54:00</td>\n",
       "      <td>0.30</td>\n",
       "      <td>1786462140797698849</td>\n",
       "    </tr>\n",
       "    <tr>\n",
       "      <th>50413</th>\n",
       "      <td>2018-05-31 23:56:00</td>\n",
       "      <td>3.67</td>\n",
       "      <td>3993697860786194247</td>\n",
       "    </tr>\n",
       "    <tr>\n",
       "      <th>50414</th>\n",
       "      <td>2018-06-01 00:02:00</td>\n",
       "      <td>3.42</td>\n",
       "      <td>83872787173869366</td>\n",
       "    </tr>\n",
       "  </tbody>\n",
       "</table>\n",
       "<p>50415 rows × 3 columns</p>\n",
       "</div>"
      ],
      "text/plain": [
       "                    buy_ts  revenue                   uid\n",
       "0      2017-06-01 00:10:00    17.00  10329302124590727494\n",
       "1      2017-06-01 00:25:00     0.55  11627257723692907447\n",
       "2      2017-06-01 00:27:00     0.37  17903680561304213844\n",
       "3      2017-06-01 00:29:00     0.55  16109239769442553005\n",
       "4      2017-06-01 07:58:00     0.37  14200605875248379450\n",
       "...                    ...      ...                   ...\n",
       "50410  2018-05-31 23:50:00     4.64  12296626599487328624\n",
       "50411  2018-05-31 23:50:00     5.80  11369640365507475976\n",
       "50412  2018-05-31 23:54:00     0.30   1786462140797698849\n",
       "50413  2018-05-31 23:56:00     3.67   3993697860786194247\n",
       "50414  2018-06-01 00:02:00     3.42     83872787173869366\n",
       "\n",
       "[50415 rows x 3 columns]"
      ]
     },
     "execution_count": 34,
     "metadata": {},
     "output_type": "execute_result"
    }
   ],
   "source": [
    "column_names = orders_log_us.columns\n",
    "lowercase_names = [name.lower() for name in column_names]\n",
    "orders_log_us.columns = lowercase_names\n",
    "\n",
    "stripped_names = [name.strip() for name in column_names]\n",
    "lowercase_names = [name.lower() for name in stripped_names]\n",
    "orders_log_us.columns = lowercase_names\n",
    "\n",
    "rename_dict = {'buy ts': 'buy_ts'}\n",
    "orders_log_us.rename(columns=rename_dict, inplace=True)\n",
    "\n",
    "orders_log_us"
   ]
  },
  {
   "cell_type": "code",
   "execution_count": 35,
   "metadata": {
    "scrolled": false
   },
   "outputs": [
    {
     "name": "stdout",
     "output_type": "stream",
     "text": [
      "<class 'pandas.core.frame.DataFrame'>\n",
      "RangeIndex: 50415 entries, 0 to 50414\n",
      "Data columns (total 6 columns):\n",
      " #   Column   Non-Null Count  Dtype         \n",
      "---  ------   --------------  -----         \n",
      " 0   buy_ts   50415 non-null  datetime64[ns]\n",
      " 1   revenue  50415 non-null  float64       \n",
      " 2   uid      50415 non-null  uint64        \n",
      " 3   day      50415 non-null  object        \n",
      " 4   week     50415 non-null  period[W-SUN] \n",
      " 5   month    50415 non-null  period[M]     \n",
      "dtypes: datetime64[ns](1), float64(1), object(1), period[M](1), period[W-SUN](1), uint64(1)\n",
      "memory usage: 2.3+ MB\n"
     ]
    }
   ],
   "source": [
    "#Convertendo e analisando dados do orders_log_us\n",
    "orders_log_us['buy_ts'] = pd.to_datetime(orders_log_us['buy_ts'], format=\"%Y-%m-%d %H:%M:%S\")\n",
    "orders_log_us['day'] = orders_log_us['buy_ts'].dt.date\n",
    "orders_log_us['week'] = orders_log_us['buy_ts'].dt.to_period('W')\n",
    "orders_log_us['month'] = orders_log_us['buy_ts'].dt.to_period('M')\n",
    "\n",
    "orders_log_us.info()"
   ]
  },
  {
   "cell_type": "code",
   "execution_count": 36,
   "metadata": {
    "scrolled": false
   },
   "outputs": [
    {
     "data": {
      "text/plain": [
       "<AxesSubplot:>"
      ]
     },
     "execution_count": 36,
     "metadata": {},
     "output_type": "execute_result"
    },
    {
     "data": {
      "image/png": "[encoded data removed]",
      "text/plain": [
       "<Figure size 640x480 with 1 Axes>"
      ]
     },
     "metadata": {},
     "output_type": "display_data"
    }
   ],
   "source": [
    "#Quando as pessoas começam a comprar?\n",
    "first_visit = visits_log_us.groupby('uid')['start_ts'].min().reset_index()\n",
    "first_order = orders_log_us.groupby('uid')['buy_ts'].min().reset_index()\n",
    "\n",
    "visit_order = pd.merge(first_visit, first_order, on='uid')\n",
    "\n",
    "visit_order['days_to_conversion'] = (visit_order['buy_ts'] - visit_order['start_ts']).dt.days\n",
    "\n",
    "visit_order['days_to_conversion'].hist()"
   ]
  },
  {
   "cell_type": "markdown",
   "metadata": {},
   "source": [
    "<s>\n",
    "<div class=\"alert alert-block alert-danger\">\n",
    "<b> Comentário do revisor: </b> <a class=\"tocSkip\"></a>\n",
    "\n",
    "Não está claro quando as pessoas começam a comprar? Quanto tempo em média? Precias plotar a distribuição.\n",
    "</div>"
   ]
  },
  {
   "cell_type": "code",
   "execution_count": 37,
   "metadata": {
    "scrolled": true
   },
   "outputs": [],
   "source": [
    "#Quantos pedidos os clientes fazem durante um determinado período de tempo?\n",
    "first_order = orders_log_us.groupby('uid').agg({'buy_ts': 'min'}).reset_index()\n",
    "first_order['first_order_dt'] = first_order['buy_ts']\n",
    "first_order['first_order_month'] = first_order['buy_ts'].dt.to_period('M')\n",
    "first_order.drop(columns = ['buy_ts'], inplace = True)\n",
    "orders_full = pd.merge(first_order, orders_log_us, on = 'uid')\n",
    "\n",
    "orders_full['order_month'] = orders_full['buy_ts'].dt.to_period('M')\n",
    "orders_full['age'] = (orders_full['month'].astype('int64') - orders_full['first_order_month'].astype('int64'))\n"
   ]
  },
  {
   "cell_type": "code",
   "execution_count": 38,
   "metadata": {},
   "outputs": [
    {
     "data": {
      "text/plain": [
       "<AxesSubplot:xlabel='age', ylabel='month'>"
      ]
     },
     "execution_count": 38,
     "metadata": {},
     "output_type": "execute_result"
    },
    {
     "data": {
      "image/png": "[encoded data removed]",
      "text/plain": [
       "<Figure size 1300x900 with 2 Axes>"
      ]
     },
     "metadata": {},
     "output_type": "display_data"
    }
   ],
   "source": [
    "plt.figure(figsize=(13, 9))\n",
    "sns.heatmap(orders_full.pivot_table(index = 'month', columns = 'age', values = 'uid', aggfunc = 'count'), data=orders_full, annot=True, fmt='.0f', linewidths=1, linecolor='grey', vmax=300)#, center = 10, vmax=1.0, cmap=sns.diverging_palette(20, 220, as_cmap=True), cbar_kws= {'orientation': 'horizontal'}).set(title = 'Retention Rate')"
   ]
  },
  {
   "cell_type": "markdown",
   "metadata": {},
   "source": [
    "<s>\n",
    "<div class=\"alert alert-block alert-danger\">\n",
    "<b> Comentário do revisor: </b> <a class=\"tocSkip\"></a>\n",
    "\n",
    "Você precisa calcular a média em função da data de 1a compra e o tempo (1, 2, 3 etc meses). Precisa plotar heatmap\n",
    "</div>"
   ]
  },
  {
   "cell_type": "markdown",
   "metadata": {},
   "source": []
  },
  {
   "cell_type": "code",
   "execution_count": 39,
   "metadata": {
    "scrolled": false
   },
   "outputs": [
    {
     "name": "stdout",
     "output_type": "stream",
     "text": [
      "Volume médio de uma compra: month\n",
      "2017-06    4.060106\n",
      "2017-07    5.306589\n",
      "2017-08    4.847139\n",
      "2017-09    5.416448\n",
      "2017-10    4.928280\n",
      "2017-11    4.783518\n",
      "2017-12    5.852139\n",
      "2018-01    4.112927\n",
      "2018-02    4.840095\n",
      "2018-03    5.413930\n",
      "2018-04    5.150645\n",
      "2018-05    4.771279\n",
      "2018-06    3.420000\n",
      "Freq: M, Name: revenue, dtype: float64\n"
     ]
    },
    {
     "data": {
      "text/plain": [
       "<AxesSubplot:xlabel='month'>"
      ]
     },
     "execution_count": 39,
     "metadata": {},
     "output_type": "execute_result"
    },
    {
     "data": {
      "image/png": "[encoded data removed]",
      "text/plain": [
       "<Figure size 640x480 with 1 Axes>"
      ]
     },
     "metadata": {},
     "output_type": "display_data"
    }
   ],
   "source": [
    "#Qual é o volume médio de uma compra?\n",
    "avg_order_value = orders_log_us.groupby('month')['revenue'].mean()\n",
    "print(\"Volume médio de uma compra:\", avg_order_value)\n",
    "\n",
    "avg_order_value.plot()"
   ]
  },
  {
   "cell_type": "code",
   "execution_count": 40,
   "metadata": {
    "scrolled": false
   },
   "outputs": [
    {
     "data": {
      "text/html": [
       "<div>\n",
       "<style scoped>\n",
       "    .dataframe tbody tr th:only-of-type {\n",
       "        vertical-align: middle;\n",
       "    }\n",
       "\n",
       "    .dataframe tbody tr th {\n",
       "        vertical-align: top;\n",
       "    }\n",
       "\n",
       "    .dataframe thead th {\n",
       "        text-align: right;\n",
       "    }\n",
       "</style>\n",
       "<table border=\"1\" class=\"dataframe\">\n",
       "  <thead>\n",
       "    <tr style=\"text-align: right;\">\n",
       "      <th></th>\n",
       "      <th>buy_ts</th>\n",
       "      <th>revenue</th>\n",
       "      <th>uid</th>\n",
       "      <th>day</th>\n",
       "      <th>week</th>\n",
       "      <th>month</th>\n",
       "    </tr>\n",
       "  </thead>\n",
       "  <tbody>\n",
       "    <tr>\n",
       "      <th>0</th>\n",
       "      <td>2017-06-01 00:10:00</td>\n",
       "      <td>17.00</td>\n",
       "      <td>10329302124590727494</td>\n",
       "      <td>2017-06-01</td>\n",
       "      <td>2017-05-29/2017-06-04</td>\n",
       "      <td>2017-06</td>\n",
       "    </tr>\n",
       "    <tr>\n",
       "      <th>1</th>\n",
       "      <td>2017-06-01 00:25:00</td>\n",
       "      <td>0.55</td>\n",
       "      <td>11627257723692907447</td>\n",
       "      <td>2017-06-01</td>\n",
       "      <td>2017-05-29/2017-06-04</td>\n",
       "      <td>2017-06</td>\n",
       "    </tr>\n",
       "    <tr>\n",
       "      <th>2</th>\n",
       "      <td>2017-06-01 00:27:00</td>\n",
       "      <td>0.37</td>\n",
       "      <td>17903680561304213844</td>\n",
       "      <td>2017-06-01</td>\n",
       "      <td>2017-05-29/2017-06-04</td>\n",
       "      <td>2017-06</td>\n",
       "    </tr>\n",
       "    <tr>\n",
       "      <th>3</th>\n",
       "      <td>2017-06-01 00:29:00</td>\n",
       "      <td>0.55</td>\n",
       "      <td>16109239769442553005</td>\n",
       "      <td>2017-06-01</td>\n",
       "      <td>2017-05-29/2017-06-04</td>\n",
       "      <td>2017-06</td>\n",
       "    </tr>\n",
       "    <tr>\n",
       "      <th>4</th>\n",
       "      <td>2017-06-01 07:58:00</td>\n",
       "      <td>0.37</td>\n",
       "      <td>14200605875248379450</td>\n",
       "      <td>2017-06-01</td>\n",
       "      <td>2017-05-29/2017-06-04</td>\n",
       "      <td>2017-06</td>\n",
       "    </tr>\n",
       "    <tr>\n",
       "      <th>...</th>\n",
       "      <td>...</td>\n",
       "      <td>...</td>\n",
       "      <td>...</td>\n",
       "      <td>...</td>\n",
       "      <td>...</td>\n",
       "      <td>...</td>\n",
       "    </tr>\n",
       "    <tr>\n",
       "      <th>50410</th>\n",
       "      <td>2018-05-31 23:50:00</td>\n",
       "      <td>4.64</td>\n",
       "      <td>12296626599487328624</td>\n",
       "      <td>2018-05-31</td>\n",
       "      <td>2018-05-28/2018-06-03</td>\n",
       "      <td>2018-05</td>\n",
       "    </tr>\n",
       "    <tr>\n",
       "      <th>50411</th>\n",
       "      <td>2018-05-31 23:50:00</td>\n",
       "      <td>5.80</td>\n",
       "      <td>11369640365507475976</td>\n",
       "      <td>2018-05-31</td>\n",
       "      <td>2018-05-28/2018-06-03</td>\n",
       "      <td>2018-05</td>\n",
       "    </tr>\n",
       "    <tr>\n",
       "      <th>50412</th>\n",
       "      <td>2018-05-31 23:54:00</td>\n",
       "      <td>0.30</td>\n",
       "      <td>1786462140797698849</td>\n",
       "      <td>2018-05-31</td>\n",
       "      <td>2018-05-28/2018-06-03</td>\n",
       "      <td>2018-05</td>\n",
       "    </tr>\n",
       "    <tr>\n",
       "      <th>50413</th>\n",
       "      <td>2018-05-31 23:56:00</td>\n",
       "      <td>3.67</td>\n",
       "      <td>3993697860786194247</td>\n",
       "      <td>2018-05-31</td>\n",
       "      <td>2018-05-28/2018-06-03</td>\n",
       "      <td>2018-05</td>\n",
       "    </tr>\n",
       "    <tr>\n",
       "      <th>50414</th>\n",
       "      <td>2018-06-01 00:02:00</td>\n",
       "      <td>3.42</td>\n",
       "      <td>83872787173869366</td>\n",
       "      <td>2018-06-01</td>\n",
       "      <td>2018-05-28/2018-06-03</td>\n",
       "      <td>2018-06</td>\n",
       "    </tr>\n",
       "  </tbody>\n",
       "</table>\n",
       "<p>50415 rows × 6 columns</p>\n",
       "</div>"
      ],
      "text/plain": [
       "                   buy_ts  revenue                   uid         day  \\\n",
       "0     2017-06-01 00:10:00    17.00  10329302124590727494  2017-06-01   \n",
       "1     2017-06-01 00:25:00     0.55  11627257723692907447  2017-06-01   \n",
       "2     2017-06-01 00:27:00     0.37  17903680561304213844  2017-06-01   \n",
       "3     2017-06-01 00:29:00     0.55  16109239769442553005  2017-06-01   \n",
       "4     2017-06-01 07:58:00     0.37  14200605875248379450  2017-06-01   \n",
       "...                   ...      ...                   ...         ...   \n",
       "50410 2018-05-31 23:50:00     4.64  12296626599487328624  2018-05-31   \n",
       "50411 2018-05-31 23:50:00     5.80  11369640365507475976  2018-05-31   \n",
       "50412 2018-05-31 23:54:00     0.30   1786462140797698849  2018-05-31   \n",
       "50413 2018-05-31 23:56:00     3.67   3993697860786194247  2018-05-31   \n",
       "50414 2018-06-01 00:02:00     3.42     83872787173869366  2018-06-01   \n",
       "\n",
       "                        week    month  \n",
       "0      2017-05-29/2017-06-04  2017-06  \n",
       "1      2017-05-29/2017-06-04  2017-06  \n",
       "2      2017-05-29/2017-06-04  2017-06  \n",
       "3      2017-05-29/2017-06-04  2017-06  \n",
       "4      2017-05-29/2017-06-04  2017-06  \n",
       "...                      ...      ...  \n",
       "50410  2018-05-28/2018-06-03  2018-05  \n",
       "50411  2018-05-28/2018-06-03  2018-05  \n",
       "50412  2018-05-28/2018-06-03  2018-05  \n",
       "50413  2018-05-28/2018-06-03  2018-05  \n",
       "50414  2018-05-28/2018-06-03  2018-06  \n",
       "\n",
       "[50415 rows x 6 columns]"
      ]
     },
     "execution_count": 40,
     "metadata": {},
     "output_type": "execute_result"
    }
   ],
   "source": [
    "orders_log_us"
   ]
  },
  {
   "cell_type": "code",
   "execution_count": 41,
   "metadata": {},
   "outputs": [
    {
     "data": {
      "text/html": [
       "<div>\n",
       "<style scoped>\n",
       "    .dataframe tbody tr th:only-of-type {\n",
       "        vertical-align: middle;\n",
       "    }\n",
       "\n",
       "    .dataframe tbody tr th {\n",
       "        vertical-align: top;\n",
       "    }\n",
       "\n",
       "    .dataframe thead th {\n",
       "        text-align: right;\n",
       "    }\n",
       "</style>\n",
       "<table border=\"1\" class=\"dataframe\">\n",
       "  <thead>\n",
       "    <tr style=\"text-align: right;\">\n",
       "      <th></th>\n",
       "      <th>uid</th>\n",
       "      <th>first_order_dt</th>\n",
       "      <th>first_order_month</th>\n",
       "      <th>buy_ts</th>\n",
       "      <th>revenue</th>\n",
       "      <th>day</th>\n",
       "      <th>week</th>\n",
       "      <th>month</th>\n",
       "      <th>order_month</th>\n",
       "      <th>age</th>\n",
       "    </tr>\n",
       "  </thead>\n",
       "  <tbody>\n",
       "    <tr>\n",
       "      <th>0</th>\n",
       "      <td>313578113262317</td>\n",
       "      <td>2018-01-03 21:51:00</td>\n",
       "      <td>2018-01</td>\n",
       "      <td>2018-01-03 21:51:00</td>\n",
       "      <td>0.55</td>\n",
       "      <td>2018-01-03</td>\n",
       "      <td>2018-01-01/2018-01-07</td>\n",
       "      <td>2018-01</td>\n",
       "      <td>2018-01</td>\n",
       "      <td>0</td>\n",
       "    </tr>\n",
       "    <tr>\n",
       "      <th>1</th>\n",
       "      <td>1575281904278712</td>\n",
       "      <td>2017-06-03 10:13:00</td>\n",
       "      <td>2017-06</td>\n",
       "      <td>2017-06-03 10:13:00</td>\n",
       "      <td>1.22</td>\n",
       "      <td>2017-06-03</td>\n",
       "      <td>2017-05-29/2017-06-04</td>\n",
       "      <td>2017-06</td>\n",
       "      <td>2017-06</td>\n",
       "      <td>0</td>\n",
       "    </tr>\n",
       "    <tr>\n",
       "      <th>2</th>\n",
       "      <td>1575281904278712</td>\n",
       "      <td>2017-06-03 10:13:00</td>\n",
       "      <td>2017-06</td>\n",
       "      <td>2017-06-03 17:39:00</td>\n",
       "      <td>1.83</td>\n",
       "      <td>2017-06-03</td>\n",
       "      <td>2017-05-29/2017-06-04</td>\n",
       "      <td>2017-06</td>\n",
       "      <td>2017-06</td>\n",
       "      <td>0</td>\n",
       "    </tr>\n",
       "    <tr>\n",
       "      <th>3</th>\n",
       "      <td>2429014661409475</td>\n",
       "      <td>2017-10-11 18:33:00</td>\n",
       "      <td>2017-10</td>\n",
       "      <td>2017-10-11 18:33:00</td>\n",
       "      <td>73.33</td>\n",
       "      <td>2017-10-11</td>\n",
       "      <td>2017-10-09/2017-10-15</td>\n",
       "      <td>2017-10</td>\n",
       "      <td>2017-10</td>\n",
       "      <td>0</td>\n",
       "    </tr>\n",
       "    <tr>\n",
       "      <th>4</th>\n",
       "      <td>2464366381792757</td>\n",
       "      <td>2018-01-28 15:54:00</td>\n",
       "      <td>2018-01</td>\n",
       "      <td>2018-01-28 15:54:00</td>\n",
       "      <td>2.44</td>\n",
       "      <td>2018-01-28</td>\n",
       "      <td>2018-01-22/2018-01-28</td>\n",
       "      <td>2018-01</td>\n",
       "      <td>2018-01</td>\n",
       "      <td>0</td>\n",
       "    </tr>\n",
       "    <tr>\n",
       "      <th>...</th>\n",
       "      <td>...</td>\n",
       "      <td>...</td>\n",
       "      <td>...</td>\n",
       "      <td>...</td>\n",
       "      <td>...</td>\n",
       "      <td>...</td>\n",
       "      <td>...</td>\n",
       "      <td>...</td>\n",
       "      <td>...</td>\n",
       "      <td>...</td>\n",
       "    </tr>\n",
       "    <tr>\n",
       "      <th>50410</th>\n",
       "      <td>18445407535914413204</td>\n",
       "      <td>2017-09-22 23:55:00</td>\n",
       "      <td>2017-09</td>\n",
       "      <td>2017-09-24 23:48:00</td>\n",
       "      <td>0.24</td>\n",
       "      <td>2017-09-24</td>\n",
       "      <td>2017-09-18/2017-09-24</td>\n",
       "      <td>2017-09</td>\n",
       "      <td>2017-09</td>\n",
       "      <td>0</td>\n",
       "    </tr>\n",
       "    <tr>\n",
       "      <th>50411</th>\n",
       "      <td>18445407535914413204</td>\n",
       "      <td>2017-09-22 23:55:00</td>\n",
       "      <td>2017-09</td>\n",
       "      <td>2017-09-25 15:56:00</td>\n",
       "      <td>0.12</td>\n",
       "      <td>2017-09-25</td>\n",
       "      <td>2017-09-25/2017-10-01</td>\n",
       "      <td>2017-09</td>\n",
       "      <td>2017-09</td>\n",
       "      <td>0</td>\n",
       "    </tr>\n",
       "    <tr>\n",
       "      <th>50412</th>\n",
       "      <td>18445601152732270159</td>\n",
       "      <td>2018-03-26 22:54:00</td>\n",
       "      <td>2018-03</td>\n",
       "      <td>2018-03-26 22:54:00</td>\n",
       "      <td>4.22</td>\n",
       "      <td>2018-03-26</td>\n",
       "      <td>2018-03-26/2018-04-01</td>\n",
       "      <td>2018-03</td>\n",
       "      <td>2018-03</td>\n",
       "      <td>0</td>\n",
       "    </tr>\n",
       "    <tr>\n",
       "      <th>50413</th>\n",
       "      <td>18446156210226471712</td>\n",
       "      <td>2018-02-18 19:34:00</td>\n",
       "      <td>2018-02</td>\n",
       "      <td>2018-02-18 19:34:00</td>\n",
       "      <td>9.78</td>\n",
       "      <td>2018-02-18</td>\n",
       "      <td>2018-02-12/2018-02-18</td>\n",
       "      <td>2018-02</td>\n",
       "      <td>2018-02</td>\n",
       "      <td>0</td>\n",
       "    </tr>\n",
       "    <tr>\n",
       "      <th>50414</th>\n",
       "      <td>18446167067214817906</td>\n",
       "      <td>2017-10-17 10:16:00</td>\n",
       "      <td>2017-10</td>\n",
       "      <td>2017-10-17 10:16:00</td>\n",
       "      <td>7.94</td>\n",
       "      <td>2017-10-17</td>\n",
       "      <td>2017-10-16/2017-10-22</td>\n",
       "      <td>2017-10</td>\n",
       "      <td>2017-10</td>\n",
       "      <td>0</td>\n",
       "    </tr>\n",
       "  </tbody>\n",
       "</table>\n",
       "<p>50415 rows × 10 columns</p>\n",
       "</div>"
      ],
      "text/plain": [
       "                        uid      first_order_dt first_order_month  \\\n",
       "0           313578113262317 2018-01-03 21:51:00           2018-01   \n",
       "1          1575281904278712 2017-06-03 10:13:00           2017-06   \n",
       "2          1575281904278712 2017-06-03 10:13:00           2017-06   \n",
       "3          2429014661409475 2017-10-11 18:33:00           2017-10   \n",
       "4          2464366381792757 2018-01-28 15:54:00           2018-01   \n",
       "...                     ...                 ...               ...   \n",
       "50410  18445407535914413204 2017-09-22 23:55:00           2017-09   \n",
       "50411  18445407535914413204 2017-09-22 23:55:00           2017-09   \n",
       "50412  18445601152732270159 2018-03-26 22:54:00           2018-03   \n",
       "50413  18446156210226471712 2018-02-18 19:34:00           2018-02   \n",
       "50414  18446167067214817906 2017-10-17 10:16:00           2017-10   \n",
       "\n",
       "                   buy_ts  revenue         day                   week  \\\n",
       "0     2018-01-03 21:51:00     0.55  2018-01-03  2018-01-01/2018-01-07   \n",
       "1     2017-06-03 10:13:00     1.22  2017-06-03  2017-05-29/2017-06-04   \n",
       "2     2017-06-03 17:39:00     1.83  2017-06-03  2017-05-29/2017-06-04   \n",
       "3     2017-10-11 18:33:00    73.33  2017-10-11  2017-10-09/2017-10-15   \n",
       "4     2018-01-28 15:54:00     2.44  2018-01-28  2018-01-22/2018-01-28   \n",
       "...                   ...      ...         ...                    ...   \n",
       "50410 2017-09-24 23:48:00     0.24  2017-09-24  2017-09-18/2017-09-24   \n",
       "50411 2017-09-25 15:56:00     0.12  2017-09-25  2017-09-25/2017-10-01   \n",
       "50412 2018-03-26 22:54:00     4.22  2018-03-26  2018-03-26/2018-04-01   \n",
       "50413 2018-02-18 19:34:00     9.78  2018-02-18  2018-02-12/2018-02-18   \n",
       "50414 2017-10-17 10:16:00     7.94  2017-10-17  2017-10-16/2017-10-22   \n",
       "\n",
       "         month order_month  age  \n",
       "0      2018-01     2018-01    0  \n",
       "1      2017-06     2017-06    0  \n",
       "2      2017-06     2017-06    0  \n",
       "3      2017-10     2017-10    0  \n",
       "4      2018-01     2018-01    0  \n",
       "...        ...         ...  ...  \n",
       "50410  2017-09     2017-09    0  \n",
       "50411  2017-09     2017-09    0  \n",
       "50412  2018-03     2018-03    0  \n",
       "50413  2018-02     2018-02    0  \n",
       "50414  2017-10     2017-10    0  \n",
       "\n",
       "[50415 rows x 10 columns]"
      ]
     },
     "execution_count": 41,
     "metadata": {},
     "output_type": "execute_result"
    }
   ],
   "source": [
    "orders_full"
   ]
  },
  {
   "cell_type": "markdown",
   "metadata": {},
   "source": [
    "<s>\n",
    "<div class=\"alert alert-block alert-danger\">\n",
    "<b> Comentário do revisor: </b> <a class=\"tocSkip\"></a>\n",
    "\n",
    "Você precisa plotar o gráfico tendo mês da compra no eixo X\n",
    "</div>"
   ]
  },
  {
   "cell_type": "code",
   "execution_count": 42,
   "metadata": {
    "scrolled": false
   },
   "outputs": [
    {
     "data": {
      "text/html": [
       "<div>\n",
       "<style scoped>\n",
       "    .dataframe tbody tr th:only-of-type {\n",
       "        vertical-align: middle;\n",
       "    }\n",
       "\n",
       "    .dataframe tbody tr th {\n",
       "        vertical-align: top;\n",
       "    }\n",
       "\n",
       "    .dataframe thead th {\n",
       "        text-align: right;\n",
       "    }\n",
       "</style>\n",
       "<table border=\"1\" class=\"dataframe\">\n",
       "  <thead>\n",
       "    <tr style=\"text-align: right;\">\n",
       "      <th></th>\n",
       "      <th>first_order_month</th>\n",
       "      <th>uid</th>\n",
       "    </tr>\n",
       "  </thead>\n",
       "  <tbody>\n",
       "    <tr>\n",
       "      <th>0</th>\n",
       "      <td>2017-06</td>\n",
       "      <td>2023</td>\n",
       "    </tr>\n",
       "    <tr>\n",
       "      <th>1</th>\n",
       "      <td>2017-07</td>\n",
       "      <td>1923</td>\n",
       "    </tr>\n",
       "    <tr>\n",
       "      <th>2</th>\n",
       "      <td>2017-08</td>\n",
       "      <td>1370</td>\n",
       "    </tr>\n",
       "    <tr>\n",
       "      <th>3</th>\n",
       "      <td>2017-09</td>\n",
       "      <td>2581</td>\n",
       "    </tr>\n",
       "    <tr>\n",
       "      <th>4</th>\n",
       "      <td>2017-10</td>\n",
       "      <td>4340</td>\n",
       "    </tr>\n",
       "    <tr>\n",
       "      <th>5</th>\n",
       "      <td>2017-11</td>\n",
       "      <td>4081</td>\n",
       "    </tr>\n",
       "    <tr>\n",
       "      <th>6</th>\n",
       "      <td>2017-12</td>\n",
       "      <td>4383</td>\n",
       "    </tr>\n",
       "    <tr>\n",
       "      <th>7</th>\n",
       "      <td>2018-01</td>\n",
       "      <td>3373</td>\n",
       "    </tr>\n",
       "    <tr>\n",
       "      <th>8</th>\n",
       "      <td>2018-02</td>\n",
       "      <td>3651</td>\n",
       "    </tr>\n",
       "    <tr>\n",
       "      <th>9</th>\n",
       "      <td>2018-03</td>\n",
       "      <td>3533</td>\n",
       "    </tr>\n",
       "    <tr>\n",
       "      <th>10</th>\n",
       "      <td>2018-04</td>\n",
       "      <td>2276</td>\n",
       "    </tr>\n",
       "    <tr>\n",
       "      <th>11</th>\n",
       "      <td>2018-05</td>\n",
       "      <td>2988</td>\n",
       "    </tr>\n",
       "    <tr>\n",
       "      <th>12</th>\n",
       "      <td>2018-06</td>\n",
       "      <td>1</td>\n",
       "    </tr>\n",
       "  </tbody>\n",
       "</table>\n",
       "</div>"
      ],
      "text/plain": [
       "   first_order_month   uid\n",
       "0            2017-06  2023\n",
       "1            2017-07  1923\n",
       "2            2017-08  1370\n",
       "3            2017-09  2581\n",
       "4            2017-10  4340\n",
       "5            2017-11  4081\n",
       "6            2017-12  4383\n",
       "7            2018-01  3373\n",
       "8            2018-02  3651\n",
       "9            2018-03  3533\n",
       "10           2018-04  2276\n",
       "11           2018-05  2988\n",
       "12           2018-06     1"
      ]
     },
     "execution_count": 42,
     "metadata": {},
     "output_type": "execute_result"
    }
   ],
   "source": [
    "#Quanto dinheiro eles trazem para a empresa (LTV)?\n",
    "corrot_size = orders_full.groupby('first_order_month')['uid'].nunique().reset_index()\n",
    "corrot_size"
   ]
  },
  {
   "cell_type": "code",
   "execution_count": 43,
   "metadata": {
    "scrolled": false
   },
   "outputs": [],
   "source": [
    "df_ltv = orders_full.groupby(['first_order_month', 'age'])['revenue'].sum().reset_index()\n",
    "df_ltv = df_ltv.merge(corrot_size, on='first_order_month')"
   ]
  },
  {
   "cell_type": "code",
   "execution_count": 44,
   "metadata": {},
   "outputs": [],
   "source": [
    "df_ltv['ltv'] = df_ltv['revenue'] / df_ltv['uid']"
   ]
  },
  {
   "cell_type": "code",
   "execution_count": 45,
   "metadata": {},
   "outputs": [
    {
     "data": {
      "text/plain": [
       "<AxesSubplot:xlabel='age', ylabel='first_order_month'>"
      ]
     },
     "execution_count": 45,
     "metadata": {},
     "output_type": "execute_result"
    },
    {
     "data": {
      "image/png": "[encoded data removed]",
      "text/plain": [
       "<Figure size 1300x900 with 2 Axes>"
      ]
     },
     "metadata": {},
     "output_type": "display_data"
    }
   ],
   "source": [
    "plt.figure(figsize=(13, 9))\n",
    "sns.heatmap(df_ltv.pivot_table(index = 'first_order_month', columns = 'age', values = 'ltv', aggfunc = 'sum').cumsum(axis = 1), annot=True, fmt='.0f', linewidths=1, linecolor='grey', vmax=15)"
   ]
  },
  {
   "cell_type": "markdown",
   "metadata": {},
   "source": [
    "<s>\n",
    "<div class=\"alert alert-block alert-danger\">\n",
    "<b> Comentário do revisor: </b> <a class=\"tocSkip\"></a>\n",
    "\n",
    "Você precisa calcular a média em função da data de 1a compra e o tempo (1, 2, 3 etc meses). Precisa plotar heatmap\n",
    "</div>"
   ]
  },
  {
   "cell_type": "markdown",
   "metadata": {},
   "source": [
    "# Terceira parte (MARKETING)"
   ]
  },
  {
   "cell_type": "code",
   "execution_count": 46,
   "metadata": {
    "scrolled": false
   },
   "outputs": [
    {
     "data": {
      "text/html": [
       "<div>\n",
       "<style scoped>\n",
       "    .dataframe tbody tr th:only-of-type {\n",
       "        vertical-align: middle;\n",
       "    }\n",
       "\n",
       "    .dataframe tbody tr th {\n",
       "        vertical-align: top;\n",
       "    }\n",
       "\n",
       "    .dataframe thead th {\n",
       "        text-align: right;\n",
       "    }\n",
       "</style>\n",
       "<table border=\"1\" class=\"dataframe\">\n",
       "  <thead>\n",
       "    <tr style=\"text-align: right;\">\n",
       "      <th></th>\n",
       "      <th>source_id</th>\n",
       "      <th>dt</th>\n",
       "      <th>costs</th>\n",
       "    </tr>\n",
       "  </thead>\n",
       "  <tbody>\n",
       "    <tr>\n",
       "      <th>0</th>\n",
       "      <td>1</td>\n",
       "      <td>2017-06-01</td>\n",
       "      <td>75.20</td>\n",
       "    </tr>\n",
       "    <tr>\n",
       "      <th>1</th>\n",
       "      <td>1</td>\n",
       "      <td>2017-06-02</td>\n",
       "      <td>62.25</td>\n",
       "    </tr>\n",
       "    <tr>\n",
       "      <th>2</th>\n",
       "      <td>1</td>\n",
       "      <td>2017-06-03</td>\n",
       "      <td>36.53</td>\n",
       "    </tr>\n",
       "    <tr>\n",
       "      <th>3</th>\n",
       "      <td>1</td>\n",
       "      <td>2017-06-04</td>\n",
       "      <td>55.00</td>\n",
       "    </tr>\n",
       "    <tr>\n",
       "      <th>4</th>\n",
       "      <td>1</td>\n",
       "      <td>2017-06-05</td>\n",
       "      <td>57.08</td>\n",
       "    </tr>\n",
       "    <tr>\n",
       "      <th>...</th>\n",
       "      <td>...</td>\n",
       "      <td>...</td>\n",
       "      <td>...</td>\n",
       "    </tr>\n",
       "    <tr>\n",
       "      <th>2537</th>\n",
       "      <td>10</td>\n",
       "      <td>2018-05-27</td>\n",
       "      <td>9.92</td>\n",
       "    </tr>\n",
       "    <tr>\n",
       "      <th>2538</th>\n",
       "      <td>10</td>\n",
       "      <td>2018-05-28</td>\n",
       "      <td>21.26</td>\n",
       "    </tr>\n",
       "    <tr>\n",
       "      <th>2539</th>\n",
       "      <td>10</td>\n",
       "      <td>2018-05-29</td>\n",
       "      <td>11.32</td>\n",
       "    </tr>\n",
       "    <tr>\n",
       "      <th>2540</th>\n",
       "      <td>10</td>\n",
       "      <td>2018-05-30</td>\n",
       "      <td>33.15</td>\n",
       "    </tr>\n",
       "    <tr>\n",
       "      <th>2541</th>\n",
       "      <td>10</td>\n",
       "      <td>2018-05-31</td>\n",
       "      <td>17.60</td>\n",
       "    </tr>\n",
       "  </tbody>\n",
       "</table>\n",
       "<p>2542 rows × 3 columns</p>\n",
       "</div>"
      ],
      "text/plain": [
       "      source_id          dt  costs\n",
       "0             1  2017-06-01  75.20\n",
       "1             1  2017-06-02  62.25\n",
       "2             1  2017-06-03  36.53\n",
       "3             1  2017-06-04  55.00\n",
       "4             1  2017-06-05  57.08\n",
       "...         ...         ...    ...\n",
       "2537         10  2018-05-27   9.92\n",
       "2538         10  2018-05-28  21.26\n",
       "2539         10  2018-05-29  11.32\n",
       "2540         10  2018-05-30  33.15\n",
       "2541         10  2018-05-31  17.60\n",
       "\n",
       "[2542 rows x 3 columns]"
      ]
     },
     "execution_count": 46,
     "metadata": {},
     "output_type": "execute_result"
    }
   ],
   "source": [
    "costs_us "
   ]
  },
  {
   "cell_type": "code",
   "execution_count": 47,
   "metadata": {},
   "outputs": [
    {
     "name": "stdout",
     "output_type": "stream",
     "text": [
      "<class 'pandas.core.frame.DataFrame'>\n",
      "RangeIndex: 2542 entries, 0 to 2541\n",
      "Data columns (total 6 columns):\n",
      " #   Column     Non-Null Count  Dtype         \n",
      "---  ------     --------------  -----         \n",
      " 0   source_id  2542 non-null   int64         \n",
      " 1   dt         2542 non-null   datetime64[ns]\n",
      " 2   costs      2542 non-null   float64       \n",
      " 3   day        2542 non-null   object        \n",
      " 4   week       2542 non-null   period[W-SUN] \n",
      " 5   month      2542 non-null   period[M]     \n",
      "dtypes: datetime64[ns](1), float64(1), int64(1), object(1), period[M](1), period[W-SUN](1)\n",
      "memory usage: 119.3+ KB\n"
     ]
    }
   ],
   "source": [
    "costs_us['dt'] = pd.to_datetime(costs_us['dt'], format=\"%Y-%m-%d\")\n",
    "costs_us['day'] = costs_us['dt'].dt.date\n",
    "costs_us['week'] = costs_us['dt'].dt.to_period('W')\n",
    "costs_us['month'] = costs_us['dt'].dt.to_period('M')\n",
    "\n",
    "costs_us.info()"
   ]
  },
  {
   "cell_type": "code",
   "execution_count": 48,
   "metadata": {
    "scrolled": false
   },
   "outputs": [
    {
     "name": "stdout",
     "output_type": "stream",
     "text": [
      "Total de gastos: 329131.62\n",
      "Gastos por origem: source_id\n",
      "1      20833.27\n",
      "2      42806.04\n",
      "3     141321.63\n",
      "4      61073.60\n",
      "5      51757.10\n",
      "9       5517.49\n",
      "10      5822.49\n",
      "Name: costs, dtype: float64\n",
      "Gastos ao longo do tempo: dt\n",
      "2017-10-06     980.52\n",
      "2017-10-27     824.66\n",
      "2017-11-03     811.14\n",
      "2017-11-24    1788.28\n",
      "2017-11-25     803.14\n",
      "2017-11-27     831.73\n",
      "2017-11-30     777.52\n",
      "2017-12-05     788.03\n",
      "2017-12-11    1061.18\n",
      "2017-12-12     802.27\n",
      "2017-12-28     858.28\n",
      "2018-01-03     844.63\n",
      "2018-01-19     784.57\n",
      "2018-02-05     845.75\n",
      "2018-02-09     822.49\n",
      "2018-02-13     791.51\n",
      "2018-02-19     774.05\n",
      "2018-02-22     769.47\n",
      "2018-03-07     996.15\n",
      "2018-05-31     822.30\n",
      "Name: costs, dtype: float64\n"
     ]
    }
   ],
   "source": [
    "#Quanto dinheiro foi gasto?\n",
    "total_costs = costs_us['costs'].sum()\n",
    "print(\"Total de gastos:\", total_costs)\n",
    "\n",
    "costs_by_source = costs_us.groupby('source_id')['costs'].sum()\n",
    "print(\"Gastos por origem:\", costs_by_source)\n",
    "\n",
    "costs_over_time_head = costs_us.sort_values(by='costs', ascending=False).head(20)\n",
    "costs_over_time = costs_over_time_head.groupby('dt')['costs'].sum()\n",
    "print(\"Gastos ao longo do tempo:\", costs_over_time)"
   ]
  },
  {
   "cell_type": "code",
   "execution_count": 49,
   "metadata": {},
   "outputs": [
    {
     "data": {
      "image/png": "[encoded data removed]",
      "text/plain": [
       "<Figure size 1500x1000 with 1 Axes>"
      ]
     },
     "metadata": {},
     "output_type": "display_data"
    }
   ],
   "source": [
    "costs_by_source.plot(xlabel='Número do anúncio',\n",
    "                 ylabel='Valor investido',\n",
    "                 x='costs',\n",
    "                 y='source_id',\n",
    "                 kind = 'bar',\n",
    "                 figsize=(15, 10),\n",
    "                 title='Gastos por origem')\n",
    "\n",
    "plt.show()"
   ]
  },
  {
   "cell_type": "code",
   "execution_count": 50,
   "metadata": {},
   "outputs": [
    {
     "data": {
      "image/png": "[encoded data removed]",
      "text/plain": [
       "<Figure size 1500x1000 with 1 Axes>"
      ]
     },
     "metadata": {},
     "output_type": "display_data"
    }
   ],
   "source": [
    "costs_over_time.plot(xlabel='Data',\n",
    "                 ylabel='Valor gasto',\n",
    "                 x='dt',\n",
    "                 y='costs',\n",
    "                 kind = 'bar',\n",
    "                 figsize=(15, 10),\n",
    "                 title='Gastos ao longo do tempo')\n",
    "\n",
    "plt.show()"
   ]
  },
  {
   "cell_type": "markdown",
   "metadata": {},
   "source": [
    "<s>\n",
    "<div class=\"alert alert-block alert-danger\">\n",
    "<b> Comentário do revisor: </b> <a class=\"tocSkip\"></a>\n",
    "\n",
    "Precisa plotar gráfico\n",
    "</div>"
   ]
  },
  {
   "cell_type": "code",
   "execution_count": 51,
   "metadata": {},
   "outputs": [
    {
     "data": {
      "text/html": [
       "<div>\n",
       "<style scoped>\n",
       "    .dataframe tbody tr th:only-of-type {\n",
       "        vertical-align: middle;\n",
       "    }\n",
       "\n",
       "    .dataframe tbody tr th {\n",
       "        vertical-align: top;\n",
       "    }\n",
       "\n",
       "    .dataframe thead th {\n",
       "        text-align: right;\n",
       "    }\n",
       "</style>\n",
       "<table border=\"1\" class=\"dataframe\">\n",
       "  <thead>\n",
       "    <tr style=\"text-align: right;\">\n",
       "      <th></th>\n",
       "      <th>source_id</th>\n",
       "      <th>dt</th>\n",
       "      <th>costs</th>\n",
       "      <th>day</th>\n",
       "      <th>week</th>\n",
       "      <th>month</th>\n",
       "    </tr>\n",
       "  </thead>\n",
       "  <tbody>\n",
       "    <tr>\n",
       "      <th>0</th>\n",
       "      <td>1</td>\n",
       "      <td>2017-06-01</td>\n",
       "      <td>75.20</td>\n",
       "      <td>2017-06-01</td>\n",
       "      <td>2017-05-29/2017-06-04</td>\n",
       "      <td>2017-06</td>\n",
       "    </tr>\n",
       "    <tr>\n",
       "      <th>1</th>\n",
       "      <td>1</td>\n",
       "      <td>2017-06-02</td>\n",
       "      <td>62.25</td>\n",
       "      <td>2017-06-02</td>\n",
       "      <td>2017-05-29/2017-06-04</td>\n",
       "      <td>2017-06</td>\n",
       "    </tr>\n",
       "    <tr>\n",
       "      <th>2</th>\n",
       "      <td>1</td>\n",
       "      <td>2017-06-03</td>\n",
       "      <td>36.53</td>\n",
       "      <td>2017-06-03</td>\n",
       "      <td>2017-05-29/2017-06-04</td>\n",
       "      <td>2017-06</td>\n",
       "    </tr>\n",
       "    <tr>\n",
       "      <th>3</th>\n",
       "      <td>1</td>\n",
       "      <td>2017-06-04</td>\n",
       "      <td>55.00</td>\n",
       "      <td>2017-06-04</td>\n",
       "      <td>2017-05-29/2017-06-04</td>\n",
       "      <td>2017-06</td>\n",
       "    </tr>\n",
       "    <tr>\n",
       "      <th>4</th>\n",
       "      <td>1</td>\n",
       "      <td>2017-06-05</td>\n",
       "      <td>57.08</td>\n",
       "      <td>2017-06-05</td>\n",
       "      <td>2017-06-05/2017-06-11</td>\n",
       "      <td>2017-06</td>\n",
       "    </tr>\n",
       "    <tr>\n",
       "      <th>...</th>\n",
       "      <td>...</td>\n",
       "      <td>...</td>\n",
       "      <td>...</td>\n",
       "      <td>...</td>\n",
       "      <td>...</td>\n",
       "      <td>...</td>\n",
       "    </tr>\n",
       "    <tr>\n",
       "      <th>2537</th>\n",
       "      <td>10</td>\n",
       "      <td>2018-05-27</td>\n",
       "      <td>9.92</td>\n",
       "      <td>2018-05-27</td>\n",
       "      <td>2018-05-21/2018-05-27</td>\n",
       "      <td>2018-05</td>\n",
       "    </tr>\n",
       "    <tr>\n",
       "      <th>2538</th>\n",
       "      <td>10</td>\n",
       "      <td>2018-05-28</td>\n",
       "      <td>21.26</td>\n",
       "      <td>2018-05-28</td>\n",
       "      <td>2018-05-28/2018-06-03</td>\n",
       "      <td>2018-05</td>\n",
       "    </tr>\n",
       "    <tr>\n",
       "      <th>2539</th>\n",
       "      <td>10</td>\n",
       "      <td>2018-05-29</td>\n",
       "      <td>11.32</td>\n",
       "      <td>2018-05-29</td>\n",
       "      <td>2018-05-28/2018-06-03</td>\n",
       "      <td>2018-05</td>\n",
       "    </tr>\n",
       "    <tr>\n",
       "      <th>2540</th>\n",
       "      <td>10</td>\n",
       "      <td>2018-05-30</td>\n",
       "      <td>33.15</td>\n",
       "      <td>2018-05-30</td>\n",
       "      <td>2018-05-28/2018-06-03</td>\n",
       "      <td>2018-05</td>\n",
       "    </tr>\n",
       "    <tr>\n",
       "      <th>2541</th>\n",
       "      <td>10</td>\n",
       "      <td>2018-05-31</td>\n",
       "      <td>17.60</td>\n",
       "      <td>2018-05-31</td>\n",
       "      <td>2018-05-28/2018-06-03</td>\n",
       "      <td>2018-05</td>\n",
       "    </tr>\n",
       "  </tbody>\n",
       "</table>\n",
       "<p>2542 rows × 6 columns</p>\n",
       "</div>"
      ],
      "text/plain": [
       "      source_id         dt  costs         day                   week    month\n",
       "0             1 2017-06-01  75.20  2017-06-01  2017-05-29/2017-06-04  2017-06\n",
       "1             1 2017-06-02  62.25  2017-06-02  2017-05-29/2017-06-04  2017-06\n",
       "2             1 2017-06-03  36.53  2017-06-03  2017-05-29/2017-06-04  2017-06\n",
       "3             1 2017-06-04  55.00  2017-06-04  2017-05-29/2017-06-04  2017-06\n",
       "4             1 2017-06-05  57.08  2017-06-05  2017-06-05/2017-06-11  2017-06\n",
       "...         ...        ...    ...         ...                    ...      ...\n",
       "2537         10 2018-05-27   9.92  2018-05-27  2018-05-21/2018-05-27  2018-05\n",
       "2538         10 2018-05-28  21.26  2018-05-28  2018-05-28/2018-06-03  2018-05\n",
       "2539         10 2018-05-29  11.32  2018-05-29  2018-05-28/2018-06-03  2018-05\n",
       "2540         10 2018-05-30  33.15  2018-05-30  2018-05-28/2018-06-03  2018-05\n",
       "2541         10 2018-05-31  17.60  2018-05-31  2018-05-28/2018-06-03  2018-05\n",
       "\n",
       "[2542 rows x 6 columns]"
      ]
     },
     "execution_count": 51,
     "metadata": {},
     "output_type": "execute_result"
    }
   ],
   "source": [
    "costs_us"
   ]
  },
  {
   "cell_type": "code",
   "execution_count": 52,
   "metadata": {},
   "outputs": [],
   "source": [
    "costs_us['dt']= pd.to_datetime(costs_us['dt'])\n",
    "costs_us['first_order_month'] = costs_us['dt'].dt.to_period('M')"
   ]
  },
  {
   "cell_type": "markdown",
   "metadata": {},
   "source": [
    "# Quanto custou a aquisição de clientes para cada origem?"
   ]
  },
  {
   "cell_type": "code",
   "execution_count": 53,
   "metadata": {},
   "outputs": [],
   "source": [
    "cac = costs_us.groupby('first_order_month')['costs'].sum().reset_index()\n",
    "cac = pd.merge(cac, corrot_size, on='first_order_month')"
   ]
  },
  {
   "cell_type": "code",
   "execution_count": 54,
   "metadata": {},
   "outputs": [],
   "source": [
    "cac['cac'] = cac['costs'] / cac['uid']"
   ]
  },
  {
   "cell_type": "code",
   "execution_count": 55,
   "metadata": {},
   "outputs": [],
   "source": [
    "cac = pd.merge(cac, df_ltv, on='first_order_month')"
   ]
  },
  {
   "cell_type": "code",
   "execution_count": 56,
   "metadata": {},
   "outputs": [
    {
     "data": {
      "text/html": [
       "<div>\n",
       "<style scoped>\n",
       "    .dataframe tbody tr th:only-of-type {\n",
       "        vertical-align: middle;\n",
       "    }\n",
       "\n",
       "    .dataframe tbody tr th {\n",
       "        vertical-align: top;\n",
       "    }\n",
       "\n",
       "    .dataframe thead th {\n",
       "        text-align: right;\n",
       "    }\n",
       "</style>\n",
       "<table border=\"1\" class=\"dataframe\">\n",
       "  <thead>\n",
       "    <tr style=\"text-align: right;\">\n",
       "      <th></th>\n",
       "      <th>first_order_month</th>\n",
       "      <th>costs</th>\n",
       "      <th>uid_x</th>\n",
       "      <th>cac</th>\n",
       "      <th>age</th>\n",
       "      <th>revenue</th>\n",
       "      <th>uid_y</th>\n",
       "      <th>ltv</th>\n",
       "    </tr>\n",
       "  </thead>\n",
       "  <tbody>\n",
       "    <tr>\n",
       "      <th>0</th>\n",
       "      <td>2017-06</td>\n",
       "      <td>18015.00</td>\n",
       "      <td>2023</td>\n",
       "      <td>8.905091</td>\n",
       "      <td>0</td>\n",
       "      <td>9557.49</td>\n",
       "      <td>2023</td>\n",
       "      <td>4.724414</td>\n",
       "    </tr>\n",
       "    <tr>\n",
       "      <th>1</th>\n",
       "      <td>2017-06</td>\n",
       "      <td>18015.00</td>\n",
       "      <td>2023</td>\n",
       "      <td>8.905091</td>\n",
       "      <td>1</td>\n",
       "      <td>981.82</td>\n",
       "      <td>2023</td>\n",
       "      <td>0.485329</td>\n",
       "    </tr>\n",
       "    <tr>\n",
       "      <th>2</th>\n",
       "      <td>2017-06</td>\n",
       "      <td>18015.00</td>\n",
       "      <td>2023</td>\n",
       "      <td>8.905091</td>\n",
       "      <td>2</td>\n",
       "      <td>885.34</td>\n",
       "      <td>2023</td>\n",
       "      <td>0.437637</td>\n",
       "    </tr>\n",
       "    <tr>\n",
       "      <th>3</th>\n",
       "      <td>2017-06</td>\n",
       "      <td>18015.00</td>\n",
       "      <td>2023</td>\n",
       "      <td>8.905091</td>\n",
       "      <td>3</td>\n",
       "      <td>1931.30</td>\n",
       "      <td>2023</td>\n",
       "      <td>0.954671</td>\n",
       "    </tr>\n",
       "    <tr>\n",
       "      <th>4</th>\n",
       "      <td>2017-06</td>\n",
       "      <td>18015.00</td>\n",
       "      <td>2023</td>\n",
       "      <td>8.905091</td>\n",
       "      <td>4</td>\n",
       "      <td>2068.58</td>\n",
       "      <td>2023</td>\n",
       "      <td>1.022531</td>\n",
       "    </tr>\n",
       "    <tr>\n",
       "      <th>...</th>\n",
       "      <td>...</td>\n",
       "      <td>...</td>\n",
       "      <td>...</td>\n",
       "      <td>...</td>\n",
       "      <td>...</td>\n",
       "      <td>...</td>\n",
       "      <td>...</td>\n",
       "      <td>...</td>\n",
       "    </tr>\n",
       "    <tr>\n",
       "      <th>73</th>\n",
       "      <td>2018-03</td>\n",
       "      <td>30415.27</td>\n",
       "      <td>3533</td>\n",
       "      <td>8.608907</td>\n",
       "      <td>1</td>\n",
       "      <td>1063.05</td>\n",
       "      <td>3533</td>\n",
       "      <td>0.300892</td>\n",
       "    </tr>\n",
       "    <tr>\n",
       "      <th>74</th>\n",
       "      <td>2018-03</td>\n",
       "      <td>30415.27</td>\n",
       "      <td>3533</td>\n",
       "      <td>8.608907</td>\n",
       "      <td>2</td>\n",
       "      <td>1114.87</td>\n",
       "      <td>3533</td>\n",
       "      <td>0.315559</td>\n",
       "    </tr>\n",
       "    <tr>\n",
       "      <th>75</th>\n",
       "      <td>2018-04</td>\n",
       "      <td>22289.38</td>\n",
       "      <td>2276</td>\n",
       "      <td>9.793225</td>\n",
       "      <td>0</td>\n",
       "      <td>10600.69</td>\n",
       "      <td>2276</td>\n",
       "      <td>4.657597</td>\n",
       "    </tr>\n",
       "    <tr>\n",
       "      <th>76</th>\n",
       "      <td>2018-04</td>\n",
       "      <td>22289.38</td>\n",
       "      <td>2276</td>\n",
       "      <td>9.793225</td>\n",
       "      <td>1</td>\n",
       "      <td>1209.92</td>\n",
       "      <td>2276</td>\n",
       "      <td>0.531599</td>\n",
       "    </tr>\n",
       "    <tr>\n",
       "      <th>77</th>\n",
       "      <td>2018-05</td>\n",
       "      <td>22224.27</td>\n",
       "      <td>2988</td>\n",
       "      <td>7.437841</td>\n",
       "      <td>0</td>\n",
       "      <td>13925.76</td>\n",
       "      <td>2988</td>\n",
       "      <td>4.660562</td>\n",
       "    </tr>\n",
       "  </tbody>\n",
       "</table>\n",
       "<p>78 rows × 8 columns</p>\n",
       "</div>"
      ],
      "text/plain": [
       "   first_order_month     costs  uid_x       cac  age   revenue  uid_y  \\\n",
       "0            2017-06  18015.00   2023  8.905091    0   9557.49   2023   \n",
       "1            2017-06  18015.00   2023  8.905091    1    981.82   2023   \n",
       "2            2017-06  18015.00   2023  8.905091    2    885.34   2023   \n",
       "3            2017-06  18015.00   2023  8.905091    3   1931.30   2023   \n",
       "4            2017-06  18015.00   2023  8.905091    4   2068.58   2023   \n",
       "..               ...       ...    ...       ...  ...       ...    ...   \n",
       "73           2018-03  30415.27   3533  8.608907    1   1063.05   3533   \n",
       "74           2018-03  30415.27   3533  8.608907    2   1114.87   3533   \n",
       "75           2018-04  22289.38   2276  9.793225    0  10600.69   2276   \n",
       "76           2018-04  22289.38   2276  9.793225    1   1209.92   2276   \n",
       "77           2018-05  22224.27   2988  7.437841    0  13925.76   2988   \n",
       "\n",
       "         ltv  \n",
       "0   4.724414  \n",
       "1   0.485329  \n",
       "2   0.437637  \n",
       "3   0.954671  \n",
       "4   1.022531  \n",
       "..       ...  \n",
       "73  0.300892  \n",
       "74  0.315559  \n",
       "75  4.657597  \n",
       "76  0.531599  \n",
       "77  4.660562  \n",
       "\n",
       "[78 rows x 8 columns]"
      ]
     },
     "execution_count": 56,
     "metadata": {},
     "output_type": "execute_result"
    }
   ],
   "source": [
    "cac"
   ]
  },
  {
   "cell_type": "markdown",
   "metadata": {},
   "source": [
    "# Os investimentos valeram a pena? (ROI)"
   ]
  },
  {
   "cell_type": "code",
   "execution_count": 57,
   "metadata": {},
   "outputs": [],
   "source": [
    "cac['romi'] = cac['ltv'] / cac['cac']"
   ]
  },
  {
   "cell_type": "code",
   "execution_count": 58,
   "metadata": {
    "scrolled": false
   },
   "outputs": [
    {
     "data": {
      "text/plain": [
       "<AxesSubplot:xlabel='age', ylabel='first_order_month'>"
      ]
     },
     "execution_count": 58,
     "metadata": {},
     "output_type": "execute_result"
    },
    {
     "data": {
      "image/png": "[encoded data removed]",
      "text/plain": [
       "<Figure size 1300x900 with 2 Axes>"
      ]
     },
     "metadata": {},
     "output_type": "display_data"
    }
   ],
   "source": [
    "plt.figure(figsize=(13, 9))\n",
    "sns.heatmap(cac.pivot_table(index = 'first_order_month', columns = 'age', values = 'romi', aggfunc = 'sum').cumsum(axis = 1), annot=True, fmt='.2f', linewidths=1, linecolor='grey', vmax=1.5)"
   ]
  },
  {
   "cell_type": "markdown",
   "metadata": {},
   "source": [
    "Conclusão:\n",
    "Os investiemtos feitos até entao, obtiveram resultados bastate positivos. Porem, para melhorar ainda mais esses resultados, seria interessante investir em anuncios mais parecidos com o tipo 3, já que ele foi o que mais converteu clientes; alem de melhorar os anuncios para dispositivos touch, já que os dispositivos tipo desktop tiveram um desempenho quase 2x maior que os touch."
   ]
  },
  {
   "cell_type": "markdown",
   "metadata": {},
   "source": [
    "\n",
    "\n",
    "<div class=\"alert alert-block alert-danger\">\n",
    "<b> Comentário do revisor: </b> <a class=\"tocSkip\"></a>\n",
    "\n",
    "O cálculo do CAC está incorreto. Precisa calcular e plotar o CAC por mês. Vou deixar código como exemplo\n",
    "    \n",
    "\n",
    "```СAC_by_month = pd.merge(costs.groupby('costs_month').agg({'costs': 'sum'}), \n",
    "                        buyers.groupby('first_order_month').agg({'uid': 'nunique'}), \n",
    "                        left_index=True, \n",
    "                        right_index=True)\n",
    "СAC_by_month['cac'] = СAC_by_month['costs']  / СAC_by_month['uid']```\n",
    "</div>"
   ]
  },
  {
   "cell_type": "markdown",
   "metadata": {},
   "source": [
    "\n",
    "<div class=\"alert alert-block alert-danger\">\n",
    "<b> Comentário do revisor: </b> <a class=\"tocSkip\"></a>\n",
    "\n",
    "Erro no código. O cálculo do ROMI está incorreto. Se não me engano, o ROMI é dado por LTV/CAC. Fora que você precisa calcular para cada fonte.\n",
    "</div>"
   ]
  }
 ],
 "metadata": {
  "ExecuteTimeLog": [
   {
    "duration": 5004,
    "start_time": "2024-06-04T18:05:56.203Z"
   },
   {
    "duration": 723,
    "start_time": "2024-06-04T18:28:31.339Z"
   },
   {
    "duration": 16,
    "start_time": "2024-06-04T18:34:05.083Z"
   },
   {
    "duration": 11,
    "start_time": "2024-06-04T18:34:34.997Z"
   },
   {
    "duration": 11,
    "start_time": "2024-06-04T18:34:47.787Z"
   },
   {
    "duration": 10,
    "start_time": "2024-06-04T18:34:52.027Z"
   },
   {
    "duration": 112,
    "start_time": "2024-06-04T19:23:17.759Z"
   },
   {
    "duration": 96,
    "start_time": "2024-06-04T19:23:36.625Z"
   },
   {
    "duration": 15,
    "start_time": "2024-06-04T19:23:47.918Z"
   },
   {
    "duration": 25,
    "start_time": "2024-06-04T19:23:55.556Z"
   },
   {
    "duration": 15,
    "start_time": "2024-06-04T19:24:19.129Z"
   },
   {
    "duration": 76,
    "start_time": "2024-06-04T19:24:30.106Z"
   },
   {
    "duration": 20,
    "start_time": "2024-06-04T19:24:52.447Z"
   },
   {
    "duration": 17,
    "start_time": "2024-06-04T19:25:10.470Z"
   },
   {
    "duration": 397,
    "start_time": "2024-06-04T20:28:17.166Z"
   },
   {
    "duration": 173,
    "start_time": "2024-06-04T22:27:11.772Z"
   },
   {
    "duration": 11,
    "start_time": "2024-06-04T22:27:17.457Z"
   },
   {
    "duration": 223,
    "start_time": "2024-06-04T22:27:35.473Z"
   },
   {
    "duration": 172,
    "start_time": "2024-06-04T22:40:19.238Z"
   },
   {
    "duration": 173,
    "start_time": "2024-06-05T00:05:51.605Z"
   },
   {
    "duration": 5007,
    "start_time": "2024-06-05T14:45:55.903Z"
   },
   {
    "duration": 729,
    "start_time": "2024-06-05T14:46:00.913Z"
   },
   {
    "duration": 17,
    "start_time": "2024-06-05T14:46:01.645Z"
   },
   {
    "duration": 74,
    "start_time": "2024-06-05T14:46:01.667Z"
   },
   {
    "duration": 194,
    "start_time": "2024-06-05T14:46:01.744Z"
   },
   {
    "duration": 11,
    "start_time": "2024-06-05T14:46:01.942Z"
   },
   {
    "duration": 17,
    "start_time": "2024-06-05T14:46:01.957Z"
   },
   {
    "duration": 22,
    "start_time": "2024-06-05T14:46:02.002Z"
   },
   {
    "duration": 14,
    "start_time": "2024-06-05T14:46:02.029Z"
   },
   {
    "duration": 1304,
    "start_time": "2024-06-05T15:15:51.979Z"
   },
   {
    "duration": 342,
    "start_time": "2024-06-05T15:45:17.904Z"
   },
   {
    "duration": 199,
    "start_time": "2024-06-05T15:45:35.704Z"
   },
   {
    "duration": 304,
    "start_time": "2024-06-05T15:45:44.524Z"
   },
   {
    "duration": 91,
    "start_time": "2024-06-05T16:05:35.348Z"
   },
   {
    "duration": 39,
    "start_time": "2024-06-05T16:05:55.132Z"
   },
   {
    "duration": 34,
    "start_time": "2024-06-05T16:06:58.121Z"
   },
   {
    "duration": 21,
    "start_time": "2024-06-05T16:07:06.224Z"
   },
   {
    "duration": 15,
    "start_time": "2024-06-05T16:21:17.110Z"
   },
   {
    "duration": 15,
    "start_time": "2024-06-05T16:21:41.162Z"
   },
   {
    "duration": 13,
    "start_time": "2024-06-05T16:22:00.407Z"
   },
   {
    "duration": 324,
    "start_time": "2024-06-05T18:13:08.996Z"
   },
   {
    "duration": 4991,
    "start_time": "2024-06-05T18:13:15.080Z"
   },
   {
    "duration": 694,
    "start_time": "2024-06-05T18:13:20.074Z"
   },
   {
    "duration": 15,
    "start_time": "2024-06-05T18:13:20.774Z"
   },
   {
    "duration": 62,
    "start_time": "2024-06-05T18:13:20.793Z"
   },
   {
    "duration": 12,
    "start_time": "2024-06-05T18:13:20.858Z"
   },
   {
    "duration": 38,
    "start_time": "2024-06-05T18:13:20.873Z"
   },
   {
    "duration": 10,
    "start_time": "2024-06-05T18:13:20.914Z"
   },
   {
    "duration": 14,
    "start_time": "2024-06-05T18:13:20.927Z"
   },
   {
    "duration": 404,
    "start_time": "2024-06-05T18:13:20.945Z"
   },
   {
    "duration": 862,
    "start_time": "2024-06-05T18:13:21.354Z"
   },
   {
    "duration": 0,
    "start_time": "2024-06-05T18:13:22.219Z"
   },
   {
    "duration": 0,
    "start_time": "2024-06-05T18:13:22.221Z"
   },
   {
    "duration": 0,
    "start_time": "2024-06-05T18:13:22.223Z"
   },
   {
    "duration": 0,
    "start_time": "2024-06-05T18:13:22.226Z"
   },
   {
    "duration": 83,
    "start_time": "2024-06-05T18:13:52.789Z"
   },
   {
    "duration": 350,
    "start_time": "2024-06-05T18:38:25.564Z"
   },
   {
    "duration": 27,
    "start_time": "2024-06-05T18:38:47.313Z"
   },
   {
    "duration": 34,
    "start_time": "2024-06-05T18:49:27.487Z"
   },
   {
    "duration": 25,
    "start_time": "2024-06-05T18:50:01.595Z"
   },
   {
    "duration": 473,
    "start_time": "2024-06-05T19:03:10.899Z"
   },
   {
    "duration": 46,
    "start_time": "2024-06-05T19:03:39.597Z"
   },
   {
    "duration": 333,
    "start_time": "2024-06-05T19:05:16.870Z"
   },
   {
    "duration": 335,
    "start_time": "2024-06-05T19:56:46.140Z"
   },
   {
    "duration": 321,
    "start_time": "2024-06-05T19:56:59.595Z"
   },
   {
    "duration": 39,
    "start_time": "2024-06-05T20:02:45.004Z"
   },
   {
    "duration": 468,
    "start_time": "2024-06-05T20:05:03.580Z"
   },
   {
    "duration": 139,
    "start_time": "2024-06-05T20:05:34.033Z"
   },
   {
    "duration": 96,
    "start_time": "2024-06-05T20:08:36.389Z"
   },
   {
    "duration": 10,
    "start_time": "2024-06-05T20:20:22.191Z"
   },
   {
    "duration": 49,
    "start_time": "2024-06-05T20:20:26.278Z"
   },
   {
    "duration": 82,
    "start_time": "2024-06-05T20:21:00.033Z"
   },
   {
    "duration": 14,
    "start_time": "2024-06-05T20:25:08.144Z"
   },
   {
    "duration": 94,
    "start_time": "2024-06-05T20:25:42.772Z"
   },
   {
    "duration": 60,
    "start_time": "2024-06-05T20:25:57.976Z"
   },
   {
    "duration": 12,
    "start_time": "2024-06-05T20:26:02.039Z"
   },
   {
    "duration": 86,
    "start_time": "2024-06-05T20:27:24.571Z"
   },
   {
    "duration": 4,
    "start_time": "2024-06-05T20:53:15.830Z"
   },
   {
    "duration": 5337,
    "start_time": "2024-06-06T13:58:35.907Z"
   },
   {
    "duration": 806,
    "start_time": "2024-06-06T13:58:41.247Z"
   },
   {
    "duration": 16,
    "start_time": "2024-06-06T13:58:42.055Z"
   },
   {
    "duration": 86,
    "start_time": "2024-06-06T13:58:42.075Z"
   },
   {
    "duration": 12,
    "start_time": "2024-06-06T13:58:42.165Z"
   },
   {
    "duration": 52,
    "start_time": "2024-06-06T13:58:42.180Z"
   },
   {
    "duration": 11,
    "start_time": "2024-06-06T13:58:42.235Z"
   },
   {
    "duration": 17,
    "start_time": "2024-06-06T13:58:42.250Z"
   },
   {
    "duration": 768,
    "start_time": "2024-06-06T13:58:42.271Z"
   },
   {
    "duration": 397,
    "start_time": "2024-06-06T13:58:43.044Z"
   },
   {
    "duration": 80,
    "start_time": "2024-06-06T13:58:43.444Z"
   },
   {
    "duration": 47,
    "start_time": "2024-06-06T13:58:43.528Z"
   },
   {
    "duration": 121,
    "start_time": "2024-06-06T13:58:43.578Z"
   },
   {
    "duration": 74,
    "start_time": "2024-06-06T13:58:43.702Z"
   },
   {
    "duration": 13,
    "start_time": "2024-06-06T13:58:43.779Z"
   },
   {
    "duration": 19,
    "start_time": "2024-06-06T14:32:07.959Z"
   },
   {
    "duration": 22,
    "start_time": "2024-06-06T14:34:00.609Z"
   },
   {
    "duration": 311,
    "start_time": "2024-06-06T14:47:49.104Z"
   },
   {
    "duration": 125,
    "start_time": "2024-06-06T14:47:51.391Z"
   },
   {
    "duration": 338,
    "start_time": "2024-06-06T14:49:07.231Z"
   },
   {
    "duration": 158,
    "start_time": "2024-06-06T14:49:22.306Z"
   },
   {
    "duration": 2480,
    "start_time": "2024-06-06T14:49:32.942Z"
   },
   {
    "duration": 143,
    "start_time": "2024-06-06T14:50:40.340Z"
   },
   {
    "duration": 23,
    "start_time": "2024-06-06T14:52:58.036Z"
   },
   {
    "duration": 35,
    "start_time": "2024-06-06T14:53:04.837Z"
   },
   {
    "duration": 160,
    "start_time": "2024-06-06T14:53:43.230Z"
   },
   {
    "duration": 87,
    "start_time": "2024-06-06T14:54:05.567Z"
   },
   {
    "duration": 507,
    "start_time": "2024-06-06T14:55:32.820Z"
   },
   {
    "duration": 98,
    "start_time": "2024-06-06T14:55:43.138Z"
   },
   {
    "duration": 114,
    "start_time": "2024-06-06T14:56:11.414Z"
   },
   {
    "duration": 87,
    "start_time": "2024-06-06T14:57:11.702Z"
   },
   {
    "duration": 88,
    "start_time": "2024-06-06T14:59:00.433Z"
   },
   {
    "duration": 89,
    "start_time": "2024-06-06T14:59:10.398Z"
   },
   {
    "duration": 522,
    "start_time": "2024-06-06T15:01:07.914Z"
   },
   {
    "duration": 74,
    "start_time": "2024-06-06T15:01:11.030Z"
   },
   {
    "duration": 77,
    "start_time": "2024-06-06T15:02:07.148Z"
   },
   {
    "duration": 82,
    "start_time": "2024-06-06T15:02:16.308Z"
   },
   {
    "duration": 128,
    "start_time": "2024-06-06T15:20:00.085Z"
   },
   {
    "duration": 51,
    "start_time": "2024-06-06T15:21:02.942Z"
   },
   {
    "duration": 4969,
    "start_time": "2024-06-07T15:38:06.463Z"
   },
   {
    "duration": 772,
    "start_time": "2024-06-07T15:38:11.436Z"
   },
   {
    "duration": 14,
    "start_time": "2024-06-07T15:38:12.211Z"
   },
   {
    "duration": 83,
    "start_time": "2024-06-07T15:38:12.229Z"
   },
   {
    "duration": 12,
    "start_time": "2024-06-07T15:38:12.315Z"
   },
   {
    "duration": 16,
    "start_time": "2024-06-07T15:38:12.330Z"
   },
   {
    "duration": 12,
    "start_time": "2024-06-07T15:38:12.348Z"
   },
   {
    "duration": 57,
    "start_time": "2024-06-07T15:38:12.362Z"
   },
   {
    "duration": 683,
    "start_time": "2024-06-07T15:38:12.422Z"
   },
   {
    "duration": 350,
    "start_time": "2024-06-07T15:38:13.116Z"
   },
   {
    "duration": 53,
    "start_time": "2024-06-07T15:38:13.468Z"
   },
   {
    "duration": 39,
    "start_time": "2024-06-07T15:38:13.524Z"
   },
   {
    "duration": 125,
    "start_time": "2024-06-07T15:38:13.566Z"
   },
   {
    "duration": 492,
    "start_time": "2024-06-07T15:38:13.694Z"
   },
   {
    "duration": 98,
    "start_time": "2024-06-07T15:38:14.190Z"
   },
   {
    "duration": 57,
    "start_time": "2024-06-07T15:38:14.292Z"
   },
   {
    "duration": 73,
    "start_time": "2024-06-07T15:39:17.717Z"
   },
   {
    "duration": 235,
    "start_time": "2024-06-07T15:40:15.396Z"
   },
   {
    "duration": 175,
    "start_time": "2024-06-07T15:40:49.552Z"
   },
   {
    "duration": 171,
    "start_time": "2024-06-07T15:40:55.150Z"
   },
   {
    "duration": 183,
    "start_time": "2024-06-07T15:42:19.822Z"
   },
   {
    "duration": 67,
    "start_time": "2024-06-07T15:43:27.819Z"
   },
   {
    "duration": 179,
    "start_time": "2024-06-07T15:43:29.445Z"
   },
   {
    "duration": 57,
    "start_time": "2024-06-07T15:43:30.852Z"
   },
   {
    "duration": 4934,
    "start_time": "2024-06-08T15:21:09.782Z"
   },
   {
    "duration": 707,
    "start_time": "2024-06-08T15:21:14.719Z"
   },
   {
    "duration": 16,
    "start_time": "2024-06-08T15:21:15.430Z"
   },
   {
    "duration": 66,
    "start_time": "2024-06-08T15:21:15.451Z"
   },
   {
    "duration": 11,
    "start_time": "2024-06-08T15:21:15.520Z"
   },
   {
    "duration": 17,
    "start_time": "2024-06-08T15:21:15.537Z"
   },
   {
    "duration": 54,
    "start_time": "2024-06-08T15:21:15.558Z"
   },
   {
    "duration": 23,
    "start_time": "2024-06-08T15:21:15.615Z"
   },
   {
    "duration": 700,
    "start_time": "2024-06-08T15:21:15.642Z"
   },
   {
    "duration": 343,
    "start_time": "2024-06-08T15:21:16.348Z"
   },
   {
    "duration": 47,
    "start_time": "2024-06-08T15:21:16.694Z"
   },
   {
    "duration": 60,
    "start_time": "2024-06-08T15:21:16.744Z"
   },
   {
    "duration": 110,
    "start_time": "2024-06-08T15:21:16.808Z"
   },
   {
    "duration": 65,
    "start_time": "2024-06-08T15:21:16.921Z"
   },
   {
    "duration": 220,
    "start_time": "2024-06-08T15:21:17.005Z"
   },
   {
    "duration": 46,
    "start_time": "2024-06-08T15:21:17.228Z"
   },
   {
    "duration": 6,
    "start_time": "2024-06-08T15:27:41.701Z"
   },
   {
    "duration": 17,
    "start_time": "2024-06-08T15:36:13.007Z"
   },
   {
    "duration": 21,
    "start_time": "2024-06-08T15:36:39.675Z"
   },
   {
    "duration": 16,
    "start_time": "2024-06-08T15:42:36.260Z"
   },
   {
    "duration": 8,
    "start_time": "2024-06-08T15:45:55.358Z"
   },
   {
    "duration": 19,
    "start_time": "2024-06-08T15:46:15.272Z"
   },
   {
    "duration": 1227,
    "start_time": "2024-06-08T15:47:13.122Z"
   },
   {
    "duration": 15,
    "start_time": "2024-06-08T15:47:35.958Z"
   },
   {
    "duration": 459,
    "start_time": "2024-06-08T16:04:03.155Z"
   },
   {
    "duration": 392,
    "start_time": "2024-06-08T16:04:21.425Z"
   },
   {
    "duration": 115,
    "start_time": "2024-06-08T16:04:42.898Z"
   },
   {
    "duration": 5034,
    "start_time": "2024-06-08T20:24:24.203Z"
   },
   {
    "duration": 708,
    "start_time": "2024-06-08T20:24:29.241Z"
   },
   {
    "duration": 18,
    "start_time": "2024-06-08T20:24:29.952Z"
   },
   {
    "duration": 71,
    "start_time": "2024-06-08T20:24:29.976Z"
   },
   {
    "duration": 17,
    "start_time": "2024-06-08T20:24:30.050Z"
   },
   {
    "duration": 41,
    "start_time": "2024-06-08T20:24:30.070Z"
   },
   {
    "duration": 11,
    "start_time": "2024-06-08T20:24:30.114Z"
   },
   {
    "duration": 15,
    "start_time": "2024-06-08T20:24:30.128Z"
   },
   {
    "duration": 694,
    "start_time": "2024-06-08T20:24:30.146Z"
   },
   {
    "duration": 347,
    "start_time": "2024-06-08T20:24:30.845Z"
   },
   {
    "duration": 39,
    "start_time": "2024-06-08T20:24:31.202Z"
   },
   {
    "duration": 59,
    "start_time": "2024-06-08T20:24:31.244Z"
   },
   {
    "duration": 110,
    "start_time": "2024-06-08T20:24:31.306Z"
   },
   {
    "duration": 14,
    "start_time": "2024-06-08T20:24:31.419Z"
   },
   {
    "duration": 79,
    "start_time": "2024-06-08T20:24:31.437Z"
   },
   {
    "duration": 226,
    "start_time": "2024-06-08T20:24:31.520Z"
   },
   {
    "duration": 60,
    "start_time": "2024-06-08T20:24:31.750Z"
   },
   {
    "duration": 6,
    "start_time": "2024-06-08T20:24:31.813Z"
   },
   {
    "duration": 17,
    "start_time": "2024-06-08T20:24:31.822Z"
   },
   {
    "duration": 16,
    "start_time": "2024-06-08T20:24:31.841Z"
   },
   {
    "duration": 54,
    "start_time": "2024-06-08T20:24:31.861Z"
   },
   {
    "duration": 12,
    "start_time": "2024-06-08T20:24:31.918Z"
   },
   {
    "duration": 148,
    "start_time": "2024-06-08T20:24:31.932Z"
   },
   {
    "duration": 734,
    "start_time": "2024-06-08T20:24:32.083Z"
   },
   {
    "duration": 3,
    "start_time": "2024-06-08T20:36:51.186Z"
   },
   {
    "duration": 355,
    "start_time": "2024-06-11T16:17:44.264Z"
   },
   {
    "duration": 5296,
    "start_time": "2024-06-11T16:17:49.804Z"
   },
   {
    "duration": 793,
    "start_time": "2024-06-11T16:17:55.105Z"
   },
   {
    "duration": 20,
    "start_time": "2024-06-11T16:17:55.900Z"
   },
   {
    "duration": 90,
    "start_time": "2024-06-11T16:17:55.925Z"
   },
   {
    "duration": 19,
    "start_time": "2024-06-11T16:17:56.019Z"
   },
   {
    "duration": 28,
    "start_time": "2024-06-11T16:17:56.040Z"
   },
   {
    "duration": 10,
    "start_time": "2024-06-11T16:17:56.071Z"
   },
   {
    "duration": 18,
    "start_time": "2024-06-11T16:17:56.084Z"
   },
   {
    "duration": 997,
    "start_time": "2024-06-11T16:17:56.137Z"
   },
   {
    "duration": 90,
    "start_time": "2024-06-11T16:19:22.876Z"
   },
   {
    "duration": 6,
    "start_time": "2024-06-11T16:19:58.749Z"
   },
   {
    "duration": 24,
    "start_time": "2024-06-11T16:20:15.776Z"
   },
   {
    "duration": 28,
    "start_time": "2024-06-11T16:29:22.592Z"
   },
   {
    "duration": 28,
    "start_time": "2024-06-11T16:29:31.139Z"
   },
   {
    "duration": 318,
    "start_time": "2024-06-11T16:29:45.509Z"
   },
   {
    "duration": 579,
    "start_time": "2024-06-11T16:29:56.465Z"
   },
   {
    "duration": 319,
    "start_time": "2024-06-11T16:30:13.615Z"
   },
   {
    "duration": 39,
    "start_time": "2024-06-11T16:30:14.842Z"
   },
   {
    "duration": 122,
    "start_time": "2024-06-11T16:31:13.973Z"
   },
   {
    "duration": 97,
    "start_time": "2024-06-11T16:31:30.852Z"
   },
   {
    "duration": 692,
    "start_time": "2024-06-11T16:33:28.869Z"
   },
   {
    "duration": 21,
    "start_time": "2024-06-11T16:34:17.306Z"
   },
   {
    "duration": 60,
    "start_time": "2024-06-11T16:34:55.408Z"
   },
   {
    "duration": 202,
    "start_time": "2024-06-11T16:35:38.917Z"
   },
   {
    "duration": 146,
    "start_time": "2024-06-11T16:36:12.611Z"
   },
   {
    "duration": 5,
    "start_time": "2024-06-11T16:36:21.683Z"
   },
   {
    "duration": 341,
    "start_time": "2024-06-11T16:36:36.394Z"
   },
   {
    "duration": 18,
    "start_time": "2024-06-11T16:36:44.984Z"
   },
   {
    "duration": 15,
    "start_time": "2024-06-11T16:37:03.838Z"
   },
   {
    "duration": 18,
    "start_time": "2024-06-11T16:37:05.068Z"
   },
   {
    "duration": 12,
    "start_time": "2024-06-11T16:37:05.875Z"
   },
   {
    "duration": 119,
    "start_time": "2024-06-11T16:37:20.119Z"
   },
   {
    "duration": 268,
    "start_time": "2024-06-11T16:37:34.988Z"
   },
   {
    "duration": 265,
    "start_time": "2024-06-11T18:21:05.063Z"
   },
   {
    "duration": 985,
    "start_time": "2024-06-11T18:21:23.187Z"
   },
   {
    "duration": 307,
    "start_time": "2024-06-11T18:24:15.154Z"
   },
   {
    "duration": 312,
    "start_time": "2024-06-11T18:26:40.128Z"
   },
   {
    "duration": 331,
    "start_time": "2024-06-11T18:30:17.893Z"
   },
   {
    "duration": 8309,
    "start_time": "2024-06-11T18:31:38.006Z"
   },
   {
    "duration": 309,
    "start_time": "2024-06-11T18:32:42.896Z"
   },
   {
    "duration": 11,
    "start_time": "2024-06-11T18:34:50.159Z"
   },
   {
    "duration": 13,
    "start_time": "2024-06-11T18:37:04.825Z"
   },
   {
    "duration": 28,
    "start_time": "2024-06-11T18:37:08.606Z"
   },
   {
    "duration": 27,
    "start_time": "2024-06-11T18:37:40.787Z"
   },
   {
    "duration": 36,
    "start_time": "2024-06-11T18:39:32.949Z"
   },
   {
    "duration": 13,
    "start_time": "2024-06-11T18:43:40.924Z"
   },
   {
    "duration": 389,
    "start_time": "2024-06-11T18:43:59.191Z"
   },
   {
    "duration": 13,
    "start_time": "2024-06-11T18:44:12.800Z"
   },
   {
    "duration": 311,
    "start_time": "2024-06-11T18:44:13.095Z"
   },
   {
    "duration": 488,
    "start_time": "2024-06-11T18:44:14.370Z"
   },
   {
    "duration": 457,
    "start_time": "2024-06-11T18:46:00.201Z"
   },
   {
    "duration": 482,
    "start_time": "2024-06-11T18:46:16.655Z"
   },
   {
    "duration": 27,
    "start_time": "2024-06-11T19:01:34.167Z"
   },
   {
    "duration": 90,
    "start_time": "2024-06-11T19:01:57.055Z"
   },
   {
    "duration": 26,
    "start_time": "2024-06-11T19:04:27.203Z"
   },
   {
    "duration": 32,
    "start_time": "2024-06-11T19:04:55.436Z"
   },
   {
    "duration": 38,
    "start_time": "2024-06-11T19:05:49.807Z"
   },
   {
    "duration": 22,
    "start_time": "2024-06-11T19:06:23.592Z"
   },
   {
    "duration": 44,
    "start_time": "2024-06-11T19:13:34.242Z"
   },
   {
    "duration": 12,
    "start_time": "2024-06-11T19:14:20.581Z"
   },
   {
    "duration": 27,
    "start_time": "2024-06-11T20:31:37.804Z"
   },
   {
    "duration": 15,
    "start_time": "2024-06-11T20:31:51.091Z"
   },
   {
    "duration": 5083,
    "start_time": "2024-06-12T19:26:36.356Z"
   },
   {
    "duration": 746,
    "start_time": "2024-06-12T19:26:44.601Z"
   },
   {
    "duration": 18,
    "start_time": "2024-06-12T19:26:45.350Z"
   },
   {
    "duration": 75,
    "start_time": "2024-06-12T19:26:45.371Z"
   },
   {
    "duration": 13,
    "start_time": "2024-06-12T19:26:45.496Z"
   },
   {
    "duration": 16,
    "start_time": "2024-06-12T19:26:45.780Z"
   },
   {
    "duration": 11,
    "start_time": "2024-06-12T19:26:46.034Z"
   },
   {
    "duration": 16,
    "start_time": "2024-06-12T19:26:46.261Z"
   },
   {
    "duration": 23,
    "start_time": "2024-06-12T19:26:46.656Z"
   },
   {
    "duration": 656,
    "start_time": "2024-06-12T19:26:46.834Z"
   },
   {
    "duration": 397,
    "start_time": "2024-06-12T19:26:47.494Z"
   },
   {
    "duration": 49,
    "start_time": "2024-06-12T19:26:47.895Z"
   },
   {
    "duration": 40,
    "start_time": "2024-06-12T19:26:47.948Z"
   },
   {
    "duration": 125,
    "start_time": "2024-06-12T19:26:47.991Z"
   },
   {
    "duration": 428,
    "start_time": "2024-06-12T19:30:33.927Z"
   },
   {
    "duration": 368,
    "start_time": "2024-06-12T19:30:54.676Z"
   },
   {
    "duration": 1003,
    "start_time": "2024-06-12T19:31:05.233Z"
   },
   {
    "duration": 5149,
    "start_time": "2024-06-13T13:01:54.574Z"
   },
   {
    "duration": 796,
    "start_time": "2024-06-13T13:01:59.727Z"
   },
   {
    "duration": 24,
    "start_time": "2024-06-13T13:02:00.526Z"
   },
   {
    "duration": 97,
    "start_time": "2024-06-13T13:02:00.561Z"
   },
   {
    "duration": 15,
    "start_time": "2024-06-13T13:02:00.663Z"
   },
   {
    "duration": 39,
    "start_time": "2024-06-13T13:02:00.682Z"
   },
   {
    "duration": 11,
    "start_time": "2024-06-13T13:02:00.724Z"
   },
   {
    "duration": 18,
    "start_time": "2024-06-13T13:02:00.738Z"
   },
   {
    "duration": 62,
    "start_time": "2024-06-13T13:02:00.759Z"
   },
   {
    "duration": 728,
    "start_time": "2024-06-13T13:02:00.826Z"
   },
   {
    "duration": 383,
    "start_time": "2024-06-13T13:02:01.557Z"
   },
   {
    "duration": 65,
    "start_time": "2024-06-13T13:02:01.944Z"
   },
   {
    "duration": 49,
    "start_time": "2024-06-13T13:02:02.013Z"
   },
   {
    "duration": 125,
    "start_time": "2024-06-13T13:02:02.065Z"
   },
   {
    "duration": 1519,
    "start_time": "2024-06-13T13:02:02.205Z"
   },
   {
    "duration": 0,
    "start_time": "2024-06-13T13:02:03.727Z"
   },
   {
    "duration": 0,
    "start_time": "2024-06-13T13:02:03.729Z"
   },
   {
    "duration": 0,
    "start_time": "2024-06-13T13:02:03.731Z"
   },
   {
    "duration": 0,
    "start_time": "2024-06-13T13:02:03.734Z"
   },
   {
    "duration": 0,
    "start_time": "2024-06-13T13:02:03.736Z"
   },
   {
    "duration": 0,
    "start_time": "2024-06-13T13:02:03.738Z"
   },
   {
    "duration": 19,
    "start_time": "2024-06-13T13:02:04.703Z"
   },
   {
    "duration": 31,
    "start_time": "2024-06-13T13:02:05.093Z"
   },
   {
    "duration": 16,
    "start_time": "2024-06-13T13:02:05.570Z"
   },
   {
    "duration": 352,
    "start_time": "2024-06-13T13:02:05.764Z"
   },
   {
    "duration": 509,
    "start_time": "2024-06-13T13:02:06.592Z"
   },
   {
    "duration": 371,
    "start_time": "2024-06-13T13:02:08.542Z"
   },
   {
    "duration": 26,
    "start_time": "2024-06-13T13:02:09.502Z"
   },
   {
    "duration": 265,
    "start_time": "2024-06-13T13:06:12.842Z"
   },
   {
    "duration": 238,
    "start_time": "2024-06-13T13:06:21.818Z"
   },
   {
    "duration": 527,
    "start_time": "2024-06-13T13:07:19.188Z"
   },
   {
    "duration": 28,
    "start_time": "2024-06-13T13:10:21.827Z"
   },
   {
    "duration": 23,
    "start_time": "2024-06-13T13:10:31.292Z"
   },
   {
    "duration": 470,
    "start_time": "2024-06-13T13:13:40.884Z"
   },
   {
    "duration": 521,
    "start_time": "2024-06-13T13:13:54.650Z"
   },
   {
    "duration": 19,
    "start_time": "2024-06-13T13:13:55.921Z"
   },
   {
    "duration": 728,
    "start_time": "2024-06-13T13:17:00.204Z"
   },
   {
    "duration": 40,
    "start_time": "2024-06-13T13:17:58.365Z"
   },
   {
    "duration": 54,
    "start_time": "2024-06-13T13:18:17.464Z"
   },
   {
    "duration": 210,
    "start_time": "2024-06-13T13:19:00.188Z"
   },
   {
    "duration": 6,
    "start_time": "2024-06-13T13:20:26.603Z"
   },
   {
    "duration": 600,
    "start_time": "2024-06-13T13:20:46.944Z"
   },
   {
    "duration": 2164,
    "start_time": "2024-06-13T13:21:01.070Z"
   },
   {
    "duration": 490,
    "start_time": "2024-06-13T13:21:33.092Z"
   },
   {
    "duration": 26,
    "start_time": "2024-06-13T13:21:34.566Z"
   },
   {
    "duration": 29,
    "start_time": "2024-06-13T13:21:41.151Z"
   },
   {
    "duration": 37,
    "start_time": "2024-06-13T13:22:09.564Z"
   },
   {
    "duration": 25,
    "start_time": "2024-06-13T13:22:10.370Z"
   },
   {
    "duration": 82,
    "start_time": "2024-06-13T13:22:10.664Z"
   },
   {
    "duration": 232,
    "start_time": "2024-06-13T13:22:10.984Z"
   },
   {
    "duration": 58,
    "start_time": "2024-06-13T13:22:13.435Z"
   },
   {
    "duration": 277,
    "start_time": "2024-06-13T13:23:20.578Z"
   },
   {
    "duration": 497,
    "start_time": "2024-06-13T13:24:17.281Z"
   },
   {
    "duration": 517,
    "start_time": "2024-06-13T13:29:57.902Z"
   },
   {
    "duration": 362,
    "start_time": "2024-06-13T13:35:53.466Z"
   },
   {
    "duration": 155,
    "start_time": "2024-06-13T13:36:03.297Z"
   },
   {
    "duration": 64,
    "start_time": "2024-06-13T13:36:23.155Z"
   },
   {
    "duration": 87,
    "start_time": "2024-06-13T13:38:54.798Z"
   },
   {
    "duration": 59,
    "start_time": "2024-06-13T13:41:04.488Z"
   },
   {
    "duration": 677,
    "start_time": "2024-06-13T13:42:21.624Z"
   },
   {
    "duration": 4942,
    "start_time": "2024-06-15T19:13:02.236Z"
   },
   {
    "duration": 754,
    "start_time": "2024-06-15T19:13:07.184Z"
   },
   {
    "duration": 16,
    "start_time": "2024-06-15T19:13:07.941Z"
   },
   {
    "duration": 79,
    "start_time": "2024-06-15T19:13:07.962Z"
   },
   {
    "duration": 12,
    "start_time": "2024-06-15T19:13:08.044Z"
   },
   {
    "duration": 19,
    "start_time": "2024-06-15T19:13:08.059Z"
   },
   {
    "duration": 50,
    "start_time": "2024-06-15T19:13:08.083Z"
   },
   {
    "duration": 14,
    "start_time": "2024-06-15T19:13:08.138Z"
   },
   {
    "duration": 21,
    "start_time": "2024-06-15T19:13:08.156Z"
   },
   {
    "duration": 676,
    "start_time": "2024-06-15T19:13:08.182Z"
   },
   {
    "duration": 334,
    "start_time": "2024-06-15T19:13:08.861Z"
   },
   {
    "duration": 59,
    "start_time": "2024-06-15T19:13:09.200Z"
   },
   {
    "duration": 41,
    "start_time": "2024-06-15T19:13:09.263Z"
   },
   {
    "duration": 116,
    "start_time": "2024-06-15T19:13:09.315Z"
   },
   {
    "duration": 410,
    "start_time": "2024-06-15T19:13:10.129Z"
   },
   {
    "duration": 18,
    "start_time": "2024-06-15T19:13:10.542Z"
   },
   {
    "duration": 28,
    "start_time": "2024-06-15T19:13:11.223Z"
   },
   {
    "duration": 18,
    "start_time": "2024-06-15T19:13:12.256Z"
   },
   {
    "duration": 60,
    "start_time": "2024-06-15T19:13:12.630Z"
   },
   {
    "duration": 377,
    "start_time": "2024-06-15T19:13:13.735Z"
   },
   {
    "duration": 54,
    "start_time": "2024-06-15T19:13:14.378Z"
   },
   {
    "duration": 545,
    "start_time": "2024-06-15T19:13:14.645Z"
   },
   {
    "duration": 8,
    "start_time": "2024-06-15T19:17:32.802Z"
   },
   {
    "duration": 7,
    "start_time": "2024-06-15T19:17:45.453Z"
   },
   {
    "duration": 411,
    "start_time": "2024-06-15T19:17:55.109Z"
   },
   {
    "duration": 36,
    "start_time": "2024-06-15T19:18:15.020Z"
   },
   {
    "duration": 7,
    "start_time": "2024-06-15T19:18:47.416Z"
   },
   {
    "duration": 41,
    "start_time": "2024-06-15T19:18:52.959Z"
   },
   {
    "duration": 1353,
    "start_time": "2024-06-15T19:19:03.129Z"
   },
   {
    "duration": 1383,
    "start_time": "2024-06-15T20:36:02.238Z"
   },
   {
    "duration": 1395,
    "start_time": "2024-06-15T20:36:57.142Z"
   },
   {
    "duration": 1373,
    "start_time": "2024-06-15T20:37:09.146Z"
   },
   {
    "duration": 1421,
    "start_time": "2024-06-17T14:01:13.980Z"
   },
   {
    "duration": 1325,
    "start_time": "2024-06-17T14:01:39.362Z"
   },
   {
    "duration": 1215,
    "start_time": "2024-06-17T14:02:27.399Z"
   },
   {
    "duration": 1303,
    "start_time": "2024-06-17T14:03:41.921Z"
   },
   {
    "duration": 1243,
    "start_time": "2024-06-17T14:03:59.122Z"
   },
   {
    "duration": 1702,
    "start_time": "2024-06-17T14:04:56.705Z"
   },
   {
    "duration": 1222,
    "start_time": "2024-06-17T14:05:11.330Z"
   },
   {
    "duration": 1257,
    "start_time": "2024-06-17T14:16:56.071Z"
   },
   {
    "duration": 1258,
    "start_time": "2024-06-17T14:17:12.047Z"
   },
   {
    "duration": 6,
    "start_time": "2024-06-17T14:17:37.297Z"
   },
   {
    "duration": 16,
    "start_time": "2024-06-17T14:17:38.273Z"
   },
   {
    "duration": 4862,
    "start_time": "2024-06-18T17:12:18.867Z"
   },
   {
    "duration": 707,
    "start_time": "2024-06-18T17:12:23.733Z"
   },
   {
    "duration": 17,
    "start_time": "2024-06-18T17:12:24.442Z"
   },
   {
    "duration": 66,
    "start_time": "2024-06-18T17:12:24.462Z"
   },
   {
    "duration": 13,
    "start_time": "2024-06-18T17:12:24.531Z"
   },
   {
    "duration": 19,
    "start_time": "2024-06-18T17:12:24.548Z"
   },
   {
    "duration": 12,
    "start_time": "2024-06-18T17:12:24.603Z"
   },
   {
    "duration": 16,
    "start_time": "2024-06-18T17:12:24.619Z"
   },
   {
    "duration": 21,
    "start_time": "2024-06-18T17:12:24.638Z"
   },
   {
    "duration": 649,
    "start_time": "2024-06-18T17:12:24.705Z"
   },
   {
    "duration": 328,
    "start_time": "2024-06-18T17:12:25.358Z"
   },
   {
    "duration": 56,
    "start_time": "2024-06-18T17:12:25.689Z"
   },
   {
    "duration": 57,
    "start_time": "2024-06-18T17:12:25.748Z"
   },
   {
    "duration": 112,
    "start_time": "2024-06-18T17:12:25.808Z"
   },
   {
    "duration": 406,
    "start_time": "2024-06-18T17:12:25.923Z"
   },
   {
    "duration": 24,
    "start_time": "2024-06-18T17:12:26.333Z"
   },
   {
    "duration": 54,
    "start_time": "2024-06-18T17:12:26.360Z"
   },
   {
    "duration": 23,
    "start_time": "2024-06-18T17:12:26.417Z"
   },
   {
    "duration": 82,
    "start_time": "2024-06-18T17:12:26.443Z"
   },
   {
    "duration": 419,
    "start_time": "2024-06-18T17:12:26.528Z"
   },
   {
    "duration": 67,
    "start_time": "2024-06-18T17:12:26.950Z"
   },
   {
    "duration": 1330,
    "start_time": "2024-06-18T17:12:27.020Z"
   },
   {
    "duration": 5150,
    "start_time": "2024-06-19T12:48:10.251Z"
   },
   {
    "duration": 751,
    "start_time": "2024-06-19T12:48:15.405Z"
   },
   {
    "duration": 16,
    "start_time": "2024-06-19T12:48:16.159Z"
   },
   {
    "duration": 73,
    "start_time": "2024-06-19T12:48:16.179Z"
   },
   {
    "duration": 11,
    "start_time": "2024-06-19T12:48:16.255Z"
   },
   {
    "duration": 19,
    "start_time": "2024-06-19T12:48:16.269Z"
   },
   {
    "duration": 42,
    "start_time": "2024-06-19T12:48:16.291Z"
   },
   {
    "duration": 15,
    "start_time": "2024-06-19T12:48:16.336Z"
   },
   {
    "duration": 22,
    "start_time": "2024-06-19T12:48:16.354Z"
   },
   {
    "duration": 697,
    "start_time": "2024-06-19T12:48:16.381Z"
   },
   {
    "duration": 342,
    "start_time": "2024-06-19T12:48:17.082Z"
   },
   {
    "duration": 39,
    "start_time": "2024-06-19T12:48:17.426Z"
   },
   {
    "duration": 70,
    "start_time": "2024-06-19T12:48:17.468Z"
   },
   {
    "duration": 106,
    "start_time": "2024-06-19T12:48:17.541Z"
   },
   {
    "duration": 401,
    "start_time": "2024-06-19T12:48:17.649Z"
   },
   {
    "duration": 19,
    "start_time": "2024-06-19T12:48:18.052Z"
   },
   {
    "duration": 29,
    "start_time": "2024-06-19T12:48:18.074Z"
   },
   {
    "duration": 20,
    "start_time": "2024-06-19T12:48:18.131Z"
   },
   {
    "duration": 95,
    "start_time": "2024-06-19T12:48:18.155Z"
   },
   {
    "duration": 393,
    "start_time": "2024-06-19T12:48:18.255Z"
   },
   {
    "duration": 53,
    "start_time": "2024-06-19T12:48:18.651Z"
   },
   {
    "duration": 1292,
    "start_time": "2024-06-19T12:48:18.707Z"
   },
   {
    "duration": 7,
    "start_time": "2024-06-19T12:48:20.003Z"
   },
   {
    "duration": 21,
    "start_time": "2024-06-19T12:48:20.018Z"
   },
   {
    "duration": 16,
    "start_time": "2024-06-19T12:48:20.042Z"
   },
   {
    "duration": 31,
    "start_time": "2024-06-19T12:48:20.062Z"
   },
   {
    "duration": 49,
    "start_time": "2024-06-19T12:48:20.097Z"
   },
   {
    "duration": 351,
    "start_time": "2024-06-19T12:48:20.149Z"
   },
   {
    "duration": 488,
    "start_time": "2024-06-19T12:48:20.503Z"
   },
   {
    "duration": 22,
    "start_time": "2024-06-19T12:48:21.165Z"
   },
   {
    "duration": 486,
    "start_time": "2024-06-19T12:48:22.622Z"
   },
   {
    "duration": 30,
    "start_time": "2024-06-19T13:23:43.566Z"
   },
   {
    "duration": 19,
    "start_time": "2024-06-19T13:38:43.306Z"
   },
   {
    "duration": 297,
    "start_time": "2024-06-19T13:42:25.484Z"
   },
   {
    "duration": 295,
    "start_time": "2024-06-19T13:42:25.985Z"
   },
   {
    "duration": 38,
    "start_time": "2024-06-19T13:42:27.175Z"
   },
   {
    "duration": 39,
    "start_time": "2024-06-19T13:42:28.785Z"
   },
   {
    "duration": 120,
    "start_time": "2024-06-19T13:42:28.983Z"
   },
   {
    "duration": 389,
    "start_time": "2024-06-19T13:42:30.070Z"
   },
   {
    "duration": 20,
    "start_time": "2024-06-19T13:42:31.591Z"
   },
   {
    "duration": 49,
    "start_time": "2024-06-19T13:42:32.233Z"
   },
   {
    "duration": 416,
    "start_time": "2024-06-19T13:43:32.176Z"
   },
   {
    "duration": 18,
    "start_time": "2024-06-19T13:43:46.846Z"
   },
   {
    "duration": 389,
    "start_time": "2024-06-19T13:46:02.362Z"
   },
   {
    "duration": 18,
    "start_time": "2024-06-19T13:46:02.754Z"
   },
   {
    "duration": 28,
    "start_time": "2024-06-19T13:46:03.325Z"
   },
   {
    "duration": 515,
    "start_time": "2024-06-19T13:46:45.178Z"
   },
   {
    "duration": 7,
    "start_time": "2024-06-19T13:47:19.245Z"
   },
   {
    "duration": 7,
    "start_time": "2024-06-19T13:47:42.599Z"
   },
   {
    "duration": 22,
    "start_time": "2024-06-19T13:47:49.763Z"
   },
   {
    "duration": 58,
    "start_time": "2024-06-19T13:48:53.658Z"
   },
   {
    "duration": 8,
    "start_time": "2024-06-19T13:51:48.993Z"
   },
   {
    "duration": 52,
    "start_time": "2024-06-19T13:51:57.778Z"
   },
   {
    "duration": 1073,
    "start_time": "2024-06-19T13:52:04.459Z"
   },
   {
    "duration": 54,
    "start_time": "2024-06-19T13:52:32.934Z"
   },
   {
    "duration": 1074,
    "start_time": "2024-06-19T13:52:36.859Z"
   },
   {
    "duration": 1111,
    "start_time": "2024-06-19T13:52:51.875Z"
   },
   {
    "duration": 437,
    "start_time": "2024-06-19T13:54:02.884Z"
   },
   {
    "duration": 9,
    "start_time": "2024-06-19T13:54:33.836Z"
   },
   {
    "duration": 31,
    "start_time": "2024-06-19T13:55:16.448Z"
   },
   {
    "duration": 223,
    "start_time": "2024-06-19T13:55:24.893Z"
   },
   {
    "duration": 23,
    "start_time": "2024-06-19T13:58:41.368Z"
   },
   {
    "duration": 30,
    "start_time": "2024-06-19T13:58:49.407Z"
   },
   {
    "duration": 5,
    "start_time": "2024-06-19T13:59:35.127Z"
   },
   {
    "duration": 13,
    "start_time": "2024-06-19T14:00:29.724Z"
   },
   {
    "duration": 13,
    "start_time": "2024-06-19T14:01:16.874Z"
   },
   {
    "duration": 19,
    "start_time": "2024-06-19T14:01:35.328Z"
   },
   {
    "duration": 21,
    "start_time": "2024-06-19T14:04:25.410Z"
   },
   {
    "duration": 31,
    "start_time": "2024-06-19T14:05:46.423Z"
   },
   {
    "duration": 14,
    "start_time": "2024-06-19T14:06:40.480Z"
   },
   {
    "duration": 4,
    "start_time": "2024-06-19T14:08:17.526Z"
   },
   {
    "duration": 21,
    "start_time": "2024-06-19T14:08:45.517Z"
   },
   {
    "duration": 5,
    "start_time": "2024-06-19T14:09:01.919Z"
   },
   {
    "duration": 1022,
    "start_time": "2024-06-19T14:09:55.392Z"
   },
   {
    "duration": 1029,
    "start_time": "2024-06-19T14:10:07.867Z"
   },
   {
    "duration": 1006,
    "start_time": "2024-06-19T14:10:37.948Z"
   },
   {
    "duration": 1017,
    "start_time": "2024-06-19T14:11:29.329Z"
   },
   {
    "duration": 1156,
    "start_time": "2024-06-19T14:11:40.104Z"
   },
   {
    "duration": 23,
    "start_time": "2024-06-19T14:12:41.147Z"
   },
   {
    "duration": 4995,
    "start_time": "2024-06-20T16:49:41.460Z"
   },
   {
    "duration": 744,
    "start_time": "2024-06-20T16:49:46.458Z"
   },
   {
    "duration": 17,
    "start_time": "2024-06-20T16:49:47.205Z"
   },
   {
    "duration": 65,
    "start_time": "2024-06-20T16:49:47.227Z"
   },
   {
    "duration": 12,
    "start_time": "2024-06-20T16:49:47.296Z"
   },
   {
    "duration": 38,
    "start_time": "2024-06-20T16:49:47.312Z"
   },
   {
    "duration": 13,
    "start_time": "2024-06-20T16:49:47.354Z"
   },
   {
    "duration": 17,
    "start_time": "2024-06-20T16:49:47.370Z"
   },
   {
    "duration": 62,
    "start_time": "2024-06-20T16:49:47.391Z"
   },
   {
    "duration": 456,
    "start_time": "2024-06-20T16:49:47.458Z"
   },
   {
    "duration": 345,
    "start_time": "2024-06-20T16:49:47.917Z"
   },
   {
    "duration": 42,
    "start_time": "2024-06-20T16:49:48.265Z"
   },
   {
    "duration": 58,
    "start_time": "2024-06-20T16:49:48.310Z"
   },
   {
    "duration": 125,
    "start_time": "2024-06-20T16:49:48.372Z"
   },
   {
    "duration": 414,
    "start_time": "2024-06-20T16:49:48.500Z"
   },
   {
    "duration": 28,
    "start_time": "2024-06-20T16:49:48.917Z"
   },
   {
    "duration": 23,
    "start_time": "2024-06-20T16:49:48.948Z"
   },
   {
    "duration": 18,
    "start_time": "2024-06-20T16:49:48.976Z"
   },
   {
    "duration": 57,
    "start_time": "2024-06-20T16:49:49.032Z"
   },
   {
    "duration": 393,
    "start_time": "2024-06-20T16:49:49.092Z"
   },
   {
    "duration": 74,
    "start_time": "2024-06-20T16:49:49.489Z"
   },
   {
    "duration": 1155,
    "start_time": "2024-06-20T16:49:49.566Z"
   },
   {
    "duration": 240,
    "start_time": "2024-06-20T16:49:50.726Z"
   },
   {
    "duration": 20,
    "start_time": "2024-06-20T16:49:51.021Z"
   },
   {
    "duration": 30,
    "start_time": "2024-06-20T16:49:51.363Z"
   },
   {
    "duration": 18,
    "start_time": "2024-06-20T16:49:52.194Z"
   },
   {
    "duration": 15,
    "start_time": "2024-06-20T16:49:52.460Z"
   },
   {
    "duration": 5,
    "start_time": "2024-06-20T16:49:53.005Z"
   },
   {
    "duration": 1090,
    "start_time": "2024-06-20T16:49:53.349Z"
   },
   {
    "duration": 15,
    "start_time": "2024-06-20T16:49:54.524Z"
   },
   {
    "duration": 26,
    "start_time": "2024-06-20T16:49:55.389Z"
   },
   {
    "duration": 16,
    "start_time": "2024-06-20T16:49:56.093Z"
   },
   {
    "duration": 310,
    "start_time": "2024-06-20T16:49:56.612Z"
   },
   {
    "duration": 463,
    "start_time": "2024-06-20T16:49:57.789Z"
   },
   {
    "duration": 28,
    "start_time": "2024-06-20T16:50:01.222Z"
   },
   {
    "duration": 422,
    "start_time": "2024-06-20T16:50:05.200Z"
   },
   {
    "duration": 13,
    "start_time": "2024-06-20T17:05:23.281Z"
   },
   {
    "duration": 885,
    "start_time": "2024-06-20T19:28:14.578Z"
   },
   {
    "duration": 85,
    "start_time": "2024-06-20T19:28:38.516Z"
   },
   {
    "duration": 12,
    "start_time": "2024-06-20T19:28:56.020Z"
   },
   {
    "duration": 89,
    "start_time": "2024-06-20T19:52:40.285Z"
   },
   {
    "duration": 13,
    "start_time": "2024-06-20T19:52:48.156Z"
   },
   {
    "duration": 32,
    "start_time": "2024-06-20T20:40:38.815Z"
   },
   {
    "duration": 441,
    "start_time": "2024-06-20T20:53:50.015Z"
   },
   {
    "duration": 4911,
    "start_time": "2024-06-30T00:23:16.824Z"
   },
   {
    "duration": 728,
    "start_time": "2024-06-30T00:23:21.738Z"
   },
   {
    "duration": 17,
    "start_time": "2024-06-30T00:23:22.469Z"
   },
   {
    "duration": 62,
    "start_time": "2024-06-30T00:23:22.490Z"
   },
   {
    "duration": 12,
    "start_time": "2024-06-30T00:23:22.556Z"
   },
   {
    "duration": 44,
    "start_time": "2024-06-30T00:23:22.571Z"
   },
   {
    "duration": 11,
    "start_time": "2024-06-30T00:23:22.619Z"
   },
   {
    "duration": 17,
    "start_time": "2024-06-30T00:23:22.633Z"
   },
   {
    "duration": 66,
    "start_time": "2024-06-30T00:23:22.653Z"
   },
   {
    "duration": 478,
    "start_time": "2024-06-30T00:23:22.726Z"
   },
   {
    "duration": 345,
    "start_time": "2024-06-30T00:23:23.208Z"
   },
   {
    "duration": 49,
    "start_time": "2024-06-30T00:23:23.556Z"
   },
   {
    "duration": 38,
    "start_time": "2024-06-30T00:23:23.608Z"
   },
   {
    "duration": 135,
    "start_time": "2024-06-30T00:23:23.649Z"
   },
   {
    "duration": 394,
    "start_time": "2024-06-30T00:23:23.787Z"
   },
   {
    "duration": 30,
    "start_time": "2024-06-30T00:23:24.184Z"
   },
   {
    "duration": 26,
    "start_time": "2024-06-30T00:23:24.217Z"
   },
   {
    "duration": 59,
    "start_time": "2024-06-30T00:23:24.246Z"
   },
   {
    "duration": 58,
    "start_time": "2024-06-30T00:23:24.310Z"
   },
   {
    "duration": 407,
    "start_time": "2024-06-30T00:23:24.371Z"
   },
   {
    "duration": 58,
    "start_time": "2024-06-30T00:23:24.781Z"
   },
   {
    "duration": 1135,
    "start_time": "2024-06-30T00:23:24.842Z"
   },
   {
    "duration": 252,
    "start_time": "2024-06-30T00:23:25.980Z"
   },
   {
    "duration": 22,
    "start_time": "2024-06-30T00:23:26.236Z"
   },
   {
    "duration": 70,
    "start_time": "2024-06-30T00:23:26.260Z"
   },
   {
    "duration": 22,
    "start_time": "2024-06-30T00:23:26.333Z"
   },
   {
    "duration": 45,
    "start_time": "2024-06-30T00:23:26.358Z"
   },
   {
    "duration": 7,
    "start_time": "2024-06-30T00:23:26.412Z"
   },
   {
    "duration": 1138,
    "start_time": "2024-06-30T00:23:26.423Z"
   },
   {
    "duration": 39,
    "start_time": "2024-06-30T00:23:27.565Z"
   },
   {
    "duration": 29,
    "start_time": "2024-06-30T00:23:27.608Z"
   },
   {
    "duration": 17,
    "start_time": "2024-06-30T00:23:27.640Z"
   },
   {
    "duration": 338,
    "start_time": "2024-06-30T00:23:27.701Z"
   },
   {
    "duration": 508,
    "start_time": "2024-06-30T00:23:28.042Z"
   },
   {
    "duration": 689,
    "start_time": "2024-06-30T00:23:28.553Z"
   },
   {
    "duration": 0,
    "start_time": "2024-06-30T00:23:29.245Z"
   },
   {
    "duration": 0,
    "start_time": "2024-06-30T00:23:29.247Z"
   },
   {
    "duration": 27,
    "start_time": "2024-06-30T00:26:10.779Z"
   },
   {
    "duration": 27,
    "start_time": "2024-06-30T00:26:14.376Z"
   },
   {
    "duration": 4953,
    "start_time": "2024-07-01T13:21:31.177Z"
   },
   {
    "duration": 700,
    "start_time": "2024-07-01T13:21:36.134Z"
   },
   {
    "duration": 22,
    "start_time": "2024-07-01T13:21:36.840Z"
   },
   {
    "duration": 74,
    "start_time": "2024-07-01T13:21:36.867Z"
   },
   {
    "duration": 11,
    "start_time": "2024-07-01T13:21:36.944Z"
   },
   {
    "duration": 17,
    "start_time": "2024-07-01T13:21:36.958Z"
   },
   {
    "duration": 11,
    "start_time": "2024-07-01T13:21:37.013Z"
   },
   {
    "duration": 14,
    "start_time": "2024-07-01T13:21:37.027Z"
   },
   {
    "duration": 22,
    "start_time": "2024-07-01T13:21:37.045Z"
   },
   {
    "duration": 485,
    "start_time": "2024-07-01T13:21:37.073Z"
   },
   {
    "duration": 356,
    "start_time": "2024-07-01T13:21:37.561Z"
   },
   {
    "duration": 47,
    "start_time": "2024-07-01T13:21:37.920Z"
   },
   {
    "duration": 70,
    "start_time": "2024-07-01T13:21:37.971Z"
   },
   {
    "duration": 125,
    "start_time": "2024-07-01T13:21:38.044Z"
   },
   {
    "duration": 398,
    "start_time": "2024-07-01T13:21:38.174Z"
   },
   {
    "duration": 19,
    "start_time": "2024-07-01T13:21:38.575Z"
   },
   {
    "duration": 37,
    "start_time": "2024-07-01T13:21:38.597Z"
   },
   {
    "duration": 20,
    "start_time": "2024-07-01T13:21:38.637Z"
   },
   {
    "duration": 93,
    "start_time": "2024-07-01T13:21:38.659Z"
   },
   {
    "duration": 396,
    "start_time": "2024-07-01T13:21:38.755Z"
   },
   {
    "duration": 64,
    "start_time": "2024-07-01T13:21:39.155Z"
   },
   {
    "duration": 1131,
    "start_time": "2024-07-01T13:21:39.222Z"
   },
   {
    "duration": 243,
    "start_time": "2024-07-01T13:21:40.359Z"
   },
   {
    "duration": 24,
    "start_time": "2024-07-01T13:21:40.605Z"
   },
   {
    "duration": 28,
    "start_time": "2024-07-01T13:21:40.632Z"
   },
   {
    "duration": 50,
    "start_time": "2024-07-01T13:21:40.663Z"
   },
   {
    "duration": 13,
    "start_time": "2024-07-01T13:23:49.974Z"
   },
   {
    "duration": 5,
    "start_time": "2024-07-01T13:23:50.221Z"
   },
   {
    "duration": 1030,
    "start_time": "2024-07-01T13:23:50.440Z"
   },
   {
    "duration": 14,
    "start_time": "2024-07-01T13:23:51.474Z"
   },
   {
    "duration": 44,
    "start_time": "2024-07-01T13:23:51.490Z"
   },
   {
    "duration": 14,
    "start_time": "2024-07-01T13:23:51.540Z"
   },
   {
    "duration": 379,
    "start_time": "2024-07-01T13:23:51.557Z"
   },
   {
    "duration": 494,
    "start_time": "2024-07-01T13:23:51.940Z"
   },
   {
    "duration": 768,
    "start_time": "2024-07-01T13:23:52.705Z"
   },
   {
    "duration": 5321,
    "start_time": "2024-07-05T17:33:37.122Z"
   },
   {
    "duration": 825,
    "start_time": "2024-07-05T17:33:43.455Z"
   },
   {
    "duration": 17,
    "start_time": "2024-07-05T17:33:44.284Z"
   },
   {
    "duration": 72,
    "start_time": "2024-07-05T17:33:44.305Z"
   },
   {
    "duration": 12,
    "start_time": "2024-07-05T17:33:44.383Z"
   },
   {
    "duration": 18,
    "start_time": "2024-07-05T17:33:44.423Z"
   },
   {
    "duration": 12,
    "start_time": "2024-07-05T17:33:44.445Z"
   },
   {
    "duration": 16,
    "start_time": "2024-07-05T17:33:44.461Z"
   },
   {
    "duration": 24,
    "start_time": "2024-07-05T17:33:44.773Z"
   },
   {
    "duration": 469,
    "start_time": "2024-07-05T17:33:45.077Z"
   },
   {
    "duration": 404,
    "start_time": "2024-07-05T17:33:45.550Z"
   },
   {
    "duration": 44,
    "start_time": "2024-07-05T17:33:45.958Z"
   },
   {
    "duration": 58,
    "start_time": "2024-07-05T17:33:46.005Z"
   },
   {
    "duration": 127,
    "start_time": "2024-07-05T17:33:46.067Z"
   },
   {
    "duration": 503,
    "start_time": "2024-07-05T17:33:46.241Z"
   },
   {
    "duration": 21,
    "start_time": "2024-07-05T17:33:46.747Z"
   },
   {
    "duration": 53,
    "start_time": "2024-07-05T17:33:46.771Z"
   },
   {
    "duration": 21,
    "start_time": "2024-07-05T17:33:47.821Z"
   },
   {
    "duration": 59,
    "start_time": "2024-07-05T17:33:48.127Z"
   },
   {
    "duration": 421,
    "start_time": "2024-07-05T17:33:48.311Z"
   },
   {
    "duration": 86,
    "start_time": "2024-07-05T17:33:48.737Z"
   },
   {
    "duration": 1170,
    "start_time": "2024-07-05T17:33:48.826Z"
   },
   {
    "duration": 251,
    "start_time": "2024-07-05T17:33:50.172Z"
   },
   {
    "duration": 23,
    "start_time": "2024-07-05T17:33:50.427Z"
   },
   {
    "duration": 30,
    "start_time": "2024-07-05T17:33:50.481Z"
   },
   {
    "duration": 21,
    "start_time": "2024-07-05T17:33:50.827Z"
   },
   {
    "duration": 17,
    "start_time": "2024-07-05T17:33:50.986Z"
   },
   {
    "duration": 9,
    "start_time": "2024-07-05T17:33:51.126Z"
   },
   {
    "duration": 1186,
    "start_time": "2024-07-05T17:33:51.285Z"
   },
   {
    "duration": 17,
    "start_time": "2024-07-05T17:33:52.476Z"
   },
   {
    "duration": 50,
    "start_time": "2024-07-05T17:33:52.496Z"
   },
   {
    "duration": 15,
    "start_time": "2024-07-05T17:33:52.551Z"
   },
   {
    "duration": 349,
    "start_time": "2024-07-05T17:33:52.590Z"
   },
   {
    "duration": 517,
    "start_time": "2024-07-05T17:33:52.943Z"
   },
   {
    "duration": 699,
    "start_time": "2024-07-05T17:33:53.464Z"
   },
   {
    "duration": 29,
    "start_time": "2024-07-05T17:33:54.281Z"
   },
   {
    "duration": 24,
    "start_time": "2024-07-05T17:33:56.027Z"
   },
   {
    "duration": 25,
    "start_time": "2024-07-05T19:50:50.860Z"
   },
   {
    "duration": 645,
    "start_time": "2024-07-05T19:51:29.624Z"
   },
   {
    "duration": 380,
    "start_time": "2024-07-05T19:52:26.810Z"
   },
   {
    "duration": 535,
    "start_time": "2024-07-05T19:52:33.500Z"
   },
   {
    "duration": 348,
    "start_time": "2024-07-05T19:53:04.510Z"
   },
   {
    "duration": 5295,
    "start_time": "2024-07-08T14:31:01.665Z"
   },
   {
    "duration": 861,
    "start_time": "2024-07-08T14:31:06.964Z"
   },
   {
    "duration": 18,
    "start_time": "2024-07-08T14:31:07.828Z"
   },
   {
    "duration": 79,
    "start_time": "2024-07-08T14:31:07.852Z"
   },
   {
    "duration": 12,
    "start_time": "2024-07-08T14:31:07.934Z"
   },
   {
    "duration": 18,
    "start_time": "2024-07-08T14:31:07.950Z"
   },
   {
    "duration": 15,
    "start_time": "2024-07-08T14:31:07.972Z"
   },
   {
    "duration": 49,
    "start_time": "2024-07-08T14:31:07.995Z"
   },
   {
    "duration": 25,
    "start_time": "2024-07-08T14:31:08.047Z"
   },
   {
    "duration": 504,
    "start_time": "2024-07-08T14:31:08.078Z"
   },
   {
    "duration": 452,
    "start_time": "2024-07-08T14:31:08.586Z"
   },
   {
    "duration": 42,
    "start_time": "2024-07-08T14:31:09.042Z"
   },
   {
    "duration": 72,
    "start_time": "2024-07-08T14:31:09.088Z"
   },
   {
    "duration": 102,
    "start_time": "2024-07-08T14:31:13.096Z"
   },
   {
    "duration": 412,
    "start_time": "2024-07-08T14:31:13.379Z"
   },
   {
    "duration": 533,
    "start_time": "2024-07-08T14:31:13.794Z"
   },
   {
    "duration": 384,
    "start_time": "2024-07-08T14:31:14.332Z"
   },
   {
    "duration": 452,
    "start_time": "2024-07-08T14:31:14.721Z"
   },
   {
    "duration": 20,
    "start_time": "2024-07-08T14:31:15.176Z"
   },
   {
    "duration": 46,
    "start_time": "2024-07-08T14:31:15.200Z"
   },
   {
    "duration": 19,
    "start_time": "2024-07-08T14:31:15.251Z"
   },
   {
    "duration": 88,
    "start_time": "2024-07-08T14:31:15.273Z"
   },
   {
    "duration": 444,
    "start_time": "2024-07-08T14:31:15.364Z"
   },
   {
    "duration": 68,
    "start_time": "2024-07-08T14:31:15.813Z"
   },
   {
    "duration": 1182,
    "start_time": "2024-07-08T14:31:15.885Z"
   },
   {
    "duration": 254,
    "start_time": "2024-07-08T14:31:17.071Z"
   },
   {
    "duration": 24,
    "start_time": "2024-07-08T14:31:17.327Z"
   },
   {
    "duration": 30,
    "start_time": "2024-07-08T14:31:17.355Z"
   },
   {
    "duration": 51,
    "start_time": "2024-07-08T14:31:17.389Z"
   },
   {
    "duration": 14,
    "start_time": "2024-07-08T14:31:17.444Z"
   },
   {
    "duration": 6,
    "start_time": "2024-07-08T14:31:17.539Z"
   },
   {
    "duration": 1132,
    "start_time": "2024-07-08T14:31:17.863Z"
   },
   {
    "duration": 33,
    "start_time": "2024-07-08T14:31:19.000Z"
   },
   {
    "duration": 26,
    "start_time": "2024-07-08T14:31:19.036Z"
   },
   {
    "duration": 14,
    "start_time": "2024-07-08T14:31:19.067Z"
   },
   {
    "duration": 409,
    "start_time": "2024-07-08T14:31:19.085Z"
   },
   {
    "duration": 521,
    "start_time": "2024-07-08T14:31:19.498Z"
   },
   {
    "duration": 753,
    "start_time": "2024-07-08T14:31:20.022Z"
   },
   {
    "duration": 0,
    "start_time": "2024-07-08T14:31:20.779Z"
   },
   {
    "duration": 32,
    "start_time": "2024-07-08T14:31:21.138Z"
   },
   {
    "duration": 4974,
    "start_time": "2024-07-09T14:31:58.560Z"
   },
   {
    "duration": 714,
    "start_time": "2024-07-09T14:32:03.538Z"
   },
   {
    "duration": 18,
    "start_time": "2024-07-09T14:32:04.255Z"
   },
   {
    "duration": 72,
    "start_time": "2024-07-09T14:32:04.278Z"
   },
   {
    "duration": 12,
    "start_time": "2024-07-09T14:32:04.353Z"
   },
   {
    "duration": 19,
    "start_time": "2024-07-09T14:32:04.368Z"
   },
   {
    "duration": 44,
    "start_time": "2024-07-09T14:32:04.390Z"
   },
   {
    "duration": 15,
    "start_time": "2024-07-09T14:32:04.438Z"
   },
   {
    "duration": 21,
    "start_time": "2024-07-09T14:32:04.456Z"
   },
   {
    "duration": 492,
    "start_time": "2024-07-09T14:32:04.482Z"
   },
   {
    "duration": 344,
    "start_time": "2024-07-09T14:32:04.981Z"
   },
   {
    "duration": 43,
    "start_time": "2024-07-09T14:32:05.327Z"
   },
   {
    "duration": 62,
    "start_time": "2024-07-09T14:32:05.372Z"
   },
   {
    "duration": 105,
    "start_time": "2024-07-09T14:32:05.437Z"
   },
   {
    "duration": 431,
    "start_time": "2024-07-09T14:32:05.545Z"
   },
   {
    "duration": 499,
    "start_time": "2024-07-09T14:32:05.979Z"
   },
   {
    "duration": 384,
    "start_time": "2024-07-09T14:32:06.481Z"
   },
   {
    "duration": 27,
    "start_time": "2024-07-09T14:34:27.496Z"
   },
   {
    "duration": 11,
    "start_time": "2024-07-09T14:34:56.112Z"
   },
   {
    "duration": 17,
    "start_time": "2024-07-09T14:35:55.943Z"
   },
   {
    "duration": 962,
    "start_time": "2024-07-09T14:36:13.076Z"
   },
   {
    "duration": 17,
    "start_time": "2024-07-09T14:37:53.448Z"
   },
   {
    "duration": 202,
    "start_time": "2024-07-09T14:38:04.892Z"
   },
   {
    "duration": 496,
    "start_time": "2024-07-09T14:38:36.867Z"
   },
   {
    "duration": 630,
    "start_time": "2024-07-09T14:40:26.678Z"
   },
   {
    "duration": 784,
    "start_time": "2024-07-09T14:41:25.630Z"
   },
   {
    "duration": 633,
    "start_time": "2024-07-09T14:41:37.452Z"
   },
   {
    "duration": 22,
    "start_time": "2024-07-09T14:42:26.147Z"
   },
   {
    "duration": 402,
    "start_time": "2024-07-09T14:47:00.278Z"
   },
   {
    "duration": 987,
    "start_time": "2024-07-09T14:49:21.606Z"
   },
   {
    "duration": 114,
    "start_time": "2024-07-09T14:49:41.578Z"
   },
   {
    "duration": 122,
    "start_time": "2024-07-09T14:51:23.184Z"
   },
   {
    "duration": 27,
    "start_time": "2024-07-09T14:53:15.058Z"
   },
   {
    "duration": 89,
    "start_time": "2024-07-09T14:53:22.708Z"
   },
   {
    "duration": 33,
    "start_time": "2024-07-09T14:53:23.501Z"
   },
   {
    "duration": 21,
    "start_time": "2024-07-09T14:53:46.481Z"
   },
   {
    "duration": 477,
    "start_time": "2024-07-09T14:54:19.934Z"
   },
   {
    "duration": 7,
    "start_time": "2024-07-09T14:55:35.846Z"
   },
   {
    "duration": 23,
    "start_time": "2024-07-09T14:55:59.365Z"
   },
   {
    "duration": 917,
    "start_time": "2024-07-09T14:56:10.872Z"
   },
   {
    "duration": 1056,
    "start_time": "2024-07-09T14:56:25.867Z"
   },
   {
    "duration": 929,
    "start_time": "2024-07-09T14:56:37.171Z"
   },
   {
    "duration": 1039,
    "start_time": "2024-07-09T14:56:51.050Z"
   },
   {
    "duration": 21,
    "start_time": "2024-07-09T15:00:32.639Z"
   },
   {
    "duration": 33,
    "start_time": "2024-07-09T15:01:29.074Z"
   },
   {
    "duration": 21,
    "start_time": "2024-07-09T15:02:12.734Z"
   },
   {
    "duration": 183,
    "start_time": "2024-07-09T15:02:19.996Z"
   },
   {
    "duration": 6,
    "start_time": "2024-07-09T15:02:45.768Z"
   },
   {
    "duration": 14,
    "start_time": "2024-07-09T15:03:04.696Z"
   },
   {
    "duration": 49,
    "start_time": "2024-07-09T15:03:12.554Z"
   },
   {
    "duration": 27,
    "start_time": "2024-07-09T15:03:47.049Z"
   },
   {
    "duration": 32,
    "start_time": "2024-07-09T15:04:43.837Z"
   },
   {
    "duration": 12,
    "start_time": "2024-07-09T15:05:04.077Z"
   },
   {
    "duration": 6,
    "start_time": "2024-07-09T15:05:35.415Z"
   },
   {
    "duration": 10,
    "start_time": "2024-07-09T15:05:47.669Z"
   },
   {
    "duration": 16,
    "start_time": "2024-07-09T15:07:39.330Z"
   },
   {
    "duration": 7,
    "start_time": "2024-07-09T15:07:54.767Z"
   },
   {
    "duration": 482,
    "start_time": "2024-07-09T15:10:49.467Z"
   },
   {
    "duration": 9,
    "start_time": "2024-07-09T15:11:04.663Z"
   },
   {
    "duration": 26,
    "start_time": "2024-07-09T15:11:05.147Z"
   },
   {
    "duration": 4,
    "start_time": "2024-07-09T15:11:22.760Z"
   },
   {
    "duration": 623,
    "start_time": "2024-07-09T15:11:22.918Z"
   },
   {
    "duration": 12,
    "start_time": "2024-07-09T15:11:23.544Z"
   },
   {
    "duration": 79,
    "start_time": "2024-07-09T15:11:23.559Z"
   },
   {
    "duration": 11,
    "start_time": "2024-07-09T15:11:23.642Z"
   },
   {
    "duration": 16,
    "start_time": "2024-07-09T15:11:23.657Z"
   },
   {
    "duration": 10,
    "start_time": "2024-07-09T15:11:23.677Z"
   },
   {
    "duration": 13,
    "start_time": "2024-07-09T15:11:23.822Z"
   },
   {
    "duration": 20,
    "start_time": "2024-07-09T15:11:24.096Z"
   },
   {
    "duration": 439,
    "start_time": "2024-07-09T15:11:24.214Z"
   },
   {
    "duration": 336,
    "start_time": "2024-07-09T15:11:24.656Z"
   },
   {
    "duration": 45,
    "start_time": "2024-07-09T15:11:24.995Z"
   },
   {
    "duration": 38,
    "start_time": "2024-07-09T15:11:25.045Z"
   },
   {
    "duration": 121,
    "start_time": "2024-07-09T15:11:25.086Z"
   },
   {
    "duration": 387,
    "start_time": "2024-07-09T15:11:25.211Z"
   },
   {
    "duration": 495,
    "start_time": "2024-07-09T15:11:25.601Z"
   },
   {
    "duration": 324,
    "start_time": "2024-07-09T15:11:26.100Z"
   },
   {
    "duration": 34,
    "start_time": "2024-07-09T15:11:26.432Z"
   },
   {
    "duration": 564,
    "start_time": "2024-07-09T15:11:26.469Z"
   },
   {
    "duration": 425,
    "start_time": "2024-07-09T15:11:27.036Z"
   },
   {
    "duration": 127,
    "start_time": "2024-07-09T15:11:27.466Z"
   },
   {
    "duration": 51,
    "start_time": "2024-07-09T15:11:27.600Z"
   },
   {
    "duration": 985,
    "start_time": "2024-07-09T15:11:27.654Z"
   },
   {
    "duration": 376,
    "start_time": "2024-07-09T15:11:28.643Z"
   },
   {
    "duration": 24,
    "start_time": "2024-07-09T15:11:29.021Z"
   },
   {
    "duration": 23,
    "start_time": "2024-07-09T15:11:29.048Z"
   },
   {
    "duration": 20,
    "start_time": "2024-07-09T15:11:29.074Z"
   },
   {
    "duration": 57,
    "start_time": "2024-07-09T15:11:29.131Z"
   },
   {
    "duration": 376,
    "start_time": "2024-07-09T15:11:29.190Z"
   },
   {
    "duration": 63,
    "start_time": "2024-07-09T15:11:29.568Z"
   },
   {
    "duration": 1050,
    "start_time": "2024-07-09T15:11:29.635Z"
   },
   {
    "duration": 255,
    "start_time": "2024-07-09T15:11:30.688Z"
   },
   {
    "duration": 27,
    "start_time": "2024-07-09T15:11:30.946Z"
   },
   {
    "duration": 55,
    "start_time": "2024-07-09T15:11:30.977Z"
   },
   {
    "duration": 19,
    "start_time": "2024-07-09T15:11:31.035Z"
   },
   {
    "duration": 15,
    "start_time": "2024-07-09T15:11:31.058Z"
   },
   {
    "duration": 5,
    "start_time": "2024-07-09T15:11:31.076Z"
   },
   {
    "duration": 1082,
    "start_time": "2024-07-09T15:11:31.084Z"
   },
   {
    "duration": 16,
    "start_time": "2024-07-09T15:11:32.169Z"
   },
   {
    "duration": 55,
    "start_time": "2024-07-09T15:11:32.187Z"
   },
   {
    "duration": 15,
    "start_time": "2024-07-09T15:11:32.245Z"
   },
   {
    "duration": 347,
    "start_time": "2024-07-09T15:11:32.266Z"
   },
   {
    "duration": 554,
    "start_time": "2024-07-09T15:11:32.617Z"
   },
   {
    "duration": 28,
    "start_time": "2024-07-09T15:11:33.174Z"
   },
   {
    "duration": 31,
    "start_time": "2024-07-09T15:11:33.205Z"
   },
   {
    "duration": 15,
    "start_time": "2024-07-09T15:11:33.240Z"
   },
   {
    "duration": 110,
    "start_time": "2024-07-09T15:11:33.259Z"
   },
   {
    "duration": 0,
    "start_time": "2024-07-09T15:11:33.372Z"
   },
   {
    "duration": 0,
    "start_time": "2024-07-09T15:11:33.374Z"
   },
   {
    "duration": 11,
    "start_time": "2024-07-09T15:12:23.265Z"
   },
   {
    "duration": 649,
    "start_time": "2024-07-09T15:13:44.248Z"
   },
   {
    "duration": 5,
    "start_time": "2024-07-09T15:13:54.383Z"
   },
   {
    "duration": 10,
    "start_time": "2024-07-09T15:14:38.542Z"
   },
   {
    "duration": 15,
    "start_time": "2024-07-09T15:15:05.773Z"
   },
   {
    "duration": 5,
    "start_time": "2024-07-09T15:16:23.016Z"
   },
   {
    "duration": 5,
    "start_time": "2024-07-09T15:16:50.516Z"
   },
   {
    "duration": 971,
    "start_time": "2024-07-09T15:18:15.241Z"
   },
   {
    "duration": 1146,
    "start_time": "2024-07-09T15:18:39.466Z"
   },
   {
    "duration": 1034,
    "start_time": "2024-07-09T15:18:53.625Z"
   },
   {
    "duration": 1061,
    "start_time": "2024-07-09T15:24:15.619Z"
   },
   {
    "duration": 1028,
    "start_time": "2024-07-09T15:30:33.132Z"
   },
   {
    "duration": 26,
    "start_time": "2024-07-09T15:31:15.492Z"
   },
   {
    "duration": 14,
    "start_time": "2024-07-09T15:31:40.509Z"
   },
   {
    "duration": 33,
    "start_time": "2024-07-09T15:31:40.793Z"
   },
   {
    "duration": 4,
    "start_time": "2024-07-09T15:35:27.821Z"
   },
   {
    "duration": 593,
    "start_time": "2024-07-09T15:35:28.061Z"
   },
   {
    "duration": 13,
    "start_time": "2024-07-09T15:35:28.659Z"
   },
   {
    "duration": 89,
    "start_time": "2024-07-09T15:35:28.675Z"
   },
   {
    "duration": 11,
    "start_time": "2024-07-09T15:35:28.768Z"
   },
   {
    "duration": 17,
    "start_time": "2024-07-09T15:35:28.782Z"
   },
   {
    "duration": 11,
    "start_time": "2024-07-09T15:35:28.834Z"
   },
   {
    "duration": 15,
    "start_time": "2024-07-09T15:35:28.924Z"
   },
   {
    "duration": 22,
    "start_time": "2024-07-09T15:35:29.237Z"
   },
   {
    "duration": 437,
    "start_time": "2024-07-09T15:35:29.375Z"
   },
   {
    "duration": 343,
    "start_time": "2024-07-09T15:35:29.817Z"
   },
   {
    "duration": 41,
    "start_time": "2024-07-09T15:35:30.163Z"
   },
   {
    "duration": 58,
    "start_time": "2024-07-09T15:35:30.208Z"
   },
   {
    "duration": 108,
    "start_time": "2024-07-09T15:35:30.269Z"
   },
   {
    "duration": 386,
    "start_time": "2024-07-09T15:35:30.381Z"
   },
   {
    "duration": 493,
    "start_time": "2024-07-09T15:35:30.770Z"
   },
   {
    "duration": 325,
    "start_time": "2024-07-09T15:35:31.266Z"
   },
   {
    "duration": 40,
    "start_time": "2024-07-09T15:35:31.593Z"
   },
   {
    "duration": 588,
    "start_time": "2024-07-09T15:35:31.637Z"
   },
   {
    "duration": 424,
    "start_time": "2024-07-09T15:35:32.235Z"
   },
   {
    "duration": 131,
    "start_time": "2024-07-09T15:35:32.662Z"
   },
   {
    "duration": 52,
    "start_time": "2024-07-09T15:35:32.796Z"
   },
   {
    "duration": 1181,
    "start_time": "2024-07-09T15:35:32.852Z"
   },
   {
    "duration": 400,
    "start_time": "2024-07-09T15:35:34.038Z"
   },
   {
    "duration": 21,
    "start_time": "2024-07-09T15:35:34.441Z"
   },
   {
    "duration": 23,
    "start_time": "2024-07-09T15:35:34.465Z"
   },
   {
    "duration": 47,
    "start_time": "2024-07-09T15:35:34.491Z"
   },
   {
    "duration": 57,
    "start_time": "2024-07-09T15:35:34.541Z"
   },
   {
    "duration": 388,
    "start_time": "2024-07-09T15:35:34.601Z"
   },
   {
    "duration": 66,
    "start_time": "2024-07-09T15:35:34.992Z"
   },
   {
    "duration": 1349,
    "start_time": "2024-07-09T15:35:35.061Z"
   },
   {
    "duration": 245,
    "start_time": "2024-07-09T15:35:36.414Z"
   },
   {
    "duration": 24,
    "start_time": "2024-07-09T15:35:36.665Z"
   },
   {
    "duration": 60,
    "start_time": "2024-07-09T15:35:36.693Z"
   },
   {
    "duration": 18,
    "start_time": "2024-07-09T15:35:36.756Z"
   },
   {
    "duration": 15,
    "start_time": "2024-07-09T15:35:36.776Z"
   },
   {
    "duration": 40,
    "start_time": "2024-07-09T15:35:36.794Z"
   },
   {
    "duration": 1011,
    "start_time": "2024-07-09T15:35:36.838Z"
   },
   {
    "duration": 18,
    "start_time": "2024-07-09T15:35:37.852Z"
   },
   {
    "duration": 22,
    "start_time": "2024-07-09T15:35:37.875Z"
   },
   {
    "duration": 43,
    "start_time": "2024-07-09T15:35:37.900Z"
   },
   {
    "duration": 331,
    "start_time": "2024-07-09T15:35:37.946Z"
   },
   {
    "duration": 486,
    "start_time": "2024-07-09T15:35:38.280Z"
   },
   {
    "duration": 23,
    "start_time": "2024-07-09T15:35:38.768Z"
   },
   {
    "duration": 32,
    "start_time": "2024-07-09T15:35:38.798Z"
   },
   {
    "duration": 17,
    "start_time": "2024-07-09T15:35:38.834Z"
   },
   {
    "duration": 7,
    "start_time": "2024-07-09T15:35:38.855Z"
   },
   {
    "duration": 12,
    "start_time": "2024-07-09T15:35:38.866Z"
   },
   {
    "duration": 63,
    "start_time": "2024-07-09T15:35:38.882Z"
   },
   {
    "duration": 5,
    "start_time": "2024-07-09T15:35:38.949Z"
   },
   {
    "duration": 1084,
    "start_time": "2024-07-09T15:35:38.959Z"
   },
   {
    "duration": 305,
    "start_time": "2024-07-09T18:30:43.019Z"
   },
   {
    "duration": 5023,
    "start_time": "2024-07-09T18:30:54.497Z"
   },
   {
    "duration": 687,
    "start_time": "2024-07-09T18:30:59.526Z"
   },
   {
    "duration": 16,
    "start_time": "2024-07-09T18:31:00.215Z"
   },
   {
    "duration": 83,
    "start_time": "2024-07-09T18:31:00.235Z"
   },
   {
    "duration": 12,
    "start_time": "2024-07-09T18:31:00.324Z"
   },
   {
    "duration": 18,
    "start_time": "2024-07-09T18:31:00.339Z"
   },
   {
    "duration": 48,
    "start_time": "2024-07-09T18:31:00.360Z"
   },
   {
    "duration": 15,
    "start_time": "2024-07-09T18:31:00.412Z"
   },
   {
    "duration": 23,
    "start_time": "2024-07-09T18:31:00.430Z"
   },
   {
    "duration": 469,
    "start_time": "2024-07-09T18:31:00.458Z"
   },
   {
    "duration": 497,
    "start_time": "2024-07-09T18:31:00.932Z"
   },
   {
    "duration": 313,
    "start_time": "2024-07-09T18:31:01.432Z"
   },
   {
    "duration": 38,
    "start_time": "2024-07-09T18:31:01.748Z"
   },
   {
    "duration": 54,
    "start_time": "2024-07-09T18:31:01.789Z"
   },
   {
    "duration": 516,
    "start_time": "2024-07-09T18:31:09.314Z"
   },
   {
    "duration": 549,
    "start_time": "2024-07-09T18:31:14.247Z"
   },
   {
    "duration": 305,
    "start_time": "2024-07-09T18:31:23.896Z"
   },
   {
    "duration": 47,
    "start_time": "2024-07-09T18:31:24.209Z"
   },
   {
    "duration": 100,
    "start_time": "2024-07-09T18:31:24.291Z"
   },
   {
    "duration": 96,
    "start_time": "2024-07-09T18:31:24.435Z"
   },
   {
    "duration": 395,
    "start_time": "2024-07-09T18:31:24.592Z"
   },
   {
    "duration": 503,
    "start_time": "2024-07-09T18:31:24.991Z"
   },
   {
    "duration": 339,
    "start_time": "2024-07-09T18:31:25.497Z"
   },
   {
    "duration": 25,
    "start_time": "2024-07-09T18:31:25.840Z"
   },
   {
    "duration": 569,
    "start_time": "2024-07-09T18:31:25.868Z"
   },
   {
    "duration": 431,
    "start_time": "2024-07-09T18:31:26.441Z"
   },
   {
    "duration": 124,
    "start_time": "2024-07-09T18:31:26.875Z"
   },
   {
    "duration": 38,
    "start_time": "2024-07-09T18:31:27.002Z"
   },
   {
    "duration": 1240,
    "start_time": "2024-07-09T18:31:27.045Z"
   },
   {
    "duration": 353,
    "start_time": "2024-07-09T18:31:28.289Z"
   },
   {
    "duration": 19,
    "start_time": "2024-07-09T18:31:28.645Z"
   },
   {
    "duration": 48,
    "start_time": "2024-07-09T18:31:28.667Z"
   },
   {
    "duration": 19,
    "start_time": "2024-07-09T18:31:28.718Z"
   },
   {
    "duration": 82,
    "start_time": "2024-07-09T18:31:28.740Z"
   },
   {
    "duration": 383,
    "start_time": "2024-07-09T18:31:28.825Z"
   },
   {
    "duration": 51,
    "start_time": "2024-07-09T18:31:29.214Z"
   },
   {
    "duration": 1081,
    "start_time": "2024-07-09T18:31:29.267Z"
   },
   {
    "duration": 239,
    "start_time": "2024-07-09T18:31:30.350Z"
   },
   {
    "duration": 27,
    "start_time": "2024-07-09T18:31:30.591Z"
   },
   {
    "duration": 27,
    "start_time": "2024-07-09T18:31:30.622Z"
   },
   {
    "duration": 18,
    "start_time": "2024-07-09T18:31:30.651Z"
   },
   {
    "duration": 14,
    "start_time": "2024-07-09T18:31:30.708Z"
   },
   {
    "duration": 5,
    "start_time": "2024-07-09T18:31:30.725Z"
   },
   {
    "duration": 1070,
    "start_time": "2024-07-09T18:31:30.734Z"
   },
   {
    "duration": 15,
    "start_time": "2024-07-09T18:31:31.809Z"
   },
   {
    "duration": 24,
    "start_time": "2024-07-09T18:31:31.828Z"
   },
   {
    "duration": 13,
    "start_time": "2024-07-09T18:31:31.856Z"
   },
   {
    "duration": 338,
    "start_time": "2024-07-09T18:31:31.909Z"
   },
   {
    "duration": 482,
    "start_time": "2024-07-09T18:31:32.251Z"
   },
   {
    "duration": 23,
    "start_time": "2024-07-09T18:31:32.736Z"
   },
   {
    "duration": 9,
    "start_time": "2024-07-09T18:31:32.762Z"
   },
   {
    "duration": 40,
    "start_time": "2024-07-09T18:31:32.776Z"
   },
   {
    "duration": 6,
    "start_time": "2024-07-09T18:31:32.819Z"
   },
   {
    "duration": 10,
    "start_time": "2024-07-09T18:31:32.829Z"
   },
   {
    "duration": 26,
    "start_time": "2024-07-09T18:31:32.842Z"
   },
   {
    "duration": 5,
    "start_time": "2024-07-09T18:31:33.054Z"
   },
   {
    "duration": 1043,
    "start_time": "2024-07-09T18:31:33.240Z"
   }
  ],
  "kernelspec": {
   "display_name": "Python 3 (ipykernel)",
   "language": "python",
   "name": "python3"
  },
  "language_info": {
   "codemirror_mode": {
    "name": "ipython",
    "version": 3
   },
   "file_extension": ".py",
   "mimetype": "text/x-python",
   "name": "python",
   "nbconvert_exporter": "python",
   "pygments_lexer": "ipython3",
   "version": "3.9.19"
  },
  "toc": {
   "base_numbering": 1,
   "nav_menu": {},
   "number_sections": true,
   "sideBar": true,
   "skip_h1_title": true,
   "title_cell": "Table of Contents",
   "title_sidebar": "Contents",
   "toc_cell": false,
   "toc_position": {},
   "toc_section_display": true,
   "toc_window_display": false
  }
 },
 "nbformat": 4,
 "nbformat_minor": 2
}
